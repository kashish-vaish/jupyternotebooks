{
  "nbformat": 4,
  "nbformat_minor": 0,
  "metadata": {
    "colab": {
      "provenance": []
    },
    "kernelspec": {
      "name": "python3",
      "display_name": "Python 3"
    },
    "language_info": {
      "name": "python"
    }
  },
  "cells": [
    {
      "cell_type": "code",
      "execution_count": null,
      "metadata": {
        "id": "rr0W0hwlbq3i"
      },
      "outputs": [],
      "source": [
        "#HackerRank Assessment - Read a massive text containing names of various encoding files, based on the encoding group them and write them.\n",
        "#The order in which they are read should not be changed.\n",
        "\n",
        "#File containing the information for various other encoded text files\n",
        "baseFilename = \"sample_assess.txt\"\n",
        "\n",
        "#Creating lists to hold file names\n",
        "c_list = []\n",
        "cpp_list = []\n",
        "cs_list = []\n",
        "\n",
        "#Creating file placeholders for different encodings\n",
        "c_filename = \"c_\" + baseFilename\n",
        "cpp_filename = \"cpp_\" + baseFilename\n",
        "cs_filename = \"cs_\" + baseFilename\n",
        "\n",
        "#Identifying each encoding and grouping them to add in the respective list\n",
        "with open(baseFilename) as file:\n",
        "    for line in file:\n",
        "      ext = line.split(\".\")[1]\n",
        "      if(ext.strip()==\"c\"):\n",
        "        c_list.append(line.strip())\n",
        "      elif(ext.strip()==\"cpp\"):\n",
        "        cpp_list.append(line.strip())\n",
        "      elif(ext.strip()==\"cs\"):\n",
        "        cs_list.append(line.strip())\n",
        "file.close()\n",
        "\n",
        "#Writing the files\n",
        "with open(c_filename, 'w') as filewrite:\n",
        "    for item in c_list:\n",
        "        filewrite.write(\"%s\\n\" % item)\n",
        "\n",
        "with open(cpp_filename, 'w') as filewrite:\n",
        "    for item in cpp_list:\n",
        "        filewrite.write(\"%s\\n\" % item)\n",
        "\n",
        "with open(cs_filename, 'w') as filewrite:\n",
        "    for item in cs_list:\n",
        "        filewrite.write(\"%s\\n\" % item)"
      ]
    }
  ]
}