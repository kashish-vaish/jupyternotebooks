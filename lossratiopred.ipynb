{
  "metadata": {
    "kernelspec": {
      "display_name": "Python 3",
      "language": "python",
      "name": "python3"
    },
    "language_info": {
      "name": "python",
      "version": "3.10.12",
      "mimetype": "text/x-python",
      "codemirror_mode": {
        "name": "ipython",
        "version": 3
      },
      "pygments_lexer": "ipython3",
      "nbconvert_exporter": "python",
      "file_extension": ".py"
    },
    "varInspector": {
      "cols": {
        "lenName": 16,
        "lenType": 16,
        "lenVar": 40
      },
      "kernels_config": {
        "python": {
          "delete_cmd_postfix": "",
          "delete_cmd_prefix": "del ",
          "library": "var_list.py",
          "varRefreshCmd": "print(var_dic_list())"
        },
        "r": {
          "delete_cmd_postfix": ") ",
          "delete_cmd_prefix": "rm(",
          "library": "var_list.r",
          "varRefreshCmd": "cat(var_dic_list()) "
        }
      },
      "types_to_exclude": [
        "module",
        "function",
        "builtin_function_or_method",
        "instance",
        "_Feature"
      ],
      "window_display": false
    },
    "kaggle": {
      "accelerator": "none",
      "dataSources": [
        {
          "sourceId": 6633651,
          "sourceType": "datasetVersion",
          "datasetId": 3829603
        },
        {
          "sourceId": 7045594,
          "sourceType": "datasetVersion",
          "datasetId": 4054250
        },
        {
          "sourceId": 7096711,
          "sourceType": "datasetVersion",
          "datasetId": 4090201
        }
      ],
      "dockerImageVersionId": 30587,
      "isInternetEnabled": true,
      "language": "python",
      "sourceType": "notebook",
      "isGpuEnabled": false
    },
    "colab": {
      "provenance": []
    }
  },
  "nbformat_minor": 0,
  "nbformat": 4,
  "cells": [
    {
      "cell_type": "markdown",
      "source": [
        "# Loss Ratio Prediction"
      ],
      "metadata": {
        "id": "40bowLb-ljF4"
      }
    },
    {
      "cell_type": "code",
      "source": [
        "import os\n",
        "import math\n",
        "import csv\n",
        "import collections\n",
        "import pdb\n",
        "\n",
        "import pandas as pd\n",
        "import numpy as np\n",
        "import matplotlib.pyplot as plt\n",
        "\n",
        "from sklearn.preprocessing import StandardScaler\n",
        "from sklearn.linear_model import LassoCV\n",
        "from sklearn.ensemble import RandomForestRegressor\n",
        "from sklearn.model_selection import cross_val_score\n",
        "from sklearn.preprocessing import LabelEncoder\n",
        "from sklearn.model_selection import train_test_split\n",
        "from sklearn.tree import DecisionTreeRegressor\n",
        "from sklearn.metrics import mean_absolute_error\n",
        "from sklearn.neighbors import KNeighborsRegressor\n",
        "\n",
        "%matplotlib inline"
      ],
      "metadata": {
        "execution": {
          "iopub.status.busy": "2023-12-02T04:25:12.896070Z",
          "iopub.execute_input": "2023-12-02T04:25:12.896380Z",
          "iopub.status.idle": "2023-12-02T04:25:12.904347Z",
          "shell.execute_reply.started": "2023-12-02T04:25:12.896358Z",
          "shell.execute_reply": "2023-12-02T04:25:12.903260Z"
        },
        "trusted": true,
        "id": "bRXD4I3cljF6"
      },
      "execution_count": null,
      "outputs": []
    },
    {
      "cell_type": "markdown",
      "source": [
        "## Load Dataset"
      ],
      "metadata": {
        "id": "Cu-K1yGoljF6"
      }
    },
    {
      "cell_type": "code",
      "source": [
        "path_training_dataset = \"/kaggle/input/trainingdataset/training_data.csv\"\n",
        "df_data = pd.read_csv(path_training_dataset)"
      ],
      "metadata": {
        "execution": {
          "iopub.status.busy": "2023-12-02T04:25:12.908136Z",
          "iopub.execute_input": "2023-12-02T04:25:12.908382Z",
          "iopub.status.idle": "2023-12-02T04:25:15.324211Z",
          "shell.execute_reply.started": "2023-12-02T04:25:12.908361Z",
          "shell.execute_reply": "2023-12-02T04:25:15.323347Z"
        },
        "trusted": true,
        "id": "L-Y3fTaEljF7",
        "outputId": "3769a6c8-6cab-4d4e-8923-00e99629ccc7"
      },
      "execution_count": null,
      "outputs": [
        {
          "name": "stderr",
          "text": "/tmp/ipykernel_47/1709787574.py:2: DtypeWarning: Columns (6,54) have mixed types. Specify dtype option on import or set low_memory=False.\n  df_data = pd.read_csv(path_training_dataset)\n",
          "output_type": "stream"
        }
      ]
    },
    {
      "cell_type": "code",
      "source": [
        "df_data.head()"
      ],
      "metadata": {
        "execution": {
          "iopub.status.busy": "2023-12-02T04:25:15.325500Z",
          "iopub.execute_input": "2023-12-02T04:25:15.325736Z",
          "iopub.status.idle": "2023-12-02T04:25:15.345400Z",
          "shell.execute_reply.started": "2023-12-02T04:25:15.325715Z",
          "shell.execute_reply": "2023-12-02T04:25:15.344595Z"
        },
        "trusted": true,
        "id": "JpStLa-QljF7",
        "outputId": "50daebc1-f057-4a9d-f1c2-70a94ad6ee5c"
      },
      "execution_count": null,
      "outputs": [
        {
          "execution_count": 93,
          "output_type": "execute_result",
          "data": {
            "text/plain": "    PolicyNo Policy_Company  Policy_Installment_Term  \\\n0  164532941      Standard                         6   \n1  164533241      Standard                         6   \n2  164534633      Standard                         6   \n3  164534839      Standard                         6   \n4  164534840      Standard                         6   \n\n        Policy_Billing_Code Policy_Method_Of_Payment  \\\n0  Direct Billed to Insured                 Pre-paid   \n1  Direct Billed to Insured                 Pre-paid   \n2  Direct Billed to Insured                 Pre-paid   \n3  Direct Billed to Insured                 Pre-paid   \n4  Direct Billed to Insured                 Pre-paid   \n\n  Policy_Reinstatement_Fee_Indicator Policy_Zip_Code_Garaging_Location  \\\n0                                  N                             43046   \n1                                  N                           Unknown   \n2                                  N                             43555   \n3                                  N                             43561   \n4                                  N                             43561   \n\n   Vehicle_Territory  Vehicle_Make_Year Vehicle_Make_Description  ...  \\\n0                 35               2004        BUIK LESABRE LI    ...   \n1                 35               1980        CADILLAC   4-DOOR  ...   \n2                 17               2005        PONT MONTANA SV    ...   \n3                 17               2005        MERC GRAND MARQ    ...   \n4                 17               2005        MERC GRAND MARQ    ...   \n\n  EEA_Prior_Bodily_Injury_Limit  EEA_PolicyYear  SYS_Renewed  \\\n0                       100-400            2006            Y   \n1                       100-200            2006            Y   \n2                       100-400            2006            Y   \n3                       40-100             2006            Y   \n4                       40-100             2006            Y   \n\n   SYS_New_Business Annual_Premium  Claim_Count  Loss_Amount Frequency  \\\n0                 N         320.12            0          0.0       0.0   \n1                 N         259.70            0          0.0       0.0   \n2                 N         613.74            0          0.0       0.0   \n3                 N         541.66            0          0.0       0.0   \n4                 N         541.66            0          0.0       0.0   \n\n  Severity Loss_Ratio  \n0      0.0        0.0  \n1      0.0        0.0  \n2      0.0        0.0  \n3      0.0        0.0  \n4      0.0        0.0  \n\n[5 rows x 69 columns]",
            "text/html": "<div>\n<style scoped>\n    .dataframe tbody tr th:only-of-type {\n        vertical-align: middle;\n    }\n\n    .dataframe tbody tr th {\n        vertical-align: top;\n    }\n\n    .dataframe thead th {\n        text-align: right;\n    }\n</style>\n<table border=\"1\" class=\"dataframe\">\n  <thead>\n    <tr style=\"text-align: right;\">\n      <th></th>\n      <th>PolicyNo</th>\n      <th>Policy_Company</th>\n      <th>Policy_Installment_Term</th>\n      <th>Policy_Billing_Code</th>\n      <th>Policy_Method_Of_Payment</th>\n      <th>Policy_Reinstatement_Fee_Indicator</th>\n      <th>Policy_Zip_Code_Garaging_Location</th>\n      <th>Vehicle_Territory</th>\n      <th>Vehicle_Make_Year</th>\n      <th>Vehicle_Make_Description</th>\n      <th>...</th>\n      <th>EEA_Prior_Bodily_Injury_Limit</th>\n      <th>EEA_PolicyYear</th>\n      <th>SYS_Renewed</th>\n      <th>SYS_New_Business</th>\n      <th>Annual_Premium</th>\n      <th>Claim_Count</th>\n      <th>Loss_Amount</th>\n      <th>Frequency</th>\n      <th>Severity</th>\n      <th>Loss_Ratio</th>\n    </tr>\n  </thead>\n  <tbody>\n    <tr>\n      <th>0</th>\n      <td>164532941</td>\n      <td>Standard</td>\n      <td>6</td>\n      <td>Direct Billed to Insured</td>\n      <td>Pre-paid</td>\n      <td>N</td>\n      <td>43046</td>\n      <td>35</td>\n      <td>2004</td>\n      <td>BUIK LESABRE LI</td>\n      <td>...</td>\n      <td>100-400</td>\n      <td>2006</td>\n      <td>Y</td>\n      <td>N</td>\n      <td>320.12</td>\n      <td>0</td>\n      <td>0.0</td>\n      <td>0.0</td>\n      <td>0.0</td>\n      <td>0.0</td>\n    </tr>\n    <tr>\n      <th>1</th>\n      <td>164533241</td>\n      <td>Standard</td>\n      <td>6</td>\n      <td>Direct Billed to Insured</td>\n      <td>Pre-paid</td>\n      <td>N</td>\n      <td>Unknown</td>\n      <td>35</td>\n      <td>1980</td>\n      <td>CADILLAC   4-DOOR</td>\n      <td>...</td>\n      <td>100-200</td>\n      <td>2006</td>\n      <td>Y</td>\n      <td>N</td>\n      <td>259.70</td>\n      <td>0</td>\n      <td>0.0</td>\n      <td>0.0</td>\n      <td>0.0</td>\n      <td>0.0</td>\n    </tr>\n    <tr>\n      <th>2</th>\n      <td>164534633</td>\n      <td>Standard</td>\n      <td>6</td>\n      <td>Direct Billed to Insured</td>\n      <td>Pre-paid</td>\n      <td>N</td>\n      <td>43555</td>\n      <td>17</td>\n      <td>2005</td>\n      <td>PONT MONTANA SV</td>\n      <td>...</td>\n      <td>100-400</td>\n      <td>2006</td>\n      <td>Y</td>\n      <td>N</td>\n      <td>613.74</td>\n      <td>0</td>\n      <td>0.0</td>\n      <td>0.0</td>\n      <td>0.0</td>\n      <td>0.0</td>\n    </tr>\n    <tr>\n      <th>3</th>\n      <td>164534839</td>\n      <td>Standard</td>\n      <td>6</td>\n      <td>Direct Billed to Insured</td>\n      <td>Pre-paid</td>\n      <td>N</td>\n      <td>43561</td>\n      <td>17</td>\n      <td>2005</td>\n      <td>MERC GRAND MARQ</td>\n      <td>...</td>\n      <td>40-100</td>\n      <td>2006</td>\n      <td>Y</td>\n      <td>N</td>\n      <td>541.66</td>\n      <td>0</td>\n      <td>0.0</td>\n      <td>0.0</td>\n      <td>0.0</td>\n      <td>0.0</td>\n    </tr>\n    <tr>\n      <th>4</th>\n      <td>164534840</td>\n      <td>Standard</td>\n      <td>6</td>\n      <td>Direct Billed to Insured</td>\n      <td>Pre-paid</td>\n      <td>N</td>\n      <td>43561</td>\n      <td>17</td>\n      <td>2005</td>\n      <td>MERC GRAND MARQ</td>\n      <td>...</td>\n      <td>40-100</td>\n      <td>2006</td>\n      <td>Y</td>\n      <td>N</td>\n      <td>541.66</td>\n      <td>0</td>\n      <td>0.0</td>\n      <td>0.0</td>\n      <td>0.0</td>\n      <td>0.0</td>\n    </tr>\n  </tbody>\n</table>\n<p>5 rows × 69 columns</p>\n</div>"
          },
          "metadata": {}
        }
      ]
    },
    {
      "cell_type": "code",
      "source": [
        "df_data.columns"
      ],
      "metadata": {
        "execution": {
          "iopub.status.busy": "2023-12-02T04:25:15.346181Z",
          "iopub.execute_input": "2023-12-02T04:25:15.346403Z",
          "iopub.status.idle": "2023-12-02T04:25:15.358203Z",
          "shell.execute_reply.started": "2023-12-02T04:25:15.346383Z",
          "shell.execute_reply": "2023-12-02T04:25:15.357251Z"
        },
        "trusted": true,
        "id": "XetIFhn1ljF7",
        "outputId": "5a5adfea-1489-4512-f01d-0c3115bb3093"
      },
      "execution_count": null,
      "outputs": [
        {
          "execution_count": 94,
          "output_type": "execute_result",
          "data": {
            "text/plain": "Index(['PolicyNo', 'Policy_Company', 'Policy_Installment_Term',\n       'Policy_Billing_Code', 'Policy_Method_Of_Payment',\n       'Policy_Reinstatement_Fee_Indicator',\n       'Policy_Zip_Code_Garaging_Location', 'Vehicle_Territory',\n       'Vehicle_Make_Year', 'Vehicle_Make_Description', 'Vehicle_Performance',\n       'Vehicle_New_Cost_Amount', 'Vehicle_Symbol',\n       'Vehicle_Number_Of_Drivers_Assigned', 'Vehicle_Usage',\n       'Vehicle_Miles_To_Work', 'Vehicle_Days_Per_Week_Driven',\n       'Vehicle_Annual_Miles', 'Vehicle_Anti_Theft_Device',\n       'Vehicle_Passive_Restraint', 'Vehicle_Age_In_Years',\n       'Vehicle_Med_Pay_Limit', 'Vehicle_Bodily_Injury_Limit',\n       'Vehicle_Physical_Damage_Limit',\n       'Vehicle_Comprehensive_Coverage_Indicator',\n       'Vehicle_Comprehensive_Coverage_Limit',\n       'Vehicle_Collision_Coverage_Indicator',\n       'Vehicle_Collision_Coverage_Deductible', 'Driver_Total',\n       'Driver_Total_Male', 'Driver_Total_Female', 'Driver_Total_Single',\n       'Driver_Total_Married', 'Driver_Total_Related_To_Insured_Self',\n       'Driver_Total_Related_To_Insured_Spouse',\n       'Driver_Total_Related_To_Insured_Child',\n       'Driver_Total_Licensed_In_State', 'Driver_Minimum_Age',\n       'Driver_Maximum_Age', 'Driver_Total_Teenager_Age_15_19',\n       'Driver_Total_College_Ages_20_23',\n       'Driver_Total_Young_Adult_Ages_24_29',\n       'Driver_Total_Low_Middle_Adult_Ages_30_39',\n       'Driver_Total_Middle_Adult_Ages_40_49', 'Driver_Total_Adult_Ages_50_64',\n       'Driver_Total_Senior_Ages_65_69',\n       'Driver_Total_Upper_Senior_Ages_70_plus',\n       'Vehicle_Youthful_Driver_Indicator',\n       'Vehicle_Youthful_Driver_Training_Code',\n       'Vehicle_Youthful_Good_Student_Code', 'Vehicle_Driver_Points',\n       'Vehicle_Safe_Driver_Discount_Indicator',\n       'EEA_Liability_Coverage_Only_Indicator',\n       'EEA_Multi_Auto_Policies_Indicator', 'EEA_Policy_Zip_Code_3',\n       'EEA_Policy_Tenure', 'EEA_Agency_Type', 'EEA_Packaged_Policy_Indicator',\n       'EEA_Full_Coverage_Indicator', 'EEA_Prior_Bodily_Injury_Limit',\n       'EEA_PolicyYear', 'SYS_Renewed', 'SYS_New_Business', 'Annual_Premium',\n       'Claim_Count', 'Loss_Amount', 'Frequency', 'Severity', 'Loss_Ratio'],\n      dtype='object')"
          },
          "metadata": {}
        }
      ]
    },
    {
      "cell_type": "markdown",
      "source": [
        "### Common Functions"
      ],
      "metadata": {
        "id": "3W9xHIyQljF8"
      }
    },
    {
      "cell_type": "code",
      "source": [
        "def get_selected_features(feature_list_file_path):\n",
        "    with open(feature_list_file_path) as f:\n",
        "        features_list = f.read().splitlines()\n",
        "        return features_list"
      ],
      "metadata": {
        "execution": {
          "iopub.status.busy": "2023-12-02T04:25:15.360092Z",
          "iopub.execute_input": "2023-12-02T04:25:15.360290Z",
          "iopub.status.idle": "2023-12-02T04:25:15.370518Z",
          "shell.execute_reply.started": "2023-12-02T04:25:15.360271Z",
          "shell.execute_reply": "2023-12-02T04:25:15.369906Z"
        },
        "trusted": true,
        "id": "3IdJtw25ljF8"
      },
      "execution_count": null,
      "outputs": []
    },
    {
      "cell_type": "code",
      "source": [
        "def strip_white_spaces(input_df):\n",
        "    columns = list(input_df.columns)\n",
        "    for column in columns:\n",
        "        input_df[column] = input_df[column].str.strip()\n",
        "    return input_df"
      ],
      "metadata": {
        "execution": {
          "iopub.status.busy": "2023-12-02T04:25:15.371269Z",
          "iopub.execute_input": "2023-12-02T04:25:15.371963Z",
          "iopub.status.idle": "2023-12-02T04:25:15.382367Z",
          "shell.execute_reply.started": "2023-12-02T04:25:15.371935Z",
          "shell.execute_reply": "2023-12-02T04:25:15.381642Z"
        },
        "trusted": true,
        "id": "j05pvahxljF8"
      },
      "execution_count": null,
      "outputs": []
    },
    {
      "cell_type": "code",
      "source": [
        "def convert_df_objects_to_str(df_dataset, df_columns):\n",
        "    for column in df_columns:\n",
        "        if df_dataset[column].dtype == 'object':\n",
        "            df_dataset[column] = df_dataset[column].astype(str)\n",
        "    return df_dataset"
      ],
      "metadata": {
        "execution": {
          "iopub.status.busy": "2023-12-02T04:25:15.383588Z",
          "iopub.execute_input": "2023-12-02T04:25:15.383801Z",
          "iopub.status.idle": "2023-12-02T04:25:15.393530Z",
          "shell.execute_reply.started": "2023-12-02T04:25:15.383778Z",
          "shell.execute_reply": "2023-12-02T04:25:15.392500Z"
        },
        "trusted": true,
        "id": "evOVai9mljF8"
      },
      "execution_count": null,
      "outputs": []
    },
    {
      "cell_type": "code",
      "source": [
        "def get_num_cat_features(df_dataset, df_columns):\n",
        "    categorical_variables = []\n",
        "    numerical_variables = []\n",
        "    for column in df_columns:\n",
        "        print(column)\n",
        "        if df_dataset[column].dtype == 'object':\n",
        "            categorical_variables.append(column)\n",
        "        else:\n",
        "            numerical_variables.append(column)\n",
        "    return numerical_variables, categorical_variables"
      ],
      "metadata": {
        "execution": {
          "iopub.status.busy": "2023-12-02T04:25:15.394290Z",
          "iopub.execute_input": "2023-12-02T04:25:15.394524Z",
          "iopub.status.idle": "2023-12-02T04:25:15.405145Z",
          "shell.execute_reply.started": "2023-12-02T04:25:15.394505Z",
          "shell.execute_reply": "2023-12-02T04:25:15.404207Z"
        },
        "trusted": true,
        "id": "Cg6NO8oBljF8"
      },
      "execution_count": null,
      "outputs": []
    },
    {
      "cell_type": "code",
      "source": [
        "selected_features_train = [\n",
        "    'Vehicle_Youthful_Good_Student_Code',\n",
        "    'Vehicle_Driver_Points',\n",
        "    'Vehicle_Age_In_Years',\n",
        "    'Driver_Total_Female',\n",
        "    'Driver_Total_Male',\n",
        "    'Driver_Total_Teenager_Age_15_19',\n",
        "    'Driver_Total_College_Ages_20_23',\n",
        "    'Driver_Total_Young_Adult_Ages_24_29',\n",
        "    'Driver_Total_Low_Middle_Adult_Ages_30_39',\n",
        "    'Driver_Total_Middle_Adult_Ages_40_49',\n",
        "    'Driver_Total_Adult_Ages_50_64',\n",
        "    'Driver_Total_Senior_Ages_65_69',\n",
        "    'Driver_Total_Upper_Senior_Ages_70_plus',\n",
        "    'Driver_Total_Married',\n",
        "    'Driver_Total_Single',\n",
        "    'Vehicle_Usage',\n",
        "    'Vehicle_Miles_To_Work',\n",
        "    'Vehicle_Territory',\n",
        "    'Annual_Premium',\n",
        "    'Loss_Amount']"
      ],
      "metadata": {
        "execution": {
          "iopub.status.busy": "2023-12-02T04:25:15.406379Z",
          "iopub.execute_input": "2023-12-02T04:25:15.406681Z",
          "iopub.status.idle": "2023-12-02T04:25:15.416621Z",
          "shell.execute_reply.started": "2023-12-02T04:25:15.406658Z",
          "shell.execute_reply": "2023-12-02T04:25:15.415919Z"
        },
        "trusted": true,
        "id": "Ge2tjqCcljF8"
      },
      "execution_count": null,
      "outputs": []
    },
    {
      "cell_type": "code",
      "source": [
        "df_data = df_data[selected_features_train]"
      ],
      "metadata": {
        "execution": {
          "iopub.status.busy": "2023-12-02T04:25:15.417376Z",
          "iopub.execute_input": "2023-12-02T04:25:15.417636Z",
          "iopub.status.idle": "2023-12-02T04:25:15.439851Z",
          "shell.execute_reply.started": "2023-12-02T04:25:15.417613Z",
          "shell.execute_reply": "2023-12-02T04:25:15.439215Z"
        },
        "trusted": true,
        "id": "S2WB__koljF8"
      },
      "execution_count": null,
      "outputs": []
    },
    {
      "cell_type": "code",
      "source": [
        "num_features, cat_features = get_num_cat_features(df_data, list(df_data.columns))"
      ],
      "metadata": {
        "execution": {
          "iopub.status.busy": "2023-12-02T04:25:15.442725Z",
          "iopub.execute_input": "2023-12-02T04:25:15.443215Z",
          "iopub.status.idle": "2023-12-02T04:25:15.448791Z",
          "shell.execute_reply.started": "2023-12-02T04:25:15.443193Z",
          "shell.execute_reply": "2023-12-02T04:25:15.447946Z"
        },
        "trusted": true,
        "id": "7vlkfKIQljF8",
        "outputId": "41198043-fe4e-407a-e42a-42551b5e747f"
      },
      "execution_count": null,
      "outputs": [
        {
          "name": "stdout",
          "text": "Vehicle_Youthful_Good_Student_Code\nVehicle_Driver_Points\nVehicle_Age_In_Years\nDriver_Total_Female\nDriver_Total_Male\nDriver_Total_Teenager_Age_15_19\nDriver_Total_College_Ages_20_23\nDriver_Total_Young_Adult_Ages_24_29\nDriver_Total_Low_Middle_Adult_Ages_30_39\nDriver_Total_Middle_Adult_Ages_40_49\nDriver_Total_Adult_Ages_50_64\nDriver_Total_Senior_Ages_65_69\nDriver_Total_Upper_Senior_Ages_70_plus\nDriver_Total_Married\nDriver_Total_Single\nVehicle_Usage\nVehicle_Miles_To_Work\nVehicle_Territory\nAnnual_Premium\nLoss_Amount\n",
          "output_type": "stream"
        }
      ]
    },
    {
      "cell_type": "code",
      "source": [
        "num_features"
      ],
      "metadata": {
        "execution": {
          "iopub.status.busy": "2023-12-02T04:25:15.449880Z",
          "iopub.execute_input": "2023-12-02T04:25:15.450173Z",
          "iopub.status.idle": "2023-12-02T04:25:15.460305Z",
          "shell.execute_reply.started": "2023-12-02T04:25:15.450152Z",
          "shell.execute_reply": "2023-12-02T04:25:15.459522Z"
        },
        "trusted": true,
        "id": "BLR0OMQHljF8",
        "outputId": "de528390-5409-49f3-8f4e-df9abf4b2502"
      },
      "execution_count": null,
      "outputs": [
        {
          "execution_count": 102,
          "output_type": "execute_result",
          "data": {
            "text/plain": "['Vehicle_Driver_Points',\n 'Vehicle_Age_In_Years',\n 'Driver_Total_Female',\n 'Driver_Total_Male',\n 'Driver_Total_Teenager_Age_15_19',\n 'Driver_Total_College_Ages_20_23',\n 'Driver_Total_Young_Adult_Ages_24_29',\n 'Driver_Total_Low_Middle_Adult_Ages_30_39',\n 'Driver_Total_Middle_Adult_Ages_40_49',\n 'Driver_Total_Adult_Ages_50_64',\n 'Driver_Total_Senior_Ages_65_69',\n 'Driver_Total_Upper_Senior_Ages_70_plus',\n 'Driver_Total_Married',\n 'Driver_Total_Single',\n 'Vehicle_Miles_To_Work',\n 'Vehicle_Territory',\n 'Annual_Premium',\n 'Loss_Amount']"
          },
          "metadata": {}
        }
      ]
    },
    {
      "cell_type": "code",
      "source": [
        "cat_features"
      ],
      "metadata": {
        "execution": {
          "iopub.status.busy": "2023-12-02T04:25:15.461315Z",
          "iopub.execute_input": "2023-12-02T04:25:15.462069Z",
          "iopub.status.idle": "2023-12-02T04:25:15.470737Z",
          "shell.execute_reply.started": "2023-12-02T04:25:15.462048Z",
          "shell.execute_reply": "2023-12-02T04:25:15.470033Z"
        },
        "trusted": true,
        "id": "v2rFwrVTljF9",
        "outputId": "30c7b54a-499a-4bf6-ac30-9cb23e6ccb68"
      },
      "execution_count": null,
      "outputs": [
        {
          "execution_count": 103,
          "output_type": "execute_result",
          "data": {
            "text/plain": "['Vehicle_Youthful_Good_Student_Code', 'Vehicle_Usage']"
          },
          "metadata": {}
        }
      ]
    },
    {
      "cell_type": "markdown",
      "source": [
        "### Cleaning Training Dataset"
      ],
      "metadata": {
        "id": "zLUflLu5ljF9"
      }
    },
    {
      "cell_type": "code",
      "source": [
        "df_num = df_data[num_features]\n",
        "df_num.head()"
      ],
      "metadata": {
        "execution": {
          "iopub.status.busy": "2023-12-02T04:25:15.471776Z",
          "iopub.execute_input": "2023-12-02T04:25:15.472352Z",
          "iopub.status.idle": "2023-12-02T04:25:15.498045Z",
          "shell.execute_reply.started": "2023-12-02T04:25:15.472326Z",
          "shell.execute_reply": "2023-12-02T04:25:15.497081Z"
        },
        "trusted": true,
        "id": "IIGiZPKCljF9",
        "outputId": "8a26ca7d-f50a-43b8-9910-07d15abb3311"
      },
      "execution_count": null,
      "outputs": [
        {
          "execution_count": 104,
          "output_type": "execute_result",
          "data": {
            "text/plain": "   Vehicle_Driver_Points  Vehicle_Age_In_Years  Driver_Total_Female  \\\n0                      0                     3                    1   \n1                      0                     9                    1   \n2                      0                     2                    0   \n3                      0                     2                    0   \n4                      0                     2                    0   \n\n   Driver_Total_Male  Driver_Total_Teenager_Age_15_19  \\\n0                  0                                0   \n1                  0                                0   \n2                  1                                0   \n3                  1                                0   \n4                  1                                0   \n\n   Driver_Total_College_Ages_20_23  Driver_Total_Young_Adult_Ages_24_29  \\\n0                                0                                    0   \n1                                0                                    0   \n2                                0                                    0   \n3                                0                                    0   \n4                                0                                    0   \n\n   Driver_Total_Low_Middle_Adult_Ages_30_39  \\\n0                                         0   \n1                                         0   \n2                                         0   \n3                                         0   \n4                                         0   \n\n   Driver_Total_Middle_Adult_Ages_40_49  Driver_Total_Adult_Ages_50_64  \\\n0                                     0                              0   \n1                                     0                              0   \n2                                     0                              0   \n3                                     0                              0   \n4                                     0                              0   \n\n   Driver_Total_Senior_Ages_65_69  Driver_Total_Upper_Senior_Ages_70_plus  \\\n0                               0                                       1   \n1                               0                                       1   \n2                               0                                       1   \n3                               0                                       1   \n4                               0                                       1   \n\n   Driver_Total_Married  Driver_Total_Single  Vehicle_Miles_To_Work  \\\n0                     0                    0                     -1   \n1                     1                    0                     -1   \n2                     1                    0                     -1   \n3                     1                    0                     -1   \n4                     1                    0                     -1   \n\n   Vehicle_Territory  Annual_Premium  Loss_Amount  \n0                 35          320.12          0.0  \n1                 35          259.70          0.0  \n2                 17          613.74          0.0  \n3                 17          541.66          0.0  \n4                 17          541.66          0.0  ",
            "text/html": "<div>\n<style scoped>\n    .dataframe tbody tr th:only-of-type {\n        vertical-align: middle;\n    }\n\n    .dataframe tbody tr th {\n        vertical-align: top;\n    }\n\n    .dataframe thead th {\n        text-align: right;\n    }\n</style>\n<table border=\"1\" class=\"dataframe\">\n  <thead>\n    <tr style=\"text-align: right;\">\n      <th></th>\n      <th>Vehicle_Driver_Points</th>\n      <th>Vehicle_Age_In_Years</th>\n      <th>Driver_Total_Female</th>\n      <th>Driver_Total_Male</th>\n      <th>Driver_Total_Teenager_Age_15_19</th>\n      <th>Driver_Total_College_Ages_20_23</th>\n      <th>Driver_Total_Young_Adult_Ages_24_29</th>\n      <th>Driver_Total_Low_Middle_Adult_Ages_30_39</th>\n      <th>Driver_Total_Middle_Adult_Ages_40_49</th>\n      <th>Driver_Total_Adult_Ages_50_64</th>\n      <th>Driver_Total_Senior_Ages_65_69</th>\n      <th>Driver_Total_Upper_Senior_Ages_70_plus</th>\n      <th>Driver_Total_Married</th>\n      <th>Driver_Total_Single</th>\n      <th>Vehicle_Miles_To_Work</th>\n      <th>Vehicle_Territory</th>\n      <th>Annual_Premium</th>\n      <th>Loss_Amount</th>\n    </tr>\n  </thead>\n  <tbody>\n    <tr>\n      <th>0</th>\n      <td>0</td>\n      <td>3</td>\n      <td>1</td>\n      <td>0</td>\n      <td>0</td>\n      <td>0</td>\n      <td>0</td>\n      <td>0</td>\n      <td>0</td>\n      <td>0</td>\n      <td>0</td>\n      <td>1</td>\n      <td>0</td>\n      <td>0</td>\n      <td>-1</td>\n      <td>35</td>\n      <td>320.12</td>\n      <td>0.0</td>\n    </tr>\n    <tr>\n      <th>1</th>\n      <td>0</td>\n      <td>9</td>\n      <td>1</td>\n      <td>0</td>\n      <td>0</td>\n      <td>0</td>\n      <td>0</td>\n      <td>0</td>\n      <td>0</td>\n      <td>0</td>\n      <td>0</td>\n      <td>1</td>\n      <td>1</td>\n      <td>0</td>\n      <td>-1</td>\n      <td>35</td>\n      <td>259.70</td>\n      <td>0.0</td>\n    </tr>\n    <tr>\n      <th>2</th>\n      <td>0</td>\n      <td>2</td>\n      <td>0</td>\n      <td>1</td>\n      <td>0</td>\n      <td>0</td>\n      <td>0</td>\n      <td>0</td>\n      <td>0</td>\n      <td>0</td>\n      <td>0</td>\n      <td>1</td>\n      <td>1</td>\n      <td>0</td>\n      <td>-1</td>\n      <td>17</td>\n      <td>613.74</td>\n      <td>0.0</td>\n    </tr>\n    <tr>\n      <th>3</th>\n      <td>0</td>\n      <td>2</td>\n      <td>0</td>\n      <td>1</td>\n      <td>0</td>\n      <td>0</td>\n      <td>0</td>\n      <td>0</td>\n      <td>0</td>\n      <td>0</td>\n      <td>0</td>\n      <td>1</td>\n      <td>1</td>\n      <td>0</td>\n      <td>-1</td>\n      <td>17</td>\n      <td>541.66</td>\n      <td>0.0</td>\n    </tr>\n    <tr>\n      <th>4</th>\n      <td>0</td>\n      <td>2</td>\n      <td>0</td>\n      <td>1</td>\n      <td>0</td>\n      <td>0</td>\n      <td>0</td>\n      <td>0</td>\n      <td>0</td>\n      <td>0</td>\n      <td>0</td>\n      <td>1</td>\n      <td>1</td>\n      <td>0</td>\n      <td>-1</td>\n      <td>17</td>\n      <td>541.66</td>\n      <td>0.0</td>\n    </tr>\n  </tbody>\n</table>\n</div>"
          },
          "metadata": {}
        }
      ]
    },
    {
      "cell_type": "code",
      "source": [
        "df_cat = df_data[cat_features]\n",
        "df_cat.head()"
      ],
      "metadata": {
        "execution": {
          "iopub.status.busy": "2023-12-02T04:25:15.499146Z",
          "iopub.execute_input": "2023-12-02T04:25:15.499405Z",
          "iopub.status.idle": "2023-12-02T04:25:15.520678Z",
          "shell.execute_reply.started": "2023-12-02T04:25:15.499382Z",
          "shell.execute_reply": "2023-12-02T04:25:15.520035Z"
        },
        "trusted": true,
        "id": "ItB54HDbljF9",
        "outputId": "b241c6ac-c418-434b-c9e6-d0a7094cbe8a"
      },
      "execution_count": null,
      "outputs": [
        {
          "execution_count": 105,
          "output_type": "execute_result",
          "data": {
            "text/plain": "     Vehicle_Youthful_Good_Student_Code Vehicle_Usage\n0  Not Eligible for Good Student Credit      Farm    \n1  Not Eligible for Good Student Credit      Farm    \n2  Not Eligible for Good Student Credit      Pleasure\n3  Not Eligible for Good Student Credit      Pleasure\n4  Not Eligible for Good Student Credit      Pleasure",
            "text/html": "<div>\n<style scoped>\n    .dataframe tbody tr th:only-of-type {\n        vertical-align: middle;\n    }\n\n    .dataframe tbody tr th {\n        vertical-align: top;\n    }\n\n    .dataframe thead th {\n        text-align: right;\n    }\n</style>\n<table border=\"1\" class=\"dataframe\">\n  <thead>\n    <tr style=\"text-align: right;\">\n      <th></th>\n      <th>Vehicle_Youthful_Good_Student_Code</th>\n      <th>Vehicle_Usage</th>\n    </tr>\n  </thead>\n  <tbody>\n    <tr>\n      <th>0</th>\n      <td>Not Eligible for Good Student Credit</td>\n      <td>Farm</td>\n    </tr>\n    <tr>\n      <th>1</th>\n      <td>Not Eligible for Good Student Credit</td>\n      <td>Farm</td>\n    </tr>\n    <tr>\n      <th>2</th>\n      <td>Not Eligible for Good Student Credit</td>\n      <td>Pleasure</td>\n    </tr>\n    <tr>\n      <th>3</th>\n      <td>Not Eligible for Good Student Credit</td>\n      <td>Pleasure</td>\n    </tr>\n    <tr>\n      <th>4</th>\n      <td>Not Eligible for Good Student Credit</td>\n      <td>Pleasure</td>\n    </tr>\n  </tbody>\n</table>\n</div>"
          },
          "metadata": {}
        }
      ]
    },
    {
      "cell_type": "code",
      "source": [
        "df_cat_strip = strip_white_spaces(df_cat)"
      ],
      "metadata": {
        "execution": {
          "iopub.status.busy": "2023-12-02T04:25:15.521878Z",
          "iopub.execute_input": "2023-12-02T04:25:15.522124Z",
          "iopub.status.idle": "2023-12-02T04:25:15.745253Z",
          "shell.execute_reply.started": "2023-12-02T04:25:15.522104Z",
          "shell.execute_reply": "2023-12-02T04:25:15.744205Z"
        },
        "trusted": true,
        "id": "7D7qUfcIljF9",
        "outputId": "48f2b305-bea7-4823-ed70-33eaa458f8fa"
      },
      "execution_count": null,
      "outputs": [
        {
          "name": "stderr",
          "text": "/tmp/ipykernel_47/2427808540.py:4: SettingWithCopyWarning: \nA value is trying to be set on a copy of a slice from a DataFrame.\nTry using .loc[row_indexer,col_indexer] = value instead\n\nSee the caveats in the documentation: https://pandas.pydata.org/pandas-docs/stable/user_guide/indexing.html#returning-a-view-versus-a-copy\n  input_df[column] = input_df[column].str.strip()\n",
          "output_type": "stream"
        }
      ]
    },
    {
      "cell_type": "code",
      "source": [
        "df_data_clean = df_num.join(df_cat, how='outer')"
      ],
      "metadata": {
        "execution": {
          "iopub.status.busy": "2023-12-02T04:25:15.746504Z",
          "iopub.execute_input": "2023-12-02T04:25:15.746754Z",
          "iopub.status.idle": "2023-12-02T04:25:15.759818Z",
          "shell.execute_reply.started": "2023-12-02T04:25:15.746732Z",
          "shell.execute_reply": "2023-12-02T04:25:15.759022Z"
        },
        "trusted": true,
        "id": "3u1aXR6vljF9"
      },
      "execution_count": null,
      "outputs": []
    },
    {
      "cell_type": "code",
      "source": [
        "df_data_clean.head()"
      ],
      "metadata": {
        "scrolled": true,
        "execution": {
          "iopub.status.busy": "2023-12-02T04:25:15.760832Z",
          "iopub.execute_input": "2023-12-02T04:25:15.761653Z",
          "iopub.status.idle": "2023-12-02T04:25:15.778624Z",
          "shell.execute_reply.started": "2023-12-02T04:25:15.761631Z",
          "shell.execute_reply": "2023-12-02T04:25:15.777400Z"
        },
        "trusted": true,
        "id": "6LfTl6XzljF9",
        "outputId": "3f71fd57-0c42-4a83-ab79-8fad81f8fcf0"
      },
      "execution_count": null,
      "outputs": [
        {
          "execution_count": 108,
          "output_type": "execute_result",
          "data": {
            "text/plain": "   Vehicle_Driver_Points  Vehicle_Age_In_Years  Driver_Total_Female  \\\n0                      0                     3                    1   \n1                      0                     9                    1   \n2                      0                     2                    0   \n3                      0                     2                    0   \n4                      0                     2                    0   \n\n   Driver_Total_Male  Driver_Total_Teenager_Age_15_19  \\\n0                  0                                0   \n1                  0                                0   \n2                  1                                0   \n3                  1                                0   \n4                  1                                0   \n\n   Driver_Total_College_Ages_20_23  Driver_Total_Young_Adult_Ages_24_29  \\\n0                                0                                    0   \n1                                0                                    0   \n2                                0                                    0   \n3                                0                                    0   \n4                                0                                    0   \n\n   Driver_Total_Low_Middle_Adult_Ages_30_39  \\\n0                                         0   \n1                                         0   \n2                                         0   \n3                                         0   \n4                                         0   \n\n   Driver_Total_Middle_Adult_Ages_40_49  Driver_Total_Adult_Ages_50_64  \\\n0                                     0                              0   \n1                                     0                              0   \n2                                     0                              0   \n3                                     0                              0   \n4                                     0                              0   \n\n   Driver_Total_Senior_Ages_65_69  Driver_Total_Upper_Senior_Ages_70_plus  \\\n0                               0                                       1   \n1                               0                                       1   \n2                               0                                       1   \n3                               0                                       1   \n4                               0                                       1   \n\n   Driver_Total_Married  Driver_Total_Single  Vehicle_Miles_To_Work  \\\n0                     0                    0                     -1   \n1                     1                    0                     -1   \n2                     1                    0                     -1   \n3                     1                    0                     -1   \n4                     1                    0                     -1   \n\n   Vehicle_Territory  Annual_Premium  Loss_Amount  \\\n0                 35          320.12          0.0   \n1                 35          259.70          0.0   \n2                 17          613.74          0.0   \n3                 17          541.66          0.0   \n4                 17          541.66          0.0   \n\n     Vehicle_Youthful_Good_Student_Code Vehicle_Usage  \n0  Not Eligible for Good Student Credit          Farm  \n1  Not Eligible for Good Student Credit          Farm  \n2  Not Eligible for Good Student Credit      Pleasure  \n3  Not Eligible for Good Student Credit      Pleasure  \n4  Not Eligible for Good Student Credit      Pleasure  ",
            "text/html": "<div>\n<style scoped>\n    .dataframe tbody tr th:only-of-type {\n        vertical-align: middle;\n    }\n\n    .dataframe tbody tr th {\n        vertical-align: top;\n    }\n\n    .dataframe thead th {\n        text-align: right;\n    }\n</style>\n<table border=\"1\" class=\"dataframe\">\n  <thead>\n    <tr style=\"text-align: right;\">\n      <th></th>\n      <th>Vehicle_Driver_Points</th>\n      <th>Vehicle_Age_In_Years</th>\n      <th>Driver_Total_Female</th>\n      <th>Driver_Total_Male</th>\n      <th>Driver_Total_Teenager_Age_15_19</th>\n      <th>Driver_Total_College_Ages_20_23</th>\n      <th>Driver_Total_Young_Adult_Ages_24_29</th>\n      <th>Driver_Total_Low_Middle_Adult_Ages_30_39</th>\n      <th>Driver_Total_Middle_Adult_Ages_40_49</th>\n      <th>Driver_Total_Adult_Ages_50_64</th>\n      <th>Driver_Total_Senior_Ages_65_69</th>\n      <th>Driver_Total_Upper_Senior_Ages_70_plus</th>\n      <th>Driver_Total_Married</th>\n      <th>Driver_Total_Single</th>\n      <th>Vehicle_Miles_To_Work</th>\n      <th>Vehicle_Territory</th>\n      <th>Annual_Premium</th>\n      <th>Loss_Amount</th>\n      <th>Vehicle_Youthful_Good_Student_Code</th>\n      <th>Vehicle_Usage</th>\n    </tr>\n  </thead>\n  <tbody>\n    <tr>\n      <th>0</th>\n      <td>0</td>\n      <td>3</td>\n      <td>1</td>\n      <td>0</td>\n      <td>0</td>\n      <td>0</td>\n      <td>0</td>\n      <td>0</td>\n      <td>0</td>\n      <td>0</td>\n      <td>0</td>\n      <td>1</td>\n      <td>0</td>\n      <td>0</td>\n      <td>-1</td>\n      <td>35</td>\n      <td>320.12</td>\n      <td>0.0</td>\n      <td>Not Eligible for Good Student Credit</td>\n      <td>Farm</td>\n    </tr>\n    <tr>\n      <th>1</th>\n      <td>0</td>\n      <td>9</td>\n      <td>1</td>\n      <td>0</td>\n      <td>0</td>\n      <td>0</td>\n      <td>0</td>\n      <td>0</td>\n      <td>0</td>\n      <td>0</td>\n      <td>0</td>\n      <td>1</td>\n      <td>1</td>\n      <td>0</td>\n      <td>-1</td>\n      <td>35</td>\n      <td>259.70</td>\n      <td>0.0</td>\n      <td>Not Eligible for Good Student Credit</td>\n      <td>Farm</td>\n    </tr>\n    <tr>\n      <th>2</th>\n      <td>0</td>\n      <td>2</td>\n      <td>0</td>\n      <td>1</td>\n      <td>0</td>\n      <td>0</td>\n      <td>0</td>\n      <td>0</td>\n      <td>0</td>\n      <td>0</td>\n      <td>0</td>\n      <td>1</td>\n      <td>1</td>\n      <td>0</td>\n      <td>-1</td>\n      <td>17</td>\n      <td>613.74</td>\n      <td>0.0</td>\n      <td>Not Eligible for Good Student Credit</td>\n      <td>Pleasure</td>\n    </tr>\n    <tr>\n      <th>3</th>\n      <td>0</td>\n      <td>2</td>\n      <td>0</td>\n      <td>1</td>\n      <td>0</td>\n      <td>0</td>\n      <td>0</td>\n      <td>0</td>\n      <td>0</td>\n      <td>0</td>\n      <td>0</td>\n      <td>1</td>\n      <td>1</td>\n      <td>0</td>\n      <td>-1</td>\n      <td>17</td>\n      <td>541.66</td>\n      <td>0.0</td>\n      <td>Not Eligible for Good Student Credit</td>\n      <td>Pleasure</td>\n    </tr>\n    <tr>\n      <th>4</th>\n      <td>0</td>\n      <td>2</td>\n      <td>0</td>\n      <td>1</td>\n      <td>0</td>\n      <td>0</td>\n      <td>0</td>\n      <td>0</td>\n      <td>0</td>\n      <td>0</td>\n      <td>0</td>\n      <td>1</td>\n      <td>1</td>\n      <td>0</td>\n      <td>-1</td>\n      <td>17</td>\n      <td>541.66</td>\n      <td>0.0</td>\n      <td>Not Eligible for Good Student Credit</td>\n      <td>Pleasure</td>\n    </tr>\n  </tbody>\n</table>\n</div>"
          },
          "metadata": {}
        }
      ]
    },
    {
      "cell_type": "markdown",
      "source": [
        "### Find useful features"
      ],
      "metadata": {
        "id": "siZ0vdt3ljF9"
      }
    },
    {
      "cell_type": "code",
      "source": [
        "def get_unique_values_with_count(df_input):\n",
        "    columns = df_input.columns\n",
        "    for column in columns:\n",
        "        unique_value_count = df_input[column].value_counts()\n",
        "        print(column)\n",
        "        print()\n",
        "        print(unique_value_count)\n",
        "        print('--'*50)"
      ],
      "metadata": {
        "execution": {
          "iopub.status.busy": "2023-12-02T04:25:15.780037Z",
          "iopub.execute_input": "2023-12-02T04:25:15.780883Z",
          "iopub.status.idle": "2023-12-02T04:25:15.785924Z",
          "shell.execute_reply.started": "2023-12-02T04:25:15.780847Z",
          "shell.execute_reply": "2023-12-02T04:25:15.784920Z"
        },
        "trusted": true,
        "id": "CUS1G_HyljF9"
      },
      "execution_count": null,
      "outputs": []
    },
    {
      "cell_type": "code",
      "source": [
        "get_unique_values_with_count(df_data)"
      ],
      "metadata": {
        "execution": {
          "iopub.status.busy": "2023-12-02T04:25:15.787390Z",
          "iopub.execute_input": "2023-12-02T04:25:15.787939Z",
          "iopub.status.idle": "2023-12-02T04:25:15.924657Z",
          "shell.execute_reply.started": "2023-12-02T04:25:15.787908Z",
          "shell.execute_reply": "2023-12-02T04:25:15.924019Z"
        },
        "trusted": true,
        "id": "ig-vGfZ3ljF9",
        "outputId": "f408f9e5-5ea8-4ba0-bfb9-7f730ba51b2b"
      },
      "execution_count": null,
      "outputs": [
        {
          "name": "stdout",
          "text": "Vehicle_Youthful_Good_Student_Code\n\nVehicle_Youthful_Good_Student_Code\nNot Eligible for Good Student Credit    418562\nEligible for Good Student Credit          5869\nName: count, dtype: int64\n----------------------------------------------------------------------------------------------------\nVehicle_Driver_Points\n\nVehicle_Driver_Points\n0    381289\n1     36431\n2      5905\n3       670\n4       108\n5        21\n6         5\n7         2\nName: count, dtype: int64\n----------------------------------------------------------------------------------------------------\nVehicle_Age_In_Years\n\nVehicle_Age_In_Years\n9    225601\n8     28145\n7     28094\n5     27122\n6     26797\n4     25740\n3     24604\n2     23057\n1     15271\nName: count, dtype: int64\n----------------------------------------------------------------------------------------------------\nDriver_Total_Female\n\nDriver_Total_Female\n1    238676\n0    181914\n2      3837\n3         4\nName: count, dtype: int64\n----------------------------------------------------------------------------------------------------\nDriver_Total_Male\n\nDriver_Total_Male\n1    222967\n0    198925\n2      2537\n3         2\nName: count, dtype: int64\n----------------------------------------------------------------------------------------------------\nDriver_Total_Teenager_Age_15_19\n\nDriver_Total_Teenager_Age_15_19\n0    407343\n1     16957\n2       131\nName: count, dtype: int64\n----------------------------------------------------------------------------------------------------\nDriver_Total_College_Ages_20_23\n\nDriver_Total_College_Ages_20_23\n0    405549\n1     18399\n2       483\nName: count, dtype: int64\n----------------------------------------------------------------------------------------------------\nDriver_Total_Young_Adult_Ages_24_29\n\nDriver_Total_Young_Adult_Ages_24_29\n0    389360\n1     33055\n2      2016\nName: count, dtype: int64\n----------------------------------------------------------------------------------------------------\nDriver_Total_Low_Middle_Adult_Ages_30_39\n\nDriver_Total_Low_Middle_Adult_Ages_30_39\n0    339962\n1     78941\n2      5527\n3         1\nName: count, dtype: int64\n----------------------------------------------------------------------------------------------------\nDriver_Total_Middle_Adult_Ages_40_49\n\nDriver_Total_Middle_Adult_Ages_40_49\n0    317015\n1    101906\n2      5509\n3         1\nName: count, dtype: int64\n----------------------------------------------------------------------------------------------------\nDriver_Total_Adult_Ages_50_64\n\nDriver_Total_Adult_Ages_50_64\n0    301761\n1    114548\n2      8120\n4         1\n3         1\nName: count, dtype: int64\n----------------------------------------------------------------------------------------------------\nDriver_Total_Senior_Ages_65_69\n\nDriver_Total_Senior_Ages_65_69\n0    399279\n1     24225\n2       927\nName: count, dtype: int64\n----------------------------------------------------------------------------------------------------\nDriver_Total_Upper_Senior_Ages_70_plus\n\nDriver_Total_Upper_Senior_Ages_70_plus\n0    385964\n1     35996\n2      2471\nName: count, dtype: int64\n----------------------------------------------------------------------------------------------------\nDriver_Total_Married\n\nDriver_Total_Married\n1    221521\n0    165677\n2     37224\n3         6\n4         3\nName: count, dtype: int64\n----------------------------------------------------------------------------------------------------\nDriver_Total_Single\n\nDriver_Total_Single\n0    324055\n1     98170\n2      2201\n3         5\nName: count, dtype: int64\n----------------------------------------------------------------------------------------------------\nVehicle_Usage\n\nVehicle_Usage\nPleasure    227389\nWork        155103\nFarm         39141\nBusiness      2798\nName: count, dtype: int64\n----------------------------------------------------------------------------------------------------\nVehicle_Miles_To_Work\n\nVehicle_Miles_To_Work\n-1     266232\n 10     30906\n 5      18533\n 12     12986\n 8      11489\n        ...  \n 61         1\n 93         1\n 67         1\n 98         1\n 59         1\nName: count, Length: 80, dtype: int64\n----------------------------------------------------------------------------------------------------\nVehicle_Territory\n\nVehicle_Territory\n31    180388\n35    107854\n30     70212\n27     16609\n32      9381\n37      9041\n17      5335\n13      4836\n26      4346\n20      3415\n36      3273\n16      2850\n19      2054\n18      1908\n15      1893\n22      1036\nName: count, dtype: int64\n----------------------------------------------------------------------------------------------------\nAnnual_Premium\n\nAnnual_Premium\n120.84    3687\n124.02    2542\n133.56    2437\n135.68    2363\n130.38    2343\n          ... \n270.00       1\n316.38       1\n225.92       1\n183.48       1\n118.21       1\nName: count, Length: 24777, dtype: int64\n----------------------------------------------------------------------------------------------------\nLoss_Amount\n\nLoss_Amount\n0.00        405562\n54.50         1463\n1090.00        260\n49.05          212\n43.60          102\n             ...  \n1079.78          1\n2736.56          1\n1148.59          1\n16203.53         1\n571.19           1\nName: count, Length: 15891, dtype: int64\n----------------------------------------------------------------------------------------------------\n",
          "output_type": "stream"
        }
      ]
    },
    {
      "cell_type": "markdown",
      "source": [
        "### Features to be used in portfolio"
      ],
      "metadata": {
        "id": "TbLpnyiNljF9"
      }
    },
    {
      "cell_type": "markdown",
      "source": [
        "- Vehicle_Make_Year_Mean\n",
        "- Vehicle_Performance_Standard_Minus_all\n",
        "- Vehicle_Number_Of_Drivers_Assigned_Mean_Ignore_gt_10\n",
        "- Vehicle_Usage_Pleasure_Minus_all\n",
        "- Vehicle_Anti_Theft_Device_anything_but_not_applicable\n",
        "- Vehicle_Age_In_Years_Mean\n",
        "- Vehicle_Collision_Coverage_Indicator_Y_minus_N\n",
        "- Driver_Total_Single_Sum_not_include_0\n",
        "- Driver_Total_Mean\n",
        "- Driver_Total_Male_Mean\n",
        "- Driver_Total_Female_Mean\n",
        "- Driver_Total_Married_Mean\n",
        "- Driver_Total_Teenager_Age_15_19_Mean\n",
        "- Driver_Total_College_Ages_20_23_Sum\n",
        "- Driver_Total_Young_Adult_Ages_24_29_Mean\n",
        "- Driver_Total_Upper_Senior_Ages_70_plus_Mean\n",
        "- Annual_Premium_Sum"
      ],
      "metadata": {
        "id": "BDVjmNGxljF9"
      }
    },
    {
      "cell_type": "code",
      "source": [
        "selected_features_test = ['Vehicle_Make_Year',\n",
        "                        'Vehicle_Number_Of_Drivers_Assigned',\n",
        "                        'Vehicle_Age_In_Years',\n",
        "                        'Driver_Total_Single',\n",
        "                        'Driver_Total',\n",
        "                        'Driver_Total_Male',\n",
        "                        'Driver_Total_Female',\n",
        "                        'Driver_Total_Married',\n",
        "                        'Driver_Total_Teenager_Age_15_19',\n",
        "                        'Driver_Total_College_Ages_20_23',\n",
        "                        'Driver_Total_Young_Adult_Ages_24_29',\n",
        "                        'Driver_Total_Upper_Senior_Ages_70_plus',\n",
        "                        'Vehicle_Usage',\n",
        "                        'Vehicle_Anti_Theft_Device',\n",
        "                        'Vehicle_Performance',\n",
        "                        'Annual_Premium']"
      ],
      "metadata": {
        "execution": {
          "iopub.status.busy": "2023-12-02T04:25:15.925623Z",
          "iopub.execute_input": "2023-12-02T04:25:15.925988Z",
          "iopub.status.idle": "2023-12-02T04:25:15.930803Z",
          "shell.execute_reply.started": "2023-12-02T04:25:15.925967Z",
          "shell.execute_reply": "2023-12-02T04:25:15.929874Z"
        },
        "trusted": true,
        "id": "Yi7xwFQ7ljF9"
      },
      "execution_count": null,
      "outputs": []
    },
    {
      "cell_type": "markdown",
      "source": [
        "### Create Portfolios in training data like testing portfolios"
      ],
      "metadata": {
        "id": "AYLtyh32ljF-"
      }
    },
    {
      "cell_type": "code",
      "source": [
        "df_data.shape"
      ],
      "metadata": {
        "execution": {
          "iopub.status.busy": "2023-12-02T04:25:15.931768Z",
          "iopub.execute_input": "2023-12-02T04:25:15.932059Z",
          "iopub.status.idle": "2023-12-02T04:25:15.944414Z",
          "shell.execute_reply.started": "2023-12-02T04:25:15.932004Z",
          "shell.execute_reply": "2023-12-02T04:25:15.943468Z"
        },
        "trusted": true,
        "id": "iLNmgZKWljF-",
        "outputId": "4cd34f65-2af0-4ab4-bdb5-f6df21aa10a8"
      },
      "execution_count": null,
      "outputs": [
        {
          "execution_count": 112,
          "output_type": "execute_result",
          "data": {
            "text/plain": "(424431, 20)"
          },
          "metadata": {}
        }
      ]
    },
    {
      "cell_type": "code",
      "source": [
        "policies_in_portfolios = [1000, 3000, 5000]\n",
        "percentage_losses = [1, 2, 3, 4, 5, 6, 7, 8, 9, 10, 20]"
      ],
      "metadata": {
        "execution": {
          "iopub.status.busy": "2023-12-02T04:25:15.945585Z",
          "iopub.execute_input": "2023-12-02T04:25:15.946320Z",
          "iopub.status.idle": "2023-12-02T04:25:15.953277Z",
          "shell.execute_reply.started": "2023-12-02T04:25:15.946296Z",
          "shell.execute_reply": "2023-12-02T04:25:15.952251Z"
        },
        "trusted": true,
        "id": "TRRN3eVUljF-"
      },
      "execution_count": null,
      "outputs": []
    },
    {
      "cell_type": "code",
      "source": [
        "df_list_portfolios = []"
      ],
      "metadata": {
        "execution": {
          "iopub.status.busy": "2023-12-02T04:25:15.954395Z",
          "iopub.execute_input": "2023-12-02T04:25:15.954679Z",
          "iopub.status.idle": "2023-12-02T04:25:15.965852Z",
          "shell.execute_reply.started": "2023-12-02T04:25:15.954657Z",
          "shell.execute_reply": "2023-12-02T04:25:15.965003Z"
        },
        "trusted": true,
        "id": "Lp4rj_ojljF-"
      },
      "execution_count": null,
      "outputs": []
    },
    {
      "cell_type": "code",
      "source": [
        "df_data_oh = pd.get_dummies(df_data)"
      ],
      "metadata": {
        "execution": {
          "iopub.status.busy": "2023-12-02T04:25:15.967104Z",
          "iopub.execute_input": "2023-12-02T04:25:15.967333Z",
          "iopub.status.idle": "2023-12-02T04:25:16.065626Z",
          "shell.execute_reply.started": "2023-12-02T04:25:15.967313Z",
          "shell.execute_reply": "2023-12-02T04:25:16.064867Z"
        },
        "trusted": true,
        "id": "lAO5OOCCljF-"
      },
      "execution_count": null,
      "outputs": []
    },
    {
      "cell_type": "code",
      "source": [
        "df_data_oh.shape"
      ],
      "metadata": {
        "execution": {
          "iopub.status.busy": "2023-12-02T04:25:16.066827Z",
          "iopub.execute_input": "2023-12-02T04:25:16.067029Z",
          "iopub.status.idle": "2023-12-02T04:25:16.071988Z",
          "shell.execute_reply.started": "2023-12-02T04:25:16.067010Z",
          "shell.execute_reply": "2023-12-02T04:25:16.071200Z"
        },
        "trusted": true,
        "id": "ecTCw6xxljF-",
        "outputId": "97be4647-cfd3-4815-8bc3-aceb58e3cfa2"
      },
      "execution_count": null,
      "outputs": [
        {
          "execution_count": 116,
          "output_type": "execute_result",
          "data": {
            "text/plain": "(424431, 24)"
          },
          "metadata": {}
        }
      ]
    },
    {
      "cell_type": "code",
      "source": [
        "df_data_oh_columns = list(df_data_oh.columns)"
      ],
      "metadata": {
        "execution": {
          "iopub.status.busy": "2023-12-02T04:25:16.072923Z",
          "iopub.execute_input": "2023-12-02T04:25:16.073168Z",
          "iopub.status.idle": "2023-12-02T04:25:16.081893Z",
          "shell.execute_reply.started": "2023-12-02T04:25:16.073147Z",
          "shell.execute_reply": "2023-12-02T04:25:16.081148Z"
        },
        "trusted": true,
        "id": "s0FGRcEjljF-"
      },
      "execution_count": null,
      "outputs": []
    },
    {
      "cell_type": "code",
      "source": [
        "for i in range(10):\n",
        "    df_data = df_data_oh.sample(frac=1)\n",
        "    df_data_loss_zero = df_data[df_data['Loss_Amount'] == 0]\n",
        "    df_data_loss_non_zero = df_data[df_data['Loss_Amount'] != 0]\n",
        "    current_df_without_loss = 0\n",
        "    current_df_with_loss = 0\n",
        "    for i in range(len(policies_in_portfolios)):\n",
        "        for j in range(len(percentage_losses)):\n",
        "            without_loss_size = int(((100 - percentage_losses[j])/100) * policies_in_portfolios[i])\n",
        "            with_loss_size = int(policies_in_portfolios[i] - without_loss_size )\n",
        "\n",
        "            df_without_loss = df_data_loss_zero.iloc[current_df_without_loss: current_df_without_loss + without_loss_size]\n",
        "            df_with_loss = df_data_loss_non_zero.iloc[current_df_with_loss: current_df_with_loss + with_loss_size]\n",
        "\n",
        "            current_df_without_loss = current_df_without_loss + without_loss_size\n",
        "            current_df_with_loss = current_df_with_loss + with_loss_size\n",
        "\n",
        "            df_merge = pd.concat([df_without_loss, df_with_loss])\n",
        "            df_list_portfolios.append(df_merge)"
      ],
      "metadata": {
        "execution": {
          "iopub.status.busy": "2023-12-02T04:25:16.082591Z",
          "iopub.execute_input": "2023-12-02T04:25:16.082789Z",
          "iopub.status.idle": "2023-12-02T04:25:16.890945Z",
          "shell.execute_reply.started": "2023-12-02T04:25:16.082771Z",
          "shell.execute_reply": "2023-12-02T04:25:16.889863Z"
        },
        "trusted": true,
        "id": "O-mm1XkNljF-"
      },
      "execution_count": null,
      "outputs": []
    },
    {
      "cell_type": "code",
      "source": [
        "len(df_list_portfolios)"
      ],
      "metadata": {
        "execution": {
          "iopub.status.busy": "2023-12-02T04:25:16.898705Z",
          "iopub.execute_input": "2023-12-02T04:25:16.899696Z",
          "iopub.status.idle": "2023-12-02T04:25:16.905280Z",
          "shell.execute_reply.started": "2023-12-02T04:25:16.899649Z",
          "shell.execute_reply": "2023-12-02T04:25:16.904618Z"
        },
        "trusted": true,
        "id": "Kbw4YSGLljF-",
        "outputId": "371fb7c7-937c-4a9b-a027-4ba1fbca903e"
      },
      "execution_count": null,
      "outputs": [
        {
          "execution_count": 119,
          "output_type": "execute_result",
          "data": {
            "text/plain": "330"
          },
          "metadata": {}
        }
      ]
    },
    {
      "cell_type": "code",
      "source": [
        "df_list_portfolios[0].shape"
      ],
      "metadata": {
        "execution": {
          "iopub.status.busy": "2023-12-02T04:25:16.906714Z",
          "iopub.execute_input": "2023-12-02T04:25:16.908655Z",
          "iopub.status.idle": "2023-12-02T04:25:16.918042Z",
          "shell.execute_reply.started": "2023-12-02T04:25:16.908632Z",
          "shell.execute_reply": "2023-12-02T04:25:16.917100Z"
        },
        "trusted": true,
        "id": "ZEEs5Dv6ljF-",
        "outputId": "38404cb8-89c1-4d66-d72f-1b4ad1c9acd3"
      },
      "execution_count": null,
      "outputs": [
        {
          "execution_count": 120,
          "output_type": "execute_result",
          "data": {
            "text/plain": "(1000, 24)"
          },
          "metadata": {}
        }
      ]
    },
    {
      "cell_type": "code",
      "source": [
        "df_data_final = None"
      ],
      "metadata": {
        "execution": {
          "iopub.status.busy": "2023-12-02T04:25:16.919289Z",
          "iopub.execute_input": "2023-12-02T04:25:16.919617Z",
          "iopub.status.idle": "2023-12-02T04:25:16.926185Z",
          "shell.execute_reply.started": "2023-12-02T04:25:16.919587Z",
          "shell.execute_reply": "2023-12-02T04:25:16.925533Z"
        },
        "trusted": true,
        "id": "jrO2CfpRljF-"
      },
      "execution_count": null,
      "outputs": []
    },
    {
      "cell_type": "code",
      "source": [
        "df_data_oh_columns"
      ],
      "metadata": {
        "execution": {
          "iopub.status.busy": "2023-12-02T04:25:16.927190Z",
          "iopub.execute_input": "2023-12-02T04:25:16.927791Z",
          "iopub.status.idle": "2023-12-02T04:25:16.937444Z",
          "shell.execute_reply.started": "2023-12-02T04:25:16.927767Z",
          "shell.execute_reply": "2023-12-02T04:25:16.936662Z"
        },
        "trusted": true,
        "id": "QRxkJ1GEljGF",
        "outputId": "4b92d3f3-2731-4243-ffdf-fe84e00abaa6"
      },
      "execution_count": null,
      "outputs": [
        {
          "execution_count": 122,
          "output_type": "execute_result",
          "data": {
            "text/plain": "['Vehicle_Driver_Points',\n 'Vehicle_Age_In_Years',\n 'Driver_Total_Female',\n 'Driver_Total_Male',\n 'Driver_Total_Teenager_Age_15_19',\n 'Driver_Total_College_Ages_20_23',\n 'Driver_Total_Young_Adult_Ages_24_29',\n 'Driver_Total_Low_Middle_Adult_Ages_30_39',\n 'Driver_Total_Middle_Adult_Ages_40_49',\n 'Driver_Total_Adult_Ages_50_64',\n 'Driver_Total_Senior_Ages_65_69',\n 'Driver_Total_Upper_Senior_Ages_70_plus',\n 'Driver_Total_Married',\n 'Driver_Total_Single',\n 'Vehicle_Miles_To_Work',\n 'Vehicle_Territory',\n 'Annual_Premium',\n 'Loss_Amount',\n 'Vehicle_Youthful_Good_Student_Code_Eligible for Good Student Credit    ',\n 'Vehicle_Youthful_Good_Student_Code_Not Eligible for Good Student Credit',\n 'Vehicle_Usage_Business',\n 'Vehicle_Usage_Farm    ',\n 'Vehicle_Usage_Pleasure',\n 'Vehicle_Usage_Work    ']"
          },
          "metadata": {}
        }
      ]
    },
    {
      "cell_type": "code",
      "source": [
        "selected_features_mean = num_features.copy()\n",
        "selected_features_mean.remove('Annual_Premium')\n",
        "selected_features_mean.remove('Loss_Amount')\n",
        "mean_columns = selected_features_mean\n",
        "\n",
        "sum_columns = ['Annual_Premium']\n",
        "\n",
        "for cat_f in cat_features:\n",
        "    for col in list(df_list_portfolios[0].columns):\n",
        "        if col.startswith(cat_f):\n",
        "            sum_columns.append(col)\n",
        "\n",
        "target_column = ['Loss_Amount']"
      ],
      "metadata": {
        "execution": {
          "iopub.status.busy": "2023-12-02T04:25:16.938876Z",
          "iopub.execute_input": "2023-12-02T04:25:16.939167Z",
          "iopub.status.idle": "2023-12-02T04:25:16.946961Z",
          "shell.execute_reply.started": "2023-12-02T04:25:16.939140Z",
          "shell.execute_reply": "2023-12-02T04:25:16.946155Z"
        },
        "trusted": true,
        "id": "lLKIuICrljGF"
      },
      "execution_count": null,
      "outputs": []
    },
    {
      "cell_type": "code",
      "source": [
        "sum_columns"
      ],
      "metadata": {
        "execution": {
          "iopub.status.busy": "2023-12-02T04:25:16.947891Z",
          "iopub.execute_input": "2023-12-02T04:25:16.948188Z",
          "iopub.status.idle": "2023-12-02T04:25:16.959568Z",
          "shell.execute_reply.started": "2023-12-02T04:25:16.948164Z",
          "shell.execute_reply": "2023-12-02T04:25:16.958557Z"
        },
        "trusted": true,
        "id": "Sa3nivX8ljGF",
        "outputId": "e6cab00c-e53d-4693-f9d6-e20eeb914ef0"
      },
      "execution_count": null,
      "outputs": [
        {
          "execution_count": 124,
          "output_type": "execute_result",
          "data": {
            "text/plain": "['Annual_Premium',\n 'Vehicle_Youthful_Good_Student_Code_Eligible for Good Student Credit    ',\n 'Vehicle_Youthful_Good_Student_Code_Not Eligible for Good Student Credit',\n 'Vehicle_Usage_Business',\n 'Vehicle_Usage_Farm    ',\n 'Vehicle_Usage_Pleasure',\n 'Vehicle_Usage_Work    ']"
          },
          "metadata": {}
        }
      ]
    },
    {
      "cell_type": "code",
      "source": [
        "ls_final_training = []"
      ],
      "metadata": {
        "execution": {
          "iopub.status.busy": "2023-12-02T04:25:16.960834Z",
          "iopub.execute_input": "2023-12-02T04:25:16.961119Z",
          "iopub.status.idle": "2023-12-02T04:25:16.967981Z",
          "shell.execute_reply.started": "2023-12-02T04:25:16.961093Z",
          "shell.execute_reply": "2023-12-02T04:25:16.967141Z"
        },
        "trusted": true,
        "id": "6eJ625lFljGF"
      },
      "execution_count": null,
      "outputs": []
    },
    {
      "cell_type": "code",
      "source": [
        "def portfolio_to_features(df_portfolio, is_training=True):\n",
        "    df_portfolio_mean = df_portfolio[mean_columns]\n",
        "    df_portfolio_mean = df_portfolio_mean.mean()\n",
        "    ls_portfolio_mean = df_portfolio_mean.to_list()\n",
        "\n",
        "    df_portfolio_sum = df_portfolio[sum_columns]\n",
        "    df_portfolio_sum = df_portfolio_sum.sum()\n",
        "    ls_portfolio_sum = df_portfolio_sum.to_list()\n",
        "\n",
        "    if is_training:\n",
        "        df_portfolio_target = df_portfolio[target_column]\n",
        "        df_portfolio_target_sum = df_portfolio_target.sum()\n",
        "        ls_portfolio_target_sum = df_portfolio_target_sum.to_list()\n",
        "\n",
        "    list_merge = ls_portfolio_mean + ls_portfolio_sum\n",
        "\n",
        "    if is_training:\n",
        "        list_merge = list_merge + ls_portfolio_target_sum\n",
        "\n",
        "    return list_merge"
      ],
      "metadata": {
        "execution": {
          "iopub.status.busy": "2023-12-02T04:25:16.969168Z",
          "iopub.execute_input": "2023-12-02T04:25:16.969462Z",
          "iopub.status.idle": "2023-12-02T04:25:16.979750Z",
          "shell.execute_reply.started": "2023-12-02T04:25:16.969435Z",
          "shell.execute_reply": "2023-12-02T04:25:16.978901Z"
        },
        "trusted": true,
        "id": "ru1fAT6DljGF"
      },
      "execution_count": null,
      "outputs": []
    },
    {
      "cell_type": "code",
      "source": [
        "def features_to_training_df(df_portfolios_list):\n",
        "    features_list = mean_columns + sum_columns + target_column\n",
        "    final_list = []\n",
        "    for single_portfolio in df_portfolios_list:\n",
        "        ls_portfolio = portfolio_to_features(single_portfolio)\n",
        "        final_list.append(ls_portfolio)\n",
        "    df_final_training = pd.DataFrame(final_list, columns = features_list)\n",
        "    return df_final_training"
      ],
      "metadata": {
        "execution": {
          "iopub.status.busy": "2023-12-02T04:25:16.980646Z",
          "iopub.execute_input": "2023-12-02T04:25:16.980975Z",
          "iopub.status.idle": "2023-12-02T04:25:16.993905Z",
          "shell.execute_reply.started": "2023-12-02T04:25:16.980947Z",
          "shell.execute_reply": "2023-12-02T04:25:16.992826Z"
        },
        "trusted": true,
        "id": "uV0_jEZyljGF"
      },
      "execution_count": null,
      "outputs": []
    },
    {
      "cell_type": "code",
      "source": [
        "df_final_train = features_to_training_df(df_list_portfolios)"
      ],
      "metadata": {
        "execution": {
          "iopub.status.busy": "2023-12-02T04:25:16.995084Z",
          "iopub.execute_input": "2023-12-02T04:25:16.995383Z",
          "iopub.status.idle": "2023-12-02T04:25:17.781790Z",
          "shell.execute_reply.started": "2023-12-02T04:25:16.995356Z",
          "shell.execute_reply": "2023-12-02T04:25:17.780443Z"
        },
        "trusted": true,
        "id": "JHOKvHgFljGF"
      },
      "execution_count": null,
      "outputs": []
    },
    {
      "cell_type": "code",
      "source": [
        "df_final_train.head()"
      ],
      "metadata": {
        "execution": {
          "iopub.status.busy": "2023-12-02T04:25:17.783175Z",
          "iopub.execute_input": "2023-12-02T04:25:17.784010Z",
          "iopub.status.idle": "2023-12-02T04:25:17.810799Z",
          "shell.execute_reply.started": "2023-12-02T04:25:17.783981Z",
          "shell.execute_reply": "2023-12-02T04:25:17.809229Z"
        },
        "trusted": true,
        "id": "ZOtsiHLZljGF",
        "outputId": "bec5c8c2-8629-4500-85b7-88aae45db8fa"
      },
      "execution_count": null,
      "outputs": [
        {
          "execution_count": 129,
          "output_type": "execute_result",
          "data": {
            "text/plain": "   Vehicle_Driver_Points  Vehicle_Age_In_Years  Driver_Total_Female  \\\n0                  0.107                 7.063                0.562   \n1                  0.115                 7.148                0.607   \n2                  0.133                 7.011                0.599   \n3                  0.124                 7.049                0.566   \n4                  0.104                 6.992                0.621   \n\n   Driver_Total_Male  Driver_Total_Teenager_Age_15_19  \\\n0              0.566                            0.046   \n1              0.512                            0.045   \n2              0.528                            0.046   \n3              0.544                            0.046   \n4              0.498                            0.040   \n\n   Driver_Total_College_Ages_20_23  Driver_Total_Young_Adult_Ages_24_29  \\\n0                            0.041                                0.073   \n1                            0.051                                0.082   \n2                            0.039                                0.083   \n3                            0.045                                0.086   \n4                            0.047                                0.091   \n\n   Driver_Total_Low_Middle_Adult_Ages_30_39  \\\n0                                     0.205   \n1                                     0.218   \n2                                     0.220   \n3                                     0.240   \n4                                     0.215   \n\n   Driver_Total_Middle_Adult_Ages_40_49  Driver_Total_Adult_Ages_50_64  ...  \\\n0                                 0.267                          0.338  ...   \n1                                 0.263                          0.308  ...   \n2                                 0.262                          0.319  ...   \n3                                 0.258                          0.297  ...   \n4                                 0.268                          0.300  ...   \n\n   Vehicle_Miles_To_Work  Vehicle_Territory  Annual_Premium  \\\n0                  2.890             30.956       325272.37   \n1                  3.553             30.791       323636.67   \n2                  3.347             31.041       330491.30   \n3                  3.399             31.307       328915.17   \n4                  3.597             30.995       342443.53   \n\n   Vehicle_Youthful_Good_Student_Code_Eligible for Good Student Credit      \\\n0                                               18.0                         \n1                                               14.0                         \n2                                               13.0                         \n3                                               12.0                         \n4                                               13.0                         \n\n   Vehicle_Youthful_Good_Student_Code_Not Eligible for Good Student Credit  \\\n0                                              982.0                         \n1                                              986.0                         \n2                                              987.0                         \n3                                              988.0                         \n4                                              987.0                         \n\n   Vehicle_Usage_Business  Vehicle_Usage_Farm      Vehicle_Usage_Pleasure  \\\n0                     7.0                   106.0                   528.0   \n1                     5.0                    99.0                   516.0   \n2                     7.0                   103.0                   526.0   \n3                    10.0                    90.0                   529.0   \n4                     8.0                    95.0                   514.0   \n\n   Vehicle_Usage_Work      Loss_Amount  \n0                   359.0     77269.84  \n1                   380.0    559077.12  \n2                   364.0    107347.74  \n3                   371.0    148324.24  \n4                   383.0    372702.24  \n\n[5 rows x 24 columns]",
            "text/html": "<div>\n<style scoped>\n    .dataframe tbody tr th:only-of-type {\n        vertical-align: middle;\n    }\n\n    .dataframe tbody tr th {\n        vertical-align: top;\n    }\n\n    .dataframe thead th {\n        text-align: right;\n    }\n</style>\n<table border=\"1\" class=\"dataframe\">\n  <thead>\n    <tr style=\"text-align: right;\">\n      <th></th>\n      <th>Vehicle_Driver_Points</th>\n      <th>Vehicle_Age_In_Years</th>\n      <th>Driver_Total_Female</th>\n      <th>Driver_Total_Male</th>\n      <th>Driver_Total_Teenager_Age_15_19</th>\n      <th>Driver_Total_College_Ages_20_23</th>\n      <th>Driver_Total_Young_Adult_Ages_24_29</th>\n      <th>Driver_Total_Low_Middle_Adult_Ages_30_39</th>\n      <th>Driver_Total_Middle_Adult_Ages_40_49</th>\n      <th>Driver_Total_Adult_Ages_50_64</th>\n      <th>...</th>\n      <th>Vehicle_Miles_To_Work</th>\n      <th>Vehicle_Territory</th>\n      <th>Annual_Premium</th>\n      <th>Vehicle_Youthful_Good_Student_Code_Eligible for Good Student Credit</th>\n      <th>Vehicle_Youthful_Good_Student_Code_Not Eligible for Good Student Credit</th>\n      <th>Vehicle_Usage_Business</th>\n      <th>Vehicle_Usage_Farm</th>\n      <th>Vehicle_Usage_Pleasure</th>\n      <th>Vehicle_Usage_Work</th>\n      <th>Loss_Amount</th>\n    </tr>\n  </thead>\n  <tbody>\n    <tr>\n      <th>0</th>\n      <td>0.107</td>\n      <td>7.063</td>\n      <td>0.562</td>\n      <td>0.566</td>\n      <td>0.046</td>\n      <td>0.041</td>\n      <td>0.073</td>\n      <td>0.205</td>\n      <td>0.267</td>\n      <td>0.338</td>\n      <td>...</td>\n      <td>2.890</td>\n      <td>30.956</td>\n      <td>325272.37</td>\n      <td>18.0</td>\n      <td>982.0</td>\n      <td>7.0</td>\n      <td>106.0</td>\n      <td>528.0</td>\n      <td>359.0</td>\n      <td>77269.84</td>\n    </tr>\n    <tr>\n      <th>1</th>\n      <td>0.115</td>\n      <td>7.148</td>\n      <td>0.607</td>\n      <td>0.512</td>\n      <td>0.045</td>\n      <td>0.051</td>\n      <td>0.082</td>\n      <td>0.218</td>\n      <td>0.263</td>\n      <td>0.308</td>\n      <td>...</td>\n      <td>3.553</td>\n      <td>30.791</td>\n      <td>323636.67</td>\n      <td>14.0</td>\n      <td>986.0</td>\n      <td>5.0</td>\n      <td>99.0</td>\n      <td>516.0</td>\n      <td>380.0</td>\n      <td>559077.12</td>\n    </tr>\n    <tr>\n      <th>2</th>\n      <td>0.133</td>\n      <td>7.011</td>\n      <td>0.599</td>\n      <td>0.528</td>\n      <td>0.046</td>\n      <td>0.039</td>\n      <td>0.083</td>\n      <td>0.220</td>\n      <td>0.262</td>\n      <td>0.319</td>\n      <td>...</td>\n      <td>3.347</td>\n      <td>31.041</td>\n      <td>330491.30</td>\n      <td>13.0</td>\n      <td>987.0</td>\n      <td>7.0</td>\n      <td>103.0</td>\n      <td>526.0</td>\n      <td>364.0</td>\n      <td>107347.74</td>\n    </tr>\n    <tr>\n      <th>3</th>\n      <td>0.124</td>\n      <td>7.049</td>\n      <td>0.566</td>\n      <td>0.544</td>\n      <td>0.046</td>\n      <td>0.045</td>\n      <td>0.086</td>\n      <td>0.240</td>\n      <td>0.258</td>\n      <td>0.297</td>\n      <td>...</td>\n      <td>3.399</td>\n      <td>31.307</td>\n      <td>328915.17</td>\n      <td>12.0</td>\n      <td>988.0</td>\n      <td>10.0</td>\n      <td>90.0</td>\n      <td>529.0</td>\n      <td>371.0</td>\n      <td>148324.24</td>\n    </tr>\n    <tr>\n      <th>4</th>\n      <td>0.104</td>\n      <td>6.992</td>\n      <td>0.621</td>\n      <td>0.498</td>\n      <td>0.040</td>\n      <td>0.047</td>\n      <td>0.091</td>\n      <td>0.215</td>\n      <td>0.268</td>\n      <td>0.300</td>\n      <td>...</td>\n      <td>3.597</td>\n      <td>30.995</td>\n      <td>342443.53</td>\n      <td>13.0</td>\n      <td>987.0</td>\n      <td>8.0</td>\n      <td>95.0</td>\n      <td>514.0</td>\n      <td>383.0</td>\n      <td>372702.24</td>\n    </tr>\n  </tbody>\n</table>\n<p>5 rows × 24 columns</p>\n</div>"
          },
          "metadata": {}
        }
      ]
    },
    {
      "cell_type": "markdown",
      "source": [
        "### Training the model with Decision Tree"
      ],
      "metadata": {
        "id": "lIneSz7DljGG"
      }
    },
    {
      "cell_type": "code",
      "source": [
        "X_train = df_final_train.loc[:, df_final_train.columns != 'Loss_Amount']\n",
        "y_train = df_final_train['Loss_Amount']"
      ],
      "metadata": {
        "execution": {
          "iopub.status.busy": "2023-12-02T04:25:17.812096Z",
          "iopub.execute_input": "2023-12-02T04:25:17.813039Z",
          "iopub.status.idle": "2023-12-02T04:25:17.817359Z",
          "shell.execute_reply.started": "2023-12-02T04:25:17.813007Z",
          "shell.execute_reply": "2023-12-02T04:25:17.816673Z"
        },
        "trusted": true,
        "id": "q6etzK61ljGG"
      },
      "execution_count": null,
      "outputs": []
    },
    {
      "cell_type": "code",
      "source": [
        "X_train.shape, y_train.shape"
      ],
      "metadata": {
        "execution": {
          "iopub.status.busy": "2023-12-02T04:25:17.818317Z",
          "iopub.execute_input": "2023-12-02T04:25:17.818592Z",
          "iopub.status.idle": "2023-12-02T04:25:17.830465Z",
          "shell.execute_reply.started": "2023-12-02T04:25:17.818571Z",
          "shell.execute_reply": "2023-12-02T04:25:17.829628Z"
        },
        "trusted": true,
        "id": "JykOb0rOljGG",
        "outputId": "fc7cbbf5-0a94-4e2c-dcbe-eeb1c4bf4616"
      },
      "execution_count": null,
      "outputs": [
        {
          "execution_count": 131,
          "output_type": "execute_result",
          "data": {
            "text/plain": "((330, 23), (330,))"
          },
          "metadata": {}
        }
      ]
    },
    {
      "cell_type": "code",
      "source": [
        "X_train.columns"
      ],
      "metadata": {
        "execution": {
          "iopub.status.busy": "2023-12-02T04:25:17.831659Z",
          "iopub.execute_input": "2023-12-02T04:25:17.831962Z",
          "iopub.status.idle": "2023-12-02T04:25:17.840261Z",
          "shell.execute_reply.started": "2023-12-02T04:25:17.831934Z",
          "shell.execute_reply": "2023-12-02T04:25:17.839652Z"
        },
        "trusted": true,
        "id": "L1WwTyuAljGG",
        "outputId": "6128960d-84ed-4d13-a0ff-6ce5b3dc2b8e"
      },
      "execution_count": null,
      "outputs": [
        {
          "execution_count": 132,
          "output_type": "execute_result",
          "data": {
            "text/plain": "Index(['Vehicle_Driver_Points', 'Vehicle_Age_In_Years', 'Driver_Total_Female',\n       'Driver_Total_Male', 'Driver_Total_Teenager_Age_15_19',\n       'Driver_Total_College_Ages_20_23',\n       'Driver_Total_Young_Adult_Ages_24_29',\n       'Driver_Total_Low_Middle_Adult_Ages_30_39',\n       'Driver_Total_Middle_Adult_Ages_40_49', 'Driver_Total_Adult_Ages_50_64',\n       'Driver_Total_Senior_Ages_65_69',\n       'Driver_Total_Upper_Senior_Ages_70_plus', 'Driver_Total_Married',\n       'Driver_Total_Single', 'Vehicle_Miles_To_Work', 'Vehicle_Territory',\n       'Annual_Premium',\n       'Vehicle_Youthful_Good_Student_Code_Eligible for Good Student Credit    ',\n       'Vehicle_Youthful_Good_Student_Code_Not Eligible for Good Student Credit',\n       'Vehicle_Usage_Business', 'Vehicle_Usage_Farm    ',\n       'Vehicle_Usage_Pleasure', 'Vehicle_Usage_Work    '],\n      dtype='object')"
          },
          "metadata": {}
        }
      ]
    },
    {
      "cell_type": "code",
      "source": [
        "decision_tree_regressor = DecisionTreeRegressor()\n",
        "decision_tree_regressor.fit(X_train, y_train)"
      ],
      "metadata": {
        "execution": {
          "iopub.status.busy": "2023-12-02T04:25:17.840975Z",
          "iopub.execute_input": "2023-12-02T04:25:17.841207Z",
          "iopub.status.idle": "2023-12-02T04:25:17.860011Z",
          "shell.execute_reply.started": "2023-12-02T04:25:17.841186Z",
          "shell.execute_reply": "2023-12-02T04:25:17.858630Z"
        },
        "trusted": true,
        "id": "hQMxGjEjljGG",
        "outputId": "2ae03a4a-8300-45f0-8da1-2d55155cb8d3"
      },
      "execution_count": null,
      "outputs": [
        {
          "execution_count": 133,
          "output_type": "execute_result",
          "data": {
            "text/plain": "DecisionTreeRegressor()",
            "text/html": "<style>#sk-container-id-4 {color: black;background-color: white;}#sk-container-id-4 pre{padding: 0;}#sk-container-id-4 div.sk-toggleable {background-color: white;}#sk-container-id-4 label.sk-toggleable__label {cursor: pointer;display: block;width: 100%;margin-bottom: 0;padding: 0.3em;box-sizing: border-box;text-align: center;}#sk-container-id-4 label.sk-toggleable__label-arrow:before {content: \"▸\";float: left;margin-right: 0.25em;color: #696969;}#sk-container-id-4 label.sk-toggleable__label-arrow:hover:before {color: black;}#sk-container-id-4 div.sk-estimator:hover label.sk-toggleable__label-arrow:before {color: black;}#sk-container-id-4 div.sk-toggleable__content {max-height: 0;max-width: 0;overflow: hidden;text-align: left;background-color: #f0f8ff;}#sk-container-id-4 div.sk-toggleable__content pre {margin: 0.2em;color: black;border-radius: 0.25em;background-color: #f0f8ff;}#sk-container-id-4 input.sk-toggleable__control:checked~div.sk-toggleable__content {max-height: 200px;max-width: 100%;overflow: auto;}#sk-container-id-4 input.sk-toggleable__control:checked~label.sk-toggleable__label-arrow:before {content: \"▾\";}#sk-container-id-4 div.sk-estimator input.sk-toggleable__control:checked~label.sk-toggleable__label {background-color: #d4ebff;}#sk-container-id-4 div.sk-label input.sk-toggleable__control:checked~label.sk-toggleable__label {background-color: #d4ebff;}#sk-container-id-4 input.sk-hidden--visually {border: 0;clip: rect(1px 1px 1px 1px);clip: rect(1px, 1px, 1px, 1px);height: 1px;margin: -1px;overflow: hidden;padding: 0;position: absolute;width: 1px;}#sk-container-id-4 div.sk-estimator {font-family: monospace;background-color: #f0f8ff;border: 1px dotted black;border-radius: 0.25em;box-sizing: border-box;margin-bottom: 0.5em;}#sk-container-id-4 div.sk-estimator:hover {background-color: #d4ebff;}#sk-container-id-4 div.sk-parallel-item::after {content: \"\";width: 100%;border-bottom: 1px solid gray;flex-grow: 1;}#sk-container-id-4 div.sk-label:hover label.sk-toggleable__label {background-color: #d4ebff;}#sk-container-id-4 div.sk-serial::before {content: \"\";position: absolute;border-left: 1px solid gray;box-sizing: border-box;top: 0;bottom: 0;left: 50%;z-index: 0;}#sk-container-id-4 div.sk-serial {display: flex;flex-direction: column;align-items: center;background-color: white;padding-right: 0.2em;padding-left: 0.2em;position: relative;}#sk-container-id-4 div.sk-item {position: relative;z-index: 1;}#sk-container-id-4 div.sk-parallel {display: flex;align-items: stretch;justify-content: center;background-color: white;position: relative;}#sk-container-id-4 div.sk-item::before, #sk-container-id-4 div.sk-parallel-item::before {content: \"\";position: absolute;border-left: 1px solid gray;box-sizing: border-box;top: 0;bottom: 0;left: 50%;z-index: -1;}#sk-container-id-4 div.sk-parallel-item {display: flex;flex-direction: column;z-index: 1;position: relative;background-color: white;}#sk-container-id-4 div.sk-parallel-item:first-child::after {align-self: flex-end;width: 50%;}#sk-container-id-4 div.sk-parallel-item:last-child::after {align-self: flex-start;width: 50%;}#sk-container-id-4 div.sk-parallel-item:only-child::after {width: 0;}#sk-container-id-4 div.sk-dashed-wrapped {border: 1px dashed gray;margin: 0 0.4em 0.5em 0.4em;box-sizing: border-box;padding-bottom: 0.4em;background-color: white;}#sk-container-id-4 div.sk-label label {font-family: monospace;font-weight: bold;display: inline-block;line-height: 1.2em;}#sk-container-id-4 div.sk-label-container {text-align: center;}#sk-container-id-4 div.sk-container {/* jupyter's `normalize.less` sets `[hidden] { display: none; }` but bootstrap.min.css set `[hidden] { display: none !important; }` so we also need the `!important` here to be able to override the default hidden behavior on the sphinx rendered scikit-learn.org. See: https://github.com/scikit-learn/scikit-learn/issues/21755 */display: inline-block !important;position: relative;}#sk-container-id-4 div.sk-text-repr-fallback {display: none;}</style><div id=\"sk-container-id-4\" class=\"sk-top-container\"><div class=\"sk-text-repr-fallback\"><pre>DecisionTreeRegressor()</pre><b>In a Jupyter environment, please rerun this cell to show the HTML representation or trust the notebook. <br />On GitHub, the HTML representation is unable to render, please try loading this page with nbviewer.org.</b></div><div class=\"sk-container\" hidden><div class=\"sk-item\"><div class=\"sk-estimator sk-toggleable\"><input class=\"sk-toggleable__control sk-hidden--visually\" id=\"sk-estimator-id-4\" type=\"checkbox\" checked><label for=\"sk-estimator-id-4\" class=\"sk-toggleable__label sk-toggleable__label-arrow\">DecisionTreeRegressor</label><div class=\"sk-toggleable__content\"><pre>DecisionTreeRegressor()</pre></div></div></div></div></div>"
          },
          "metadata": {}
        }
      ]
    },
    {
      "cell_type": "code",
      "source": [
        "y_train_pred = decision_tree_regressor.predict(X_train)"
      ],
      "metadata": {
        "execution": {
          "iopub.status.busy": "2023-12-02T04:25:17.861524Z",
          "iopub.execute_input": "2023-12-02T04:25:17.862374Z",
          "iopub.status.idle": "2023-12-02T04:25:17.868263Z",
          "shell.execute_reply.started": "2023-12-02T04:25:17.862336Z",
          "shell.execute_reply": "2023-12-02T04:25:17.867559Z"
        },
        "trusted": true,
        "id": "9eFxQYi5ljGG"
      },
      "execution_count": null,
      "outputs": []
    },
    {
      "cell_type": "code",
      "source": [
        "mae = mean_absolute_error(y_train, y_train_pred)\n",
        "mae"
      ],
      "metadata": {
        "execution": {
          "iopub.status.busy": "2023-12-02T04:25:17.869305Z",
          "iopub.execute_input": "2023-12-02T04:25:17.870236Z",
          "iopub.status.idle": "2023-12-02T04:25:17.880100Z",
          "shell.execute_reply.started": "2023-12-02T04:25:17.870204Z",
          "shell.execute_reply": "2023-12-02T04:25:17.879314Z"
        },
        "trusted": true,
        "id": "mD_dOdBxljGG",
        "outputId": "039dc1ff-65c7-4e9c-9b95-f02e7c4a3cf9"
      },
      "execution_count": null,
      "outputs": [
        {
          "execution_count": 135,
          "output_type": "execute_result",
          "data": {
            "text/plain": "0.0"
          },
          "metadata": {}
        }
      ]
    },
    {
      "cell_type": "code",
      "source": [
        "from xgboost import XGBRegressor\n",
        "xg_regressor = XGBRegressor(objective ='reg:squarederror', colsample_bytree = 0.8, learning_rate = 0.005, max_depth = 5, alpha = 5, n_estimators = 200)\n",
        "xg_regressor.fit(np.nan_to_num(X_train.to_numpy()), y_train)"
      ],
      "metadata": {
        "execution": {
          "iopub.status.busy": "2023-12-02T04:25:17.881405Z",
          "iopub.execute_input": "2023-12-02T04:25:17.881740Z",
          "iopub.status.idle": "2023-12-02T04:25:18.069920Z",
          "shell.execute_reply.started": "2023-12-02T04:25:17.881718Z",
          "shell.execute_reply": "2023-12-02T04:25:18.068988Z"
        },
        "trusted": true,
        "id": "kKtuBNP-ljGG",
        "outputId": "ee4bd83e-fd2f-4c80-fbd3-47cff7b898d4"
      },
      "execution_count": null,
      "outputs": [
        {
          "execution_count": 136,
          "output_type": "execute_result",
          "data": {
            "text/plain": "XGBRegressor(alpha=5, base_score=None, booster=None, callbacks=None,\n             colsample_bylevel=None, colsample_bynode=None,\n             colsample_bytree=0.8, device=None, early_stopping_rounds=None,\n             enable_categorical=False, eval_metric=None, feature_types=None,\n             gamma=None, grow_policy=None, importance_type=None,\n             interaction_constraints=None, learning_rate=0.005, max_bin=None,\n             max_cat_threshold=None, max_cat_to_onehot=None,\n             max_delta_step=None, max_depth=5, max_leaves=None,\n             min_child_weight=None, missing=nan, monotone_constraints=None,\n             multi_strategy=None, n_estimators=200, n_jobs=None,\n             num_parallel_tree=None, ...)",
            "text/html": "<style>#sk-container-id-5 {color: black;background-color: white;}#sk-container-id-5 pre{padding: 0;}#sk-container-id-5 div.sk-toggleable {background-color: white;}#sk-container-id-5 label.sk-toggleable__label {cursor: pointer;display: block;width: 100%;margin-bottom: 0;padding: 0.3em;box-sizing: border-box;text-align: center;}#sk-container-id-5 label.sk-toggleable__label-arrow:before {content: \"▸\";float: left;margin-right: 0.25em;color: #696969;}#sk-container-id-5 label.sk-toggleable__label-arrow:hover:before {color: black;}#sk-container-id-5 div.sk-estimator:hover label.sk-toggleable__label-arrow:before {color: black;}#sk-container-id-5 div.sk-toggleable__content {max-height: 0;max-width: 0;overflow: hidden;text-align: left;background-color: #f0f8ff;}#sk-container-id-5 div.sk-toggleable__content pre {margin: 0.2em;color: black;border-radius: 0.25em;background-color: #f0f8ff;}#sk-container-id-5 input.sk-toggleable__control:checked~div.sk-toggleable__content {max-height: 200px;max-width: 100%;overflow: auto;}#sk-container-id-5 input.sk-toggleable__control:checked~label.sk-toggleable__label-arrow:before {content: \"▾\";}#sk-container-id-5 div.sk-estimator input.sk-toggleable__control:checked~label.sk-toggleable__label {background-color: #d4ebff;}#sk-container-id-5 div.sk-label input.sk-toggleable__control:checked~label.sk-toggleable__label {background-color: #d4ebff;}#sk-container-id-5 input.sk-hidden--visually {border: 0;clip: rect(1px 1px 1px 1px);clip: rect(1px, 1px, 1px, 1px);height: 1px;margin: -1px;overflow: hidden;padding: 0;position: absolute;width: 1px;}#sk-container-id-5 div.sk-estimator {font-family: monospace;background-color: #f0f8ff;border: 1px dotted black;border-radius: 0.25em;box-sizing: border-box;margin-bottom: 0.5em;}#sk-container-id-5 div.sk-estimator:hover {background-color: #d4ebff;}#sk-container-id-5 div.sk-parallel-item::after {content: \"\";width: 100%;border-bottom: 1px solid gray;flex-grow: 1;}#sk-container-id-5 div.sk-label:hover label.sk-toggleable__label {background-color: #d4ebff;}#sk-container-id-5 div.sk-serial::before {content: \"\";position: absolute;border-left: 1px solid gray;box-sizing: border-box;top: 0;bottom: 0;left: 50%;z-index: 0;}#sk-container-id-5 div.sk-serial {display: flex;flex-direction: column;align-items: center;background-color: white;padding-right: 0.2em;padding-left: 0.2em;position: relative;}#sk-container-id-5 div.sk-item {position: relative;z-index: 1;}#sk-container-id-5 div.sk-parallel {display: flex;align-items: stretch;justify-content: center;background-color: white;position: relative;}#sk-container-id-5 div.sk-item::before, #sk-container-id-5 div.sk-parallel-item::before {content: \"\";position: absolute;border-left: 1px solid gray;box-sizing: border-box;top: 0;bottom: 0;left: 50%;z-index: -1;}#sk-container-id-5 div.sk-parallel-item {display: flex;flex-direction: column;z-index: 1;position: relative;background-color: white;}#sk-container-id-5 div.sk-parallel-item:first-child::after {align-self: flex-end;width: 50%;}#sk-container-id-5 div.sk-parallel-item:last-child::after {align-self: flex-start;width: 50%;}#sk-container-id-5 div.sk-parallel-item:only-child::after {width: 0;}#sk-container-id-5 div.sk-dashed-wrapped {border: 1px dashed gray;margin: 0 0.4em 0.5em 0.4em;box-sizing: border-box;padding-bottom: 0.4em;background-color: white;}#sk-container-id-5 div.sk-label label {font-family: monospace;font-weight: bold;display: inline-block;line-height: 1.2em;}#sk-container-id-5 div.sk-label-container {text-align: center;}#sk-container-id-5 div.sk-container {/* jupyter's `normalize.less` sets `[hidden] { display: none; }` but bootstrap.min.css set `[hidden] { display: none !important; }` so we also need the `!important` here to be able to override the default hidden behavior on the sphinx rendered scikit-learn.org. See: https://github.com/scikit-learn/scikit-learn/issues/21755 */display: inline-block !important;position: relative;}#sk-container-id-5 div.sk-text-repr-fallback {display: none;}</style><div id=\"sk-container-id-5\" class=\"sk-top-container\"><div class=\"sk-text-repr-fallback\"><pre>XGBRegressor(alpha=5, base_score=None, booster=None, callbacks=None,\n             colsample_bylevel=None, colsample_bynode=None,\n             colsample_bytree=0.8, device=None, early_stopping_rounds=None,\n             enable_categorical=False, eval_metric=None, feature_types=None,\n             gamma=None, grow_policy=None, importance_type=None,\n             interaction_constraints=None, learning_rate=0.005, max_bin=None,\n             max_cat_threshold=None, max_cat_to_onehot=None,\n             max_delta_step=None, max_depth=5, max_leaves=None,\n             min_child_weight=None, missing=nan, monotone_constraints=None,\n             multi_strategy=None, n_estimators=200, n_jobs=None,\n             num_parallel_tree=None, ...)</pre><b>In a Jupyter environment, please rerun this cell to show the HTML representation or trust the notebook. <br />On GitHub, the HTML representation is unable to render, please try loading this page with nbviewer.org.</b></div><div class=\"sk-container\" hidden><div class=\"sk-item\"><div class=\"sk-estimator sk-toggleable\"><input class=\"sk-toggleable__control sk-hidden--visually\" id=\"sk-estimator-id-5\" type=\"checkbox\" checked><label for=\"sk-estimator-id-5\" class=\"sk-toggleable__label sk-toggleable__label-arrow\">XGBRegressor</label><div class=\"sk-toggleable__content\"><pre>XGBRegressor(alpha=5, base_score=None, booster=None, callbacks=None,\n             colsample_bylevel=None, colsample_bynode=None,\n             colsample_bytree=0.8, device=None, early_stopping_rounds=None,\n             enable_categorical=False, eval_metric=None, feature_types=None,\n             gamma=None, grow_policy=None, importance_type=None,\n             interaction_constraints=None, learning_rate=0.005, max_bin=None,\n             max_cat_threshold=None, max_cat_to_onehot=None,\n             max_delta_step=None, max_depth=5, max_leaves=None,\n             min_child_weight=None, missing=nan, monotone_constraints=None,\n             multi_strategy=None, n_estimators=200, n_jobs=None,\n             num_parallel_tree=None, ...)</pre></div></div></div></div></div>"
          },
          "metadata": {}
        }
      ]
    },
    {
      "cell_type": "code",
      "source": [
        "y_train_pred_xg = xg_regressor.predict(np.nan_to_num(X_train.to_numpy()))"
      ],
      "metadata": {
        "execution": {
          "iopub.status.busy": "2023-12-02T04:25:18.070980Z",
          "iopub.execute_input": "2023-12-02T04:25:18.071345Z",
          "iopub.status.idle": "2023-12-02T04:25:18.081095Z",
          "shell.execute_reply.started": "2023-12-02T04:25:18.071323Z",
          "shell.execute_reply": "2023-12-02T04:25:18.080015Z"
        },
        "trusted": true,
        "id": "a5Ys4tItljGG"
      },
      "execution_count": null,
      "outputs": []
    },
    {
      "cell_type": "code",
      "source": [
        "mae_xg = mean_absolute_error(y_train, y_train_pred_xg)\n",
        "mae_xg"
      ],
      "metadata": {
        "execution": {
          "iopub.status.busy": "2023-12-02T04:25:18.082616Z",
          "iopub.execute_input": "2023-12-02T04:25:18.083010Z",
          "iopub.status.idle": "2023-12-02T04:25:18.089852Z",
          "shell.execute_reply.started": "2023-12-02T04:25:18.082960Z",
          "shell.execute_reply": "2023-12-02T04:25:18.088747Z"
        },
        "trusted": true,
        "id": "YQzfsj31ljGH",
        "outputId": "1e8999e5-416b-4007-d601-9817a327217d"
      },
      "execution_count": null,
      "outputs": [
        {
          "execution_count": 138,
          "output_type": "execute_result",
          "data": {
            "text/plain": "396922.2296212121"
          },
          "metadata": {}
        }
      ]
    },
    {
      "cell_type": "markdown",
      "source": [
        "## Train Using KNN Model"
      ],
      "metadata": {
        "id": "kTlbAvbuljGH"
      }
    },
    {
      "cell_type": "code",
      "source": [
        "knn_regressor = KNeighborsRegressor(5)\n",
        "knn_regressor.fit(np.nan_to_num(X_train.to_numpy()), y_train)"
      ],
      "metadata": {
        "execution": {
          "iopub.status.busy": "2023-12-02T04:25:18.091284Z",
          "iopub.execute_input": "2023-12-02T04:25:18.091583Z",
          "iopub.status.idle": "2023-12-02T04:25:18.099442Z",
          "shell.execute_reply.started": "2023-12-02T04:25:18.091559Z",
          "shell.execute_reply": "2023-12-02T04:25:18.098835Z"
        },
        "trusted": true,
        "id": "aOdx1FleljGH",
        "outputId": "4bfce56d-29a6-47e2-d63f-5d6e2b6cdaf4"
      },
      "execution_count": null,
      "outputs": [
        {
          "execution_count": 139,
          "output_type": "execute_result",
          "data": {
            "text/plain": "KNeighborsRegressor()",
            "text/html": "<style>#sk-container-id-6 {color: black;background-color: white;}#sk-container-id-6 pre{padding: 0;}#sk-container-id-6 div.sk-toggleable {background-color: white;}#sk-container-id-6 label.sk-toggleable__label {cursor: pointer;display: block;width: 100%;margin-bottom: 0;padding: 0.3em;box-sizing: border-box;text-align: center;}#sk-container-id-6 label.sk-toggleable__label-arrow:before {content: \"▸\";float: left;margin-right: 0.25em;color: #696969;}#sk-container-id-6 label.sk-toggleable__label-arrow:hover:before {color: black;}#sk-container-id-6 div.sk-estimator:hover label.sk-toggleable__label-arrow:before {color: black;}#sk-container-id-6 div.sk-toggleable__content {max-height: 0;max-width: 0;overflow: hidden;text-align: left;background-color: #f0f8ff;}#sk-container-id-6 div.sk-toggleable__content pre {margin: 0.2em;color: black;border-radius: 0.25em;background-color: #f0f8ff;}#sk-container-id-6 input.sk-toggleable__control:checked~div.sk-toggleable__content {max-height: 200px;max-width: 100%;overflow: auto;}#sk-container-id-6 input.sk-toggleable__control:checked~label.sk-toggleable__label-arrow:before {content: \"▾\";}#sk-container-id-6 div.sk-estimator input.sk-toggleable__control:checked~label.sk-toggleable__label {background-color: #d4ebff;}#sk-container-id-6 div.sk-label input.sk-toggleable__control:checked~label.sk-toggleable__label {background-color: #d4ebff;}#sk-container-id-6 input.sk-hidden--visually {border: 0;clip: rect(1px 1px 1px 1px);clip: rect(1px, 1px, 1px, 1px);height: 1px;margin: -1px;overflow: hidden;padding: 0;position: absolute;width: 1px;}#sk-container-id-6 div.sk-estimator {font-family: monospace;background-color: #f0f8ff;border: 1px dotted black;border-radius: 0.25em;box-sizing: border-box;margin-bottom: 0.5em;}#sk-container-id-6 div.sk-estimator:hover {background-color: #d4ebff;}#sk-container-id-6 div.sk-parallel-item::after {content: \"\";width: 100%;border-bottom: 1px solid gray;flex-grow: 1;}#sk-container-id-6 div.sk-label:hover label.sk-toggleable__label {background-color: #d4ebff;}#sk-container-id-6 div.sk-serial::before {content: \"\";position: absolute;border-left: 1px solid gray;box-sizing: border-box;top: 0;bottom: 0;left: 50%;z-index: 0;}#sk-container-id-6 div.sk-serial {display: flex;flex-direction: column;align-items: center;background-color: white;padding-right: 0.2em;padding-left: 0.2em;position: relative;}#sk-container-id-6 div.sk-item {position: relative;z-index: 1;}#sk-container-id-6 div.sk-parallel {display: flex;align-items: stretch;justify-content: center;background-color: white;position: relative;}#sk-container-id-6 div.sk-item::before, #sk-container-id-6 div.sk-parallel-item::before {content: \"\";position: absolute;border-left: 1px solid gray;box-sizing: border-box;top: 0;bottom: 0;left: 50%;z-index: -1;}#sk-container-id-6 div.sk-parallel-item {display: flex;flex-direction: column;z-index: 1;position: relative;background-color: white;}#sk-container-id-6 div.sk-parallel-item:first-child::after {align-self: flex-end;width: 50%;}#sk-container-id-6 div.sk-parallel-item:last-child::after {align-self: flex-start;width: 50%;}#sk-container-id-6 div.sk-parallel-item:only-child::after {width: 0;}#sk-container-id-6 div.sk-dashed-wrapped {border: 1px dashed gray;margin: 0 0.4em 0.5em 0.4em;box-sizing: border-box;padding-bottom: 0.4em;background-color: white;}#sk-container-id-6 div.sk-label label {font-family: monospace;font-weight: bold;display: inline-block;line-height: 1.2em;}#sk-container-id-6 div.sk-label-container {text-align: center;}#sk-container-id-6 div.sk-container {/* jupyter's `normalize.less` sets `[hidden] { display: none; }` but bootstrap.min.css set `[hidden] { display: none !important; }` so we also need the `!important` here to be able to override the default hidden behavior on the sphinx rendered scikit-learn.org. See: https://github.com/scikit-learn/scikit-learn/issues/21755 */display: inline-block !important;position: relative;}#sk-container-id-6 div.sk-text-repr-fallback {display: none;}</style><div id=\"sk-container-id-6\" class=\"sk-top-container\"><div class=\"sk-text-repr-fallback\"><pre>KNeighborsRegressor()</pre><b>In a Jupyter environment, please rerun this cell to show the HTML representation or trust the notebook. <br />On GitHub, the HTML representation is unable to render, please try loading this page with nbviewer.org.</b></div><div class=\"sk-container\" hidden><div class=\"sk-item\"><div class=\"sk-estimator sk-toggleable\"><input class=\"sk-toggleable__control sk-hidden--visually\" id=\"sk-estimator-id-6\" type=\"checkbox\" checked><label for=\"sk-estimator-id-6\" class=\"sk-toggleable__label sk-toggleable__label-arrow\">KNeighborsRegressor</label><div class=\"sk-toggleable__content\"><pre>KNeighborsRegressor()</pre></div></div></div></div></div>"
          },
          "metadata": {}
        }
      ]
    },
    {
      "cell_type": "code",
      "source": [
        "y_train_pred_knn = knn_regressor.predict(np.nan_to_num(X_train.to_numpy()))"
      ],
      "metadata": {
        "execution": {
          "iopub.status.busy": "2023-12-02T04:25:18.100711Z",
          "iopub.execute_input": "2023-12-02T04:25:18.101197Z",
          "iopub.status.idle": "2023-12-02T04:25:18.113265Z",
          "shell.execute_reply.started": "2023-12-02T04:25:18.101170Z",
          "shell.execute_reply": "2023-12-02T04:25:18.112537Z"
        },
        "trusted": true,
        "id": "wVGAcxFgljGH"
      },
      "execution_count": null,
      "outputs": []
    },
    {
      "cell_type": "code",
      "source": [
        "mae_knn = mean_absolute_error(y_train, y_train_pred_knn)\n",
        "mae_knn"
      ],
      "metadata": {
        "execution": {
          "iopub.status.busy": "2023-12-02T04:25:18.114455Z",
          "iopub.execute_input": "2023-12-02T04:25:18.114922Z",
          "iopub.status.idle": "2023-12-02T04:25:18.124156Z",
          "shell.execute_reply.started": "2023-12-02T04:25:18.114898Z",
          "shell.execute_reply": "2023-12-02T04:25:18.123368Z"
        },
        "trusted": true,
        "id": "Fn7p5lphljGH",
        "outputId": "0fb274f3-51b8-4306-b83c-9c67fd4f52ff"
      },
      "execution_count": null,
      "outputs": [
        {
          "execution_count": 141,
          "output_type": "execute_result",
          "data": {
            "text/plain": "291352.27920000005"
          },
          "metadata": {}
        }
      ]
    },
    {
      "cell_type": "code",
      "source": [
        "def load_test_portfolios():\n",
        "    path_testing_dataset = \"/kaggle/input/testingportfolios/testing_portfolios\"\n",
        "    portfolio_files = os.listdir(path_testing_dataset)\n",
        "    portfolio_dict = {}\n",
        "    for i in range(len(portfolio_files)):\n",
        "        portfolio_id = int(portfolio_files[i].split('.')[0][15:])\n",
        "        portfolio_dict[portfolio_id] = portfolio_files[i]\n",
        "    od = collections.OrderedDict(sorted(portfolio_dict.items()))\n",
        "    po_list = []\n",
        "    for key,val in od.items():\n",
        "        po_list.append(val)\n",
        "    df_portfolio_list = []\n",
        "    for portfolio_file in po_list:\n",
        "        file_path = os.path.join(path_testing_dataset, portfolio_file)\n",
        "        df_test_portfolio = pd.read_csv(file_path)\n",
        "        test_num_features = num_features.copy()\n",
        "        test_num_features.remove('Loss_Amount')\n",
        "\n",
        "        df_test_num = df_test_portfolio[test_num_features]\n",
        "        df_test_cat = df_test_portfolio[cat_features]\n",
        "        df_test_cat_strip = strip_white_spaces(df_test_cat)\n",
        "        df_test_portfolio = df_test_num.join(df_test_cat_strip, how='outer')\n",
        "        df_test_portfolio = pd.get_dummies(df_test_portfolio)\n",
        "        df_test_portfolio = df_test_portfolio.reindex(sorted(X_train.columns), axis=1)\n",
        "\n",
        "        df_portfolio_list.append(df_test_portfolio)\n",
        "\n",
        "    result_dict = collections.OrderedDict()\n",
        "    for i in range(len(po_list)):\n",
        "        portfolio_id = po_list[i].split('.')[0][5:]\n",
        "        result_dict[portfolio_id] = df_portfolio_list[i]\n",
        "    return result_dict"
      ],
      "metadata": {
        "execution": {
          "iopub.status.busy": "2023-12-02T04:25:18.125036Z",
          "iopub.execute_input": "2023-12-02T04:25:18.125582Z",
          "iopub.status.idle": "2023-12-02T04:25:18.134091Z",
          "shell.execute_reply.started": "2023-12-02T04:25:18.125557Z",
          "shell.execute_reply": "2023-12-02T04:25:18.133076Z"
        },
        "trusted": true,
        "id": "cRE4Q76AljGH"
      },
      "execution_count": null,
      "outputs": []
    },
    {
      "cell_type": "code",
      "source": [
        "def features_to_testing_df(df_portfolios_ordered_dict):\n",
        "    features_list = mean_columns + sum_columns\n",
        "    features_list.insert(0, 'ID')\n",
        "    final_list = []\n",
        "    for portfolio_id, single_portfolio in df_portfolios_ordered_dict.items():\n",
        "        ls_portfolio = portfolio_to_features(single_portfolio, False)\n",
        "        ls_portfolio.insert(0, portfolio_id)\n",
        "        final_list.append(ls_portfolio)\n",
        "    df_final_testing = pd.DataFrame(final_list, columns = features_list)\n",
        "    return df_final_testing"
      ],
      "metadata": {
        "execution": {
          "iopub.status.busy": "2023-12-02T04:25:18.134987Z",
          "iopub.execute_input": "2023-12-02T04:25:18.136137Z",
          "iopub.status.idle": "2023-12-02T04:25:18.143712Z",
          "shell.execute_reply.started": "2023-12-02T04:25:18.136090Z",
          "shell.execute_reply": "2023-12-02T04:25:18.142982Z"
        },
        "trusted": true,
        "id": "Gil7bjFtljGH"
      },
      "execution_count": null,
      "outputs": []
    },
    {
      "cell_type": "code",
      "source": [
        "test_portfolios_dict = load_test_portfolios()"
      ],
      "metadata": {
        "execution": {
          "iopub.status.busy": "2023-12-02T04:25:18.144523Z",
          "iopub.execute_input": "2023-12-02T04:25:18.144916Z",
          "iopub.status.idle": "2023-12-02T04:25:27.339404Z",
          "shell.execute_reply.started": "2023-12-02T04:25:18.144896Z",
          "shell.execute_reply": "2023-12-02T04:25:27.338364Z"
        },
        "trusted": true,
        "id": "3E4hEUnHljGH",
        "outputId": "da352c77-e34a-4893-90f3-fd060495f777"
      },
      "execution_count": null,
      "outputs": [
        {
          "name": "stderr",
          "text": "/tmp/ipykernel_47/2427808540.py:4: SettingWithCopyWarning: \nA value is trying to be set on a copy of a slice from a DataFrame.\nTry using .loc[row_indexer,col_indexer] = value instead\n\nSee the caveats in the documentation: https://pandas.pydata.org/pandas-docs/stable/user_guide/indexing.html#returning-a-view-versus-a-copy\n  input_df[column] = input_df[column].str.strip()\n/tmp/ipykernel_47/2427808540.py:4: SettingWithCopyWarning: \nA value is trying to be set on a copy of a slice from a DataFrame.\nTry using .loc[row_indexer,col_indexer] = value instead\n\nSee the caveats in the documentation: https://pandas.pydata.org/pandas-docs/stable/user_guide/indexing.html#returning-a-view-versus-a-copy\n  input_df[column] = input_df[column].str.strip()\n/tmp/ipykernel_47/2427808540.py:4: SettingWithCopyWarning: \nA value is trying to be set on a copy of a slice from a DataFrame.\nTry using .loc[row_indexer,col_indexer] = value instead\n\nSee the caveats in the documentation: https://pandas.pydata.org/pandas-docs/stable/user_guide/indexing.html#returning-a-view-versus-a-copy\n  input_df[column] = input_df[column].str.strip()\n/tmp/ipykernel_47/2427808540.py:4: SettingWithCopyWarning: \nA value is trying to be set on a copy of a slice from a DataFrame.\nTry using .loc[row_indexer,col_indexer] = value instead\n\nSee the caveats in the documentation: https://pandas.pydata.org/pandas-docs/stable/user_guide/indexing.html#returning-a-view-versus-a-copy\n  input_df[column] = input_df[column].str.strip()\n/tmp/ipykernel_47/2427808540.py:4: SettingWithCopyWarning: \nA value is trying to be set on a copy of a slice from a DataFrame.\nTry using .loc[row_indexer,col_indexer] = value instead\n\nSee the caveats in the documentation: https://pandas.pydata.org/pandas-docs/stable/user_guide/indexing.html#returning-a-view-versus-a-copy\n  input_df[column] = input_df[column].str.strip()\n/tmp/ipykernel_47/2427808540.py:4: SettingWithCopyWarning: \nA value is trying to be set on a copy of a slice from a DataFrame.\nTry using .loc[row_indexer,col_indexer] = value instead\n\nSee the caveats in the documentation: https://pandas.pydata.org/pandas-docs/stable/user_guide/indexing.html#returning-a-view-versus-a-copy\n  input_df[column] = input_df[column].str.strip()\n/tmp/ipykernel_47/2427808540.py:4: SettingWithCopyWarning: \nA value is trying to be set on a copy of a slice from a DataFrame.\nTry using .loc[row_indexer,col_indexer] = value instead\n\nSee the caveats in the documentation: https://pandas.pydata.org/pandas-docs/stable/user_guide/indexing.html#returning-a-view-versus-a-copy\n  input_df[column] = input_df[column].str.strip()\n/tmp/ipykernel_47/2427808540.py:4: SettingWithCopyWarning: \nA value is trying to be set on a copy of a slice from a DataFrame.\nTry using .loc[row_indexer,col_indexer] = value instead\n\nSee the caveats in the documentation: https://pandas.pydata.org/pandas-docs/stable/user_guide/indexing.html#returning-a-view-versus-a-copy\n  input_df[column] = input_df[column].str.strip()\n/tmp/ipykernel_47/2427808540.py:4: SettingWithCopyWarning: \nA value is trying to be set on a copy of a slice from a DataFrame.\nTry using .loc[row_indexer,col_indexer] = value instead\n\nSee the caveats in the documentation: https://pandas.pydata.org/pandas-docs/stable/user_guide/indexing.html#returning-a-view-versus-a-copy\n  input_df[column] = input_df[column].str.strip()\n/tmp/ipykernel_47/2427808540.py:4: SettingWithCopyWarning: \nA value is trying to be set on a copy of a slice from a DataFrame.\nTry using .loc[row_indexer,col_indexer] = value instead\n\nSee the caveats in the documentation: https://pandas.pydata.org/pandas-docs/stable/user_guide/indexing.html#returning-a-view-versus-a-copy\n  input_df[column] = input_df[column].str.strip()\n/tmp/ipykernel_47/2427808540.py:4: SettingWithCopyWarning: \nA value is trying to be set on a copy of a slice from a DataFrame.\nTry using .loc[row_indexer,col_indexer] = value instead\n\nSee the caveats in the documentation: https://pandas.pydata.org/pandas-docs/stable/user_guide/indexing.html#returning-a-view-versus-a-copy\n  input_df[column] = input_df[column].str.strip()\n/tmp/ipykernel_47/2427808540.py:4: SettingWithCopyWarning: \nA value is trying to be set on a copy of a slice from a DataFrame.\nTry using .loc[row_indexer,col_indexer] = value instead\n\nSee the caveats in the documentation: https://pandas.pydata.org/pandas-docs/stable/user_guide/indexing.html#returning-a-view-versus-a-copy\n  input_df[column] = input_df[column].str.strip()\n/tmp/ipykernel_47/2427808540.py:4: SettingWithCopyWarning: \nA value is trying to be set on a copy of a slice from a DataFrame.\nTry using .loc[row_indexer,col_indexer] = value instead\n\nSee the caveats in the documentation: https://pandas.pydata.org/pandas-docs/stable/user_guide/indexing.html#returning-a-view-versus-a-copy\n  input_df[column] = input_df[column].str.strip()\n/tmp/ipykernel_47/2427808540.py:4: SettingWithCopyWarning: \nA value is trying to be set on a copy of a slice from a DataFrame.\nTry using .loc[row_indexer,col_indexer] = value instead\n\nSee the caveats in the documentation: https://pandas.pydata.org/pandas-docs/stable/user_guide/indexing.html#returning-a-view-versus-a-copy\n  input_df[column] = input_df[column].str.strip()\n/tmp/ipykernel_47/2427808540.py:4: SettingWithCopyWarning: \nA value is trying to be set on a copy of a slice from a DataFrame.\nTry using .loc[row_indexer,col_indexer] = value instead\n\nSee the caveats in the documentation: https://pandas.pydata.org/pandas-docs/stable/user_guide/indexing.html#returning-a-view-versus-a-copy\n  input_df[column] = input_df[column].str.strip()\n/tmp/ipykernel_47/2427808540.py:4: SettingWithCopyWarning: \nA value is trying to be set on a copy of a slice from a DataFrame.\nTry using .loc[row_indexer,col_indexer] = value instead\n\nSee the caveats in the documentation: https://pandas.pydata.org/pandas-docs/stable/user_guide/indexing.html#returning-a-view-versus-a-copy\n  input_df[column] = input_df[column].str.strip()\n/tmp/ipykernel_47/2427808540.py:4: SettingWithCopyWarning: \nA value is trying to be set on a copy of a slice from a DataFrame.\nTry using .loc[row_indexer,col_indexer] = value instead\n\nSee the caveats in the documentation: https://pandas.pydata.org/pandas-docs/stable/user_guide/indexing.html#returning-a-view-versus-a-copy\n  input_df[column] = input_df[column].str.strip()\n/tmp/ipykernel_47/2427808540.py:4: SettingWithCopyWarning: \nA value is trying to be set on a copy of a slice from a DataFrame.\nTry using .loc[row_indexer,col_indexer] = value instead\n\nSee the caveats in the documentation: https://pandas.pydata.org/pandas-docs/stable/user_guide/indexing.html#returning-a-view-versus-a-copy\n  input_df[column] = input_df[column].str.strip()\n/tmp/ipykernel_47/2427808540.py:4: SettingWithCopyWarning: \nA value is trying to be set on a copy of a slice from a DataFrame.\nTry using .loc[row_indexer,col_indexer] = value instead\n\nSee the caveats in the documentation: https://pandas.pydata.org/pandas-docs/stable/user_guide/indexing.html#returning-a-view-versus-a-copy\n  input_df[column] = input_df[column].str.strip()\n/tmp/ipykernel_47/2427808540.py:4: SettingWithCopyWarning: \nA value is trying to be set on a copy of a slice from a DataFrame.\nTry using .loc[row_indexer,col_indexer] = value instead\n\nSee the caveats in the documentation: https://pandas.pydata.org/pandas-docs/stable/user_guide/indexing.html#returning-a-view-versus-a-copy\n  input_df[column] = input_df[column].str.strip()\n/tmp/ipykernel_47/2427808540.py:4: SettingWithCopyWarning: \nA value is trying to be set on a copy of a slice from a DataFrame.\nTry using .loc[row_indexer,col_indexer] = value instead\n\nSee the caveats in the documentation: https://pandas.pydata.org/pandas-docs/stable/user_guide/indexing.html#returning-a-view-versus-a-copy\n  input_df[column] = input_df[column].str.strip()\n/tmp/ipykernel_47/2427808540.py:4: SettingWithCopyWarning: \nA value is trying to be set on a copy of a slice from a DataFrame.\nTry using .loc[row_indexer,col_indexer] = value instead\n\nSee the caveats in the documentation: https://pandas.pydata.org/pandas-docs/stable/user_guide/indexing.html#returning-a-view-versus-a-copy\n  input_df[column] = input_df[column].str.strip()\n/tmp/ipykernel_47/2427808540.py:4: SettingWithCopyWarning: \nA value is trying to be set on a copy of a slice from a DataFrame.\nTry using .loc[row_indexer,col_indexer] = value instead\n\nSee the caveats in the documentation: https://pandas.pydata.org/pandas-docs/stable/user_guide/indexing.html#returning-a-view-versus-a-copy\n  input_df[column] = input_df[column].str.strip()\n/tmp/ipykernel_47/2427808540.py:4: SettingWithCopyWarning: \nA value is trying to be set on a copy of a slice from a DataFrame.\nTry using .loc[row_indexer,col_indexer] = value instead\n\nSee the caveats in the documentation: https://pandas.pydata.org/pandas-docs/stable/user_guide/indexing.html#returning-a-view-versus-a-copy\n  input_df[column] = input_df[column].str.strip()\n/tmp/ipykernel_47/2427808540.py:4: SettingWithCopyWarning: \nA value is trying to be set on a copy of a slice from a DataFrame.\nTry using .loc[row_indexer,col_indexer] = value instead\n\nSee the caveats in the documentation: https://pandas.pydata.org/pandas-docs/stable/user_guide/indexing.html#returning-a-view-versus-a-copy\n  input_df[column] = input_df[column].str.strip()\n/tmp/ipykernel_47/2427808540.py:4: SettingWithCopyWarning: \nA value is trying to be set on a copy of a slice from a DataFrame.\nTry using .loc[row_indexer,col_indexer] = value instead\n\nSee the caveats in the documentation: https://pandas.pydata.org/pandas-docs/stable/user_guide/indexing.html#returning-a-view-versus-a-copy\n  input_df[column] = input_df[column].str.strip()\n/tmp/ipykernel_47/2427808540.py:4: SettingWithCopyWarning: \nA value is trying to be set on a copy of a slice from a DataFrame.\nTry using .loc[row_indexer,col_indexer] = value instead\n\nSee the caveats in the documentation: https://pandas.pydata.org/pandas-docs/stable/user_guide/indexing.html#returning-a-view-versus-a-copy\n  input_df[column] = input_df[column].str.strip()\n/tmp/ipykernel_47/2427808540.py:4: SettingWithCopyWarning: \nA value is trying to be set on a copy of a slice from a DataFrame.\nTry using .loc[row_indexer,col_indexer] = value instead\n\nSee the caveats in the documentation: https://pandas.pydata.org/pandas-docs/stable/user_guide/indexing.html#returning-a-view-versus-a-copy\n  input_df[column] = input_df[column].str.strip()\n/tmp/ipykernel_47/2427808540.py:4: SettingWithCopyWarning: \nA value is trying to be set on a copy of a slice from a DataFrame.\nTry using .loc[row_indexer,col_indexer] = value instead\n\nSee the caveats in the documentation: https://pandas.pydata.org/pandas-docs/stable/user_guide/indexing.html#returning-a-view-versus-a-copy\n  input_df[column] = input_df[column].str.strip()\n/tmp/ipykernel_47/2427808540.py:4: SettingWithCopyWarning: \nA value is trying to be set on a copy of a slice from a DataFrame.\nTry using .loc[row_indexer,col_indexer] = value instead\n\nSee the caveats in the documentation: https://pandas.pydata.org/pandas-docs/stable/user_guide/indexing.html#returning-a-view-versus-a-copy\n  input_df[column] = input_df[column].str.strip()\n/tmp/ipykernel_47/2427808540.py:4: SettingWithCopyWarning: \nA value is trying to be set on a copy of a slice from a DataFrame.\nTry using .loc[row_indexer,col_indexer] = value instead\n\nSee the caveats in the documentation: https://pandas.pydata.org/pandas-docs/stable/user_guide/indexing.html#returning-a-view-versus-a-copy\n  input_df[column] = input_df[column].str.strip()\n/tmp/ipykernel_47/2427808540.py:4: SettingWithCopyWarning: \nA value is trying to be set on a copy of a slice from a DataFrame.\nTry using .loc[row_indexer,col_indexer] = value instead\n\nSee the caveats in the documentation: https://pandas.pydata.org/pandas-docs/stable/user_guide/indexing.html#returning-a-view-versus-a-copy\n  input_df[column] = input_df[column].str.strip()\n/tmp/ipykernel_47/2427808540.py:4: SettingWithCopyWarning: \nA value is trying to be set on a copy of a slice from a DataFrame.\nTry using .loc[row_indexer,col_indexer] = value instead\n\nSee the caveats in the documentation: https://pandas.pydata.org/pandas-docs/stable/user_guide/indexing.html#returning-a-view-versus-a-copy\n  input_df[column] = input_df[column].str.strip()\n/tmp/ipykernel_47/2427808540.py:4: SettingWithCopyWarning: \nA value is trying to be set on a copy of a slice from a DataFrame.\nTry using .loc[row_indexer,col_indexer] = value instead\n\nSee the caveats in the documentation: https://pandas.pydata.org/pandas-docs/stable/user_guide/indexing.html#returning-a-view-versus-a-copy\n  input_df[column] = input_df[column].str.strip()\n/tmp/ipykernel_47/2427808540.py:4: SettingWithCopyWarning: \nA value is trying to be set on a copy of a slice from a DataFrame.\nTry using .loc[row_indexer,col_indexer] = value instead\n\nSee the caveats in the documentation: https://pandas.pydata.org/pandas-docs/stable/user_guide/indexing.html#returning-a-view-versus-a-copy\n  input_df[column] = input_df[column].str.strip()\n/tmp/ipykernel_47/2427808540.py:4: SettingWithCopyWarning: \nA value is trying to be set on a copy of a slice from a DataFrame.\nTry using .loc[row_indexer,col_indexer] = value instead\n\nSee the caveats in the documentation: https://pandas.pydata.org/pandas-docs/stable/user_guide/indexing.html#returning-a-view-versus-a-copy\n  input_df[column] = input_df[column].str.strip()\n/tmp/ipykernel_47/2427808540.py:4: SettingWithCopyWarning: \nA value is trying to be set on a copy of a slice from a DataFrame.\nTry using .loc[row_indexer,col_indexer] = value instead\n\nSee the caveats in the documentation: https://pandas.pydata.org/pandas-docs/stable/user_guide/indexing.html#returning-a-view-versus-a-copy\n  input_df[column] = input_df[column].str.strip()\n/tmp/ipykernel_47/2427808540.py:4: SettingWithCopyWarning: \nA value is trying to be set on a copy of a slice from a DataFrame.\nTry using .loc[row_indexer,col_indexer] = value instead\n\nSee the caveats in the documentation: https://pandas.pydata.org/pandas-docs/stable/user_guide/indexing.html#returning-a-view-versus-a-copy\n  input_df[column] = input_df[column].str.strip()\n/tmp/ipykernel_47/2427808540.py:4: SettingWithCopyWarning: \nA value is trying to be set on a copy of a slice from a DataFrame.\nTry using .loc[row_indexer,col_indexer] = value instead\n\nSee the caveats in the documentation: https://pandas.pydata.org/pandas-docs/stable/user_guide/indexing.html#returning-a-view-versus-a-copy\n  input_df[column] = input_df[column].str.strip()\n/tmp/ipykernel_47/2427808540.py:4: SettingWithCopyWarning: \nA value is trying to be set on a copy of a slice from a DataFrame.\nTry using .loc[row_indexer,col_indexer] = value instead\n\nSee the caveats in the documentation: https://pandas.pydata.org/pandas-docs/stable/user_guide/indexing.html#returning-a-view-versus-a-copy\n  input_df[column] = input_df[column].str.strip()\n/tmp/ipykernel_47/2427808540.py:4: SettingWithCopyWarning: \nA value is trying to be set on a copy of a slice from a DataFrame.\nTry using .loc[row_indexer,col_indexer] = value instead\n\nSee the caveats in the documentation: https://pandas.pydata.org/pandas-docs/stable/user_guide/indexing.html#returning-a-view-versus-a-copy\n  input_df[column] = input_df[column].str.strip()\n/tmp/ipykernel_47/2427808540.py:4: SettingWithCopyWarning: \nA value is trying to be set on a copy of a slice from a DataFrame.\nTry using .loc[row_indexer,col_indexer] = value instead\n\nSee the caveats in the documentation: https://pandas.pydata.org/pandas-docs/stable/user_guide/indexing.html#returning-a-view-versus-a-copy\n  input_df[column] = input_df[column].str.strip()\n/tmp/ipykernel_47/2427808540.py:4: SettingWithCopyWarning: \nA value is trying to be set on a copy of a slice from a DataFrame.\nTry using .loc[row_indexer,col_indexer] = value instead\n\nSee the caveats in the documentation: https://pandas.pydata.org/pandas-docs/stable/user_guide/indexing.html#returning-a-view-versus-a-copy\n  input_df[column] = input_df[column].str.strip()\n/tmp/ipykernel_47/2427808540.py:4: SettingWithCopyWarning: \nA value is trying to be set on a copy of a slice from a DataFrame.\nTry using .loc[row_indexer,col_indexer] = value instead\n\nSee the caveats in the documentation: https://pandas.pydata.org/pandas-docs/stable/user_guide/indexing.html#returning-a-view-versus-a-copy\n  input_df[column] = input_df[column].str.strip()\n/tmp/ipykernel_47/2427808540.py:4: SettingWithCopyWarning: \nA value is trying to be set on a copy of a slice from a DataFrame.\nTry using .loc[row_indexer,col_indexer] = value instead\n\nSee the caveats in the documentation: https://pandas.pydata.org/pandas-docs/stable/user_guide/indexing.html#returning-a-view-versus-a-copy\n  input_df[column] = input_df[column].str.strip()\n/tmp/ipykernel_47/2427808540.py:4: SettingWithCopyWarning: \nA value is trying to be set on a copy of a slice from a DataFrame.\nTry using .loc[row_indexer,col_indexer] = value instead\n\nSee the caveats in the documentation: https://pandas.pydata.org/pandas-docs/stable/user_guide/indexing.html#returning-a-view-versus-a-copy\n  input_df[column] = input_df[column].str.strip()\n/tmp/ipykernel_47/2427808540.py:4: SettingWithCopyWarning: \nA value is trying to be set on a copy of a slice from a DataFrame.\nTry using .loc[row_indexer,col_indexer] = value instead\n\nSee the caveats in the documentation: https://pandas.pydata.org/pandas-docs/stable/user_guide/indexing.html#returning-a-view-versus-a-copy\n  input_df[column] = input_df[column].str.strip()\n/tmp/ipykernel_47/2427808540.py:4: SettingWithCopyWarning: \nA value is trying to be set on a copy of a slice from a DataFrame.\nTry using .loc[row_indexer,col_indexer] = value instead\n\nSee the caveats in the documentation: https://pandas.pydata.org/pandas-docs/stable/user_guide/indexing.html#returning-a-view-versus-a-copy\n  input_df[column] = input_df[column].str.strip()\n/tmp/ipykernel_47/2427808540.py:4: SettingWithCopyWarning: \nA value is trying to be set on a copy of a slice from a DataFrame.\nTry using .loc[row_indexer,col_indexer] = value instead\n\nSee the caveats in the documentation: https://pandas.pydata.org/pandas-docs/stable/user_guide/indexing.html#returning-a-view-versus-a-copy\n  input_df[column] = input_df[column].str.strip()\n/tmp/ipykernel_47/2427808540.py:4: SettingWithCopyWarning: \nA value is trying to be set on a copy of a slice from a DataFrame.\nTry using .loc[row_indexer,col_indexer] = value instead\n\nSee the caveats in the documentation: https://pandas.pydata.org/pandas-docs/stable/user_guide/indexing.html#returning-a-view-versus-a-copy\n  input_df[column] = input_df[column].str.strip()\n/tmp/ipykernel_47/2427808540.py:4: SettingWithCopyWarning: \nA value is trying to be set on a copy of a slice from a DataFrame.\nTry using .loc[row_indexer,col_indexer] = value instead\n\nSee the caveats in the documentation: https://pandas.pydata.org/pandas-docs/stable/user_guide/indexing.html#returning-a-view-versus-a-copy\n  input_df[column] = input_df[column].str.strip()\n/tmp/ipykernel_47/2427808540.py:4: SettingWithCopyWarning: \nA value is trying to be set on a copy of a slice from a DataFrame.\nTry using .loc[row_indexer,col_indexer] = value instead\n\nSee the caveats in the documentation: https://pandas.pydata.org/pandas-docs/stable/user_guide/indexing.html#returning-a-view-versus-a-copy\n  input_df[column] = input_df[column].str.strip()\n/tmp/ipykernel_47/2427808540.py:4: SettingWithCopyWarning: \nA value is trying to be set on a copy of a slice from a DataFrame.\nTry using .loc[row_indexer,col_indexer] = value instead\n\nSee the caveats in the documentation: https://pandas.pydata.org/pandas-docs/stable/user_guide/indexing.html#returning-a-view-versus-a-copy\n  input_df[column] = input_df[column].str.strip()\n/tmp/ipykernel_47/2427808540.py:4: SettingWithCopyWarning: \nA value is trying to be set on a copy of a slice from a DataFrame.\nTry using .loc[row_indexer,col_indexer] = value instead\n\nSee the caveats in the documentation: https://pandas.pydata.org/pandas-docs/stable/user_guide/indexing.html#returning-a-view-versus-a-copy\n  input_df[column] = input_df[column].str.strip()\n/tmp/ipykernel_47/2427808540.py:4: SettingWithCopyWarning: \nA value is trying to be set on a copy of a slice from a DataFrame.\nTry using .loc[row_indexer,col_indexer] = value instead\n\nSee the caveats in the documentation: https://pandas.pydata.org/pandas-docs/stable/user_guide/indexing.html#returning-a-view-versus-a-copy\n  input_df[column] = input_df[column].str.strip()\n/tmp/ipykernel_47/2427808540.py:4: SettingWithCopyWarning: \nA value is trying to be set on a copy of a slice from a DataFrame.\nTry using .loc[row_indexer,col_indexer] = value instead\n\nSee the caveats in the documentation: https://pandas.pydata.org/pandas-docs/stable/user_guide/indexing.html#returning-a-view-versus-a-copy\n  input_df[column] = input_df[column].str.strip()\n/tmp/ipykernel_47/2427808540.py:4: SettingWithCopyWarning: \nA value is trying to be set on a copy of a slice from a DataFrame.\nTry using .loc[row_indexer,col_indexer] = value instead\n\nSee the caveats in the documentation: https://pandas.pydata.org/pandas-docs/stable/user_guide/indexing.html#returning-a-view-versus-a-copy\n  input_df[column] = input_df[column].str.strip()\n/tmp/ipykernel_47/2427808540.py:4: SettingWithCopyWarning: \nA value is trying to be set on a copy of a slice from a DataFrame.\nTry using .loc[row_indexer,col_indexer] = value instead\n\nSee the caveats in the documentation: https://pandas.pydata.org/pandas-docs/stable/user_guide/indexing.html#returning-a-view-versus-a-copy\n  input_df[column] = input_df[column].str.strip()\n/tmp/ipykernel_47/2427808540.py:4: SettingWithCopyWarning: \nA value is trying to be set on a copy of a slice from a DataFrame.\nTry using .loc[row_indexer,col_indexer] = value instead\n\nSee the caveats in the documentation: https://pandas.pydata.org/pandas-docs/stable/user_guide/indexing.html#returning-a-view-versus-a-copy\n  input_df[column] = input_df[column].str.strip()\n/tmp/ipykernel_47/2427808540.py:4: SettingWithCopyWarning: \nA value is trying to be set on a copy of a slice from a DataFrame.\nTry using .loc[row_indexer,col_indexer] = value instead\n\nSee the caveats in the documentation: https://pandas.pydata.org/pandas-docs/stable/user_guide/indexing.html#returning-a-view-versus-a-copy\n  input_df[column] = input_df[column].str.strip()\n/tmp/ipykernel_47/2427808540.py:4: SettingWithCopyWarning: \nA value is trying to be set on a copy of a slice from a DataFrame.\nTry using .loc[row_indexer,col_indexer] = value instead\n\nSee the caveats in the documentation: https://pandas.pydata.org/pandas-docs/stable/user_guide/indexing.html#returning-a-view-versus-a-copy\n  input_df[column] = input_df[column].str.strip()\n/tmp/ipykernel_47/2427808540.py:4: SettingWithCopyWarning: \nA value is trying to be set on a copy of a slice from a DataFrame.\nTry using .loc[row_indexer,col_indexer] = value instead\n\nSee the caveats in the documentation: https://pandas.pydata.org/pandas-docs/stable/user_guide/indexing.html#returning-a-view-versus-a-copy\n  input_df[column] = input_df[column].str.strip()\n/tmp/ipykernel_47/2427808540.py:4: SettingWithCopyWarning: \nA value is trying to be set on a copy of a slice from a DataFrame.\nTry using .loc[row_indexer,col_indexer] = value instead\n\nSee the caveats in the documentation: https://pandas.pydata.org/pandas-docs/stable/user_guide/indexing.html#returning-a-view-versus-a-copy\n  input_df[column] = input_df[column].str.strip()\n/tmp/ipykernel_47/2427808540.py:4: SettingWithCopyWarning: \nA value is trying to be set on a copy of a slice from a DataFrame.\nTry using .loc[row_indexer,col_indexer] = value instead\n\nSee the caveats in the documentation: https://pandas.pydata.org/pandas-docs/stable/user_guide/indexing.html#returning-a-view-versus-a-copy\n  input_df[column] = input_df[column].str.strip()\n/tmp/ipykernel_47/2427808540.py:4: SettingWithCopyWarning: \nA value is trying to be set on a copy of a slice from a DataFrame.\nTry using .loc[row_indexer,col_indexer] = value instead\n\nSee the caveats in the documentation: https://pandas.pydata.org/pandas-docs/stable/user_guide/indexing.html#returning-a-view-versus-a-copy\n  input_df[column] = input_df[column].str.strip()\n/tmp/ipykernel_47/2427808540.py:4: SettingWithCopyWarning: \nA value is trying to be set on a copy of a slice from a DataFrame.\nTry using .loc[row_indexer,col_indexer] = value instead\n\nSee the caveats in the documentation: https://pandas.pydata.org/pandas-docs/stable/user_guide/indexing.html#returning-a-view-versus-a-copy\n  input_df[column] = input_df[column].str.strip()\n/tmp/ipykernel_47/2427808540.py:4: SettingWithCopyWarning: \nA value is trying to be set on a copy of a slice from a DataFrame.\nTry using .loc[row_indexer,col_indexer] = value instead\n\nSee the caveats in the documentation: https://pandas.pydata.org/pandas-docs/stable/user_guide/indexing.html#returning-a-view-versus-a-copy\n  input_df[column] = input_df[column].str.strip()\n/tmp/ipykernel_47/2427808540.py:4: SettingWithCopyWarning: \nA value is trying to be set on a copy of a slice from a DataFrame.\nTry using .loc[row_indexer,col_indexer] = value instead\n\nSee the caveats in the documentation: https://pandas.pydata.org/pandas-docs/stable/user_guide/indexing.html#returning-a-view-versus-a-copy\n  input_df[column] = input_df[column].str.strip()\n/tmp/ipykernel_47/2427808540.py:4: SettingWithCopyWarning: \nA value is trying to be set on a copy of a slice from a DataFrame.\nTry using .loc[row_indexer,col_indexer] = value instead\n\nSee the caveats in the documentation: https://pandas.pydata.org/pandas-docs/stable/user_guide/indexing.html#returning-a-view-versus-a-copy\n  input_df[column] = input_df[column].str.strip()\n/tmp/ipykernel_47/2427808540.py:4: SettingWithCopyWarning: \nA value is trying to be set on a copy of a slice from a DataFrame.\nTry using .loc[row_indexer,col_indexer] = value instead\n\nSee the caveats in the documentation: https://pandas.pydata.org/pandas-docs/stable/user_guide/indexing.html#returning-a-view-versus-a-copy\n  input_df[column] = input_df[column].str.strip()\n/tmp/ipykernel_47/2427808540.py:4: SettingWithCopyWarning: \nA value is trying to be set on a copy of a slice from a DataFrame.\nTry using .loc[row_indexer,col_indexer] = value instead\n\nSee the caveats in the documentation: https://pandas.pydata.org/pandas-docs/stable/user_guide/indexing.html#returning-a-view-versus-a-copy\n  input_df[column] = input_df[column].str.strip()\n/tmp/ipykernel_47/2427808540.py:4: SettingWithCopyWarning: \nA value is trying to be set on a copy of a slice from a DataFrame.\nTry using .loc[row_indexer,col_indexer] = value instead\n\nSee the caveats in the documentation: https://pandas.pydata.org/pandas-docs/stable/user_guide/indexing.html#returning-a-view-versus-a-copy\n  input_df[column] = input_df[column].str.strip()\n/tmp/ipykernel_47/2427808540.py:4: SettingWithCopyWarning: \nA value is trying to be set on a copy of a slice from a DataFrame.\nTry using .loc[row_indexer,col_indexer] = value instead\n\nSee the caveats in the documentation: https://pandas.pydata.org/pandas-docs/stable/user_guide/indexing.html#returning-a-view-versus-a-copy\n  input_df[column] = input_df[column].str.strip()\n/tmp/ipykernel_47/2427808540.py:4: SettingWithCopyWarning: \nA value is trying to be set on a copy of a slice from a DataFrame.\nTry using .loc[row_indexer,col_indexer] = value instead\n\nSee the caveats in the documentation: https://pandas.pydata.org/pandas-docs/stable/user_guide/indexing.html#returning-a-view-versus-a-copy\n  input_df[column] = input_df[column].str.strip()\n/tmp/ipykernel_47/2427808540.py:4: SettingWithCopyWarning: \nA value is trying to be set on a copy of a slice from a DataFrame.\nTry using .loc[row_indexer,col_indexer] = value instead\n\nSee the caveats in the documentation: https://pandas.pydata.org/pandas-docs/stable/user_guide/indexing.html#returning-a-view-versus-a-copy\n  input_df[column] = input_df[column].str.strip()\n/tmp/ipykernel_47/2427808540.py:4: SettingWithCopyWarning: \nA value is trying to be set on a copy of a slice from a DataFrame.\nTry using .loc[row_indexer,col_indexer] = value instead\n\nSee the caveats in the documentation: https://pandas.pydata.org/pandas-docs/stable/user_guide/indexing.html#returning-a-view-versus-a-copy\n  input_df[column] = input_df[column].str.strip()\n/tmp/ipykernel_47/2427808540.py:4: SettingWithCopyWarning: \nA value is trying to be set on a copy of a slice from a DataFrame.\nTry using .loc[row_indexer,col_indexer] = value instead\n\nSee the caveats in the documentation: https://pandas.pydata.org/pandas-docs/stable/user_guide/indexing.html#returning-a-view-versus-a-copy\n  input_df[column] = input_df[column].str.strip()\n/tmp/ipykernel_47/2427808540.py:4: SettingWithCopyWarning: \nA value is trying to be set on a copy of a slice from a DataFrame.\nTry using .loc[row_indexer,col_indexer] = value instead\n\nSee the caveats in the documentation: https://pandas.pydata.org/pandas-docs/stable/user_guide/indexing.html#returning-a-view-versus-a-copy\n  input_df[column] = input_df[column].str.strip()\n/tmp/ipykernel_47/2427808540.py:4: SettingWithCopyWarning: \nA value is trying to be set on a copy of a slice from a DataFrame.\nTry using .loc[row_indexer,col_indexer] = value instead\n\nSee the caveats in the documentation: https://pandas.pydata.org/pandas-docs/stable/user_guide/indexing.html#returning-a-view-versus-a-copy\n  input_df[column] = input_df[column].str.strip()\n/tmp/ipykernel_47/2427808540.py:4: SettingWithCopyWarning: \nA value is trying to be set on a copy of a slice from a DataFrame.\nTry using .loc[row_indexer,col_indexer] = value instead\n\nSee the caveats in the documentation: https://pandas.pydata.org/pandas-docs/stable/user_guide/indexing.html#returning-a-view-versus-a-copy\n  input_df[column] = input_df[column].str.strip()\n/tmp/ipykernel_47/2427808540.py:4: SettingWithCopyWarning: \nA value is trying to be set on a copy of a slice from a DataFrame.\nTry using .loc[row_indexer,col_indexer] = value instead\n\nSee the caveats in the documentation: https://pandas.pydata.org/pandas-docs/stable/user_guide/indexing.html#returning-a-view-versus-a-copy\n  input_df[column] = input_df[column].str.strip()\n/tmp/ipykernel_47/2427808540.py:4: SettingWithCopyWarning: \nA value is trying to be set on a copy of a slice from a DataFrame.\nTry using .loc[row_indexer,col_indexer] = value instead\n\nSee the caveats in the documentation: https://pandas.pydata.org/pandas-docs/stable/user_guide/indexing.html#returning-a-view-versus-a-copy\n  input_df[column] = input_df[column].str.strip()\n/tmp/ipykernel_47/2427808540.py:4: SettingWithCopyWarning: \nA value is trying to be set on a copy of a slice from a DataFrame.\nTry using .loc[row_indexer,col_indexer] = value instead\n\nSee the caveats in the documentation: https://pandas.pydata.org/pandas-docs/stable/user_guide/indexing.html#returning-a-view-versus-a-copy\n  input_df[column] = input_df[column].str.strip()\n/tmp/ipykernel_47/2427808540.py:4: SettingWithCopyWarning: \nA value is trying to be set on a copy of a slice from a DataFrame.\nTry using .loc[row_indexer,col_indexer] = value instead\n\nSee the caveats in the documentation: https://pandas.pydata.org/pandas-docs/stable/user_guide/indexing.html#returning-a-view-versus-a-copy\n  input_df[column] = input_df[column].str.strip()\n/tmp/ipykernel_47/2427808540.py:4: SettingWithCopyWarning: \nA value is trying to be set on a copy of a slice from a DataFrame.\nTry using .loc[row_indexer,col_indexer] = value instead\n\nSee the caveats in the documentation: https://pandas.pydata.org/pandas-docs/stable/user_guide/indexing.html#returning-a-view-versus-a-copy\n  input_df[column] = input_df[column].str.strip()\n/tmp/ipykernel_47/2427808540.py:4: SettingWithCopyWarning: \nA value is trying to be set on a copy of a slice from a DataFrame.\nTry using .loc[row_indexer,col_indexer] = value instead\n\nSee the caveats in the documentation: https://pandas.pydata.org/pandas-docs/stable/user_guide/indexing.html#returning-a-view-versus-a-copy\n  input_df[column] = input_df[column].str.strip()\n/tmp/ipykernel_47/2427808540.py:4: SettingWithCopyWarning: \nA value is trying to be set on a copy of a slice from a DataFrame.\nTry using .loc[row_indexer,col_indexer] = value instead\n\nSee the caveats in the documentation: https://pandas.pydata.org/pandas-docs/stable/user_guide/indexing.html#returning-a-view-versus-a-copy\n  input_df[column] = input_df[column].str.strip()\n/tmp/ipykernel_47/2427808540.py:4: SettingWithCopyWarning: \nA value is trying to be set on a copy of a slice from a DataFrame.\nTry using .loc[row_indexer,col_indexer] = value instead\n\nSee the caveats in the documentation: https://pandas.pydata.org/pandas-docs/stable/user_guide/indexing.html#returning-a-view-versus-a-copy\n  input_df[column] = input_df[column].str.strip()\n/tmp/ipykernel_47/2427808540.py:4: SettingWithCopyWarning: \nA value is trying to be set on a copy of a slice from a DataFrame.\nTry using .loc[row_indexer,col_indexer] = value instead\n\nSee the caveats in the documentation: https://pandas.pydata.org/pandas-docs/stable/user_guide/indexing.html#returning-a-view-versus-a-copy\n  input_df[column] = input_df[column].str.strip()\n/tmp/ipykernel_47/2427808540.py:4: SettingWithCopyWarning: \nA value is trying to be set on a copy of a slice from a DataFrame.\nTry using .loc[row_indexer,col_indexer] = value instead\n\nSee the caveats in the documentation: https://pandas.pydata.org/pandas-docs/stable/user_guide/indexing.html#returning-a-view-versus-a-copy\n  input_df[column] = input_df[column].str.strip()\n/tmp/ipykernel_47/2427808540.py:4: SettingWithCopyWarning: \nA value is trying to be set on a copy of a slice from a DataFrame.\nTry using .loc[row_indexer,col_indexer] = value instead\n\nSee the caveats in the documentation: https://pandas.pydata.org/pandas-docs/stable/user_guide/indexing.html#returning-a-view-versus-a-copy\n  input_df[column] = input_df[column].str.strip()\n/tmp/ipykernel_47/2427808540.py:4: SettingWithCopyWarning: \nA value is trying to be set on a copy of a slice from a DataFrame.\nTry using .loc[row_indexer,col_indexer] = value instead\n\nSee the caveats in the documentation: https://pandas.pydata.org/pandas-docs/stable/user_guide/indexing.html#returning-a-view-versus-a-copy\n  input_df[column] = input_df[column].str.strip()\n/tmp/ipykernel_47/2427808540.py:4: SettingWithCopyWarning: \nA value is trying to be set on a copy of a slice from a DataFrame.\nTry using .loc[row_indexer,col_indexer] = value instead\n\nSee the caveats in the documentation: https://pandas.pydata.org/pandas-docs/stable/user_guide/indexing.html#returning-a-view-versus-a-copy\n  input_df[column] = input_df[column].str.strip()\n/tmp/ipykernel_47/2427808540.py:4: SettingWithCopyWarning: \nA value is trying to be set on a copy of a slice from a DataFrame.\nTry using .loc[row_indexer,col_indexer] = value instead\n\nSee the caveats in the documentation: https://pandas.pydata.org/pandas-docs/stable/user_guide/indexing.html#returning-a-view-versus-a-copy\n  input_df[column] = input_df[column].str.strip()\n/tmp/ipykernel_47/2427808540.py:4: SettingWithCopyWarning: \nA value is trying to be set on a copy of a slice from a DataFrame.\nTry using .loc[row_indexer,col_indexer] = value instead\n\nSee the caveats in the documentation: https://pandas.pydata.org/pandas-docs/stable/user_guide/indexing.html#returning-a-view-versus-a-copy\n  input_df[column] = input_df[column].str.strip()\n/tmp/ipykernel_47/2427808540.py:4: SettingWithCopyWarning: \nA value is trying to be set on a copy of a slice from a DataFrame.\nTry using .loc[row_indexer,col_indexer] = value instead\n\nSee the caveats in the documentation: https://pandas.pydata.org/pandas-docs/stable/user_guide/indexing.html#returning-a-view-versus-a-copy\n  input_df[column] = input_df[column].str.strip()\n/tmp/ipykernel_47/2427808540.py:4: SettingWithCopyWarning: \nA value is trying to be set on a copy of a slice from a DataFrame.\nTry using .loc[row_indexer,col_indexer] = value instead\n\nSee the caveats in the documentation: https://pandas.pydata.org/pandas-docs/stable/user_guide/indexing.html#returning-a-view-versus-a-copy\n  input_df[column] = input_df[column].str.strip()\n/tmp/ipykernel_47/2427808540.py:4: SettingWithCopyWarning: \nA value is trying to be set on a copy of a slice from a DataFrame.\nTry using .loc[row_indexer,col_indexer] = value instead\n\nSee the caveats in the documentation: https://pandas.pydata.org/pandas-docs/stable/user_guide/indexing.html#returning-a-view-versus-a-copy\n  input_df[column] = input_df[column].str.strip()\n/tmp/ipykernel_47/2427808540.py:4: SettingWithCopyWarning: \nA value is trying to be set on a copy of a slice from a DataFrame.\nTry using .loc[row_indexer,col_indexer] = value instead\n\nSee the caveats in the documentation: https://pandas.pydata.org/pandas-docs/stable/user_guide/indexing.html#returning-a-view-versus-a-copy\n  input_df[column] = input_df[column].str.strip()\n/tmp/ipykernel_47/2427808540.py:4: SettingWithCopyWarning: \nA value is trying to be set on a copy of a slice from a DataFrame.\nTry using .loc[row_indexer,col_indexer] = value instead\n\nSee the caveats in the documentation: https://pandas.pydata.org/pandas-docs/stable/user_guide/indexing.html#returning-a-view-versus-a-copy\n  input_df[column] = input_df[column].str.strip()\n/tmp/ipykernel_47/2427808540.py:4: SettingWithCopyWarning: \nA value is trying to be set on a copy of a slice from a DataFrame.\nTry using .loc[row_indexer,col_indexer] = value instead\n\nSee the caveats in the documentation: https://pandas.pydata.org/pandas-docs/stable/user_guide/indexing.html#returning-a-view-versus-a-copy\n  input_df[column] = input_df[column].str.strip()\n/tmp/ipykernel_47/2427808540.py:4: SettingWithCopyWarning: \nA value is trying to be set on a copy of a slice from a DataFrame.\nTry using .loc[row_indexer,col_indexer] = value instead\n\nSee the caveats in the documentation: https://pandas.pydata.org/pandas-docs/stable/user_guide/indexing.html#returning-a-view-versus-a-copy\n  input_df[column] = input_df[column].str.strip()\n/tmp/ipykernel_47/2427808540.py:4: SettingWithCopyWarning: \nA value is trying to be set on a copy of a slice from a DataFrame.\nTry using .loc[row_indexer,col_indexer] = value instead\n\nSee the caveats in the documentation: https://pandas.pydata.org/pandas-docs/stable/user_guide/indexing.html#returning-a-view-versus-a-copy\n  input_df[column] = input_df[column].str.strip()\n/tmp/ipykernel_47/2427808540.py:4: SettingWithCopyWarning: \nA value is trying to be set on a copy of a slice from a DataFrame.\nTry using .loc[row_indexer,col_indexer] = value instead\n\nSee the caveats in the documentation: https://pandas.pydata.org/pandas-docs/stable/user_guide/indexing.html#returning-a-view-versus-a-copy\n  input_df[column] = input_df[column].str.strip()\n/tmp/ipykernel_47/2427808540.py:4: SettingWithCopyWarning: \nA value is trying to be set on a copy of a slice from a DataFrame.\nTry using .loc[row_indexer,col_indexer] = value instead\n\nSee the caveats in the documentation: https://pandas.pydata.org/pandas-docs/stable/user_guide/indexing.html#returning-a-view-versus-a-copy\n  input_df[column] = input_df[column].str.strip()\n/tmp/ipykernel_47/2427808540.py:4: SettingWithCopyWarning: \nA value is trying to be set on a copy of a slice from a DataFrame.\nTry using .loc[row_indexer,col_indexer] = value instead\n\nSee the caveats in the documentation: https://pandas.pydata.org/pandas-docs/stable/user_guide/indexing.html#returning-a-view-versus-a-copy\n  input_df[column] = input_df[column].str.strip()\n/tmp/ipykernel_47/2427808540.py:4: SettingWithCopyWarning: \nA value is trying to be set on a copy of a slice from a DataFrame.\nTry using .loc[row_indexer,col_indexer] = value instead\n\nSee the caveats in the documentation: https://pandas.pydata.org/pandas-docs/stable/user_guide/indexing.html#returning-a-view-versus-a-copy\n  input_df[column] = input_df[column].str.strip()\n/tmp/ipykernel_47/2427808540.py:4: SettingWithCopyWarning: \nA value is trying to be set on a copy of a slice from a DataFrame.\nTry using .loc[row_indexer,col_indexer] = value instead\n\nSee the caveats in the documentation: https://pandas.pydata.org/pandas-docs/stable/user_guide/indexing.html#returning-a-view-versus-a-copy\n  input_df[column] = input_df[column].str.strip()\n/tmp/ipykernel_47/2427808540.py:4: SettingWithCopyWarning: \nA value is trying to be set on a copy of a slice from a DataFrame.\nTry using .loc[row_indexer,col_indexer] = value instead\n\nSee the caveats in the documentation: https://pandas.pydata.org/pandas-docs/stable/user_guide/indexing.html#returning-a-view-versus-a-copy\n  input_df[column] = input_df[column].str.strip()\n/tmp/ipykernel_47/2427808540.py:4: SettingWithCopyWarning: \nA value is trying to be set on a copy of a slice from a DataFrame.\nTry using .loc[row_indexer,col_indexer] = value instead\n\nSee the caveats in the documentation: https://pandas.pydata.org/pandas-docs/stable/user_guide/indexing.html#returning-a-view-versus-a-copy\n  input_df[column] = input_df[column].str.strip()\n/tmp/ipykernel_47/2427808540.py:4: SettingWithCopyWarning: \nA value is trying to be set on a copy of a slice from a DataFrame.\nTry using .loc[row_indexer,col_indexer] = value instead\n\nSee the caveats in the documentation: https://pandas.pydata.org/pandas-docs/stable/user_guide/indexing.html#returning-a-view-versus-a-copy\n  input_df[column] = input_df[column].str.strip()\n/tmp/ipykernel_47/2427808540.py:4: SettingWithCopyWarning: \nA value is trying to be set on a copy of a slice from a DataFrame.\nTry using .loc[row_indexer,col_indexer] = value instead\n\nSee the caveats in the documentation: https://pandas.pydata.org/pandas-docs/stable/user_guide/indexing.html#returning-a-view-versus-a-copy\n  input_df[column] = input_df[column].str.strip()\n/tmp/ipykernel_47/2427808540.py:4: SettingWithCopyWarning: \nA value is trying to be set on a copy of a slice from a DataFrame.\nTry using .loc[row_indexer,col_indexer] = value instead\n\nSee the caveats in the documentation: https://pandas.pydata.org/pandas-docs/stable/user_guide/indexing.html#returning-a-view-versus-a-copy\n  input_df[column] = input_df[column].str.strip()\n/tmp/ipykernel_47/2427808540.py:4: SettingWithCopyWarning: \nA value is trying to be set on a copy of a slice from a DataFrame.\nTry using .loc[row_indexer,col_indexer] = value instead\n\nSee the caveats in the documentation: https://pandas.pydata.org/pandas-docs/stable/user_guide/indexing.html#returning-a-view-versus-a-copy\n  input_df[column] = input_df[column].str.strip()\n/tmp/ipykernel_47/2427808540.py:4: SettingWithCopyWarning: \nA value is trying to be set on a copy of a slice from a DataFrame.\nTry using .loc[row_indexer,col_indexer] = value instead\n\nSee the caveats in the documentation: https://pandas.pydata.org/pandas-docs/stable/user_guide/indexing.html#returning-a-view-versus-a-copy\n  input_df[column] = input_df[column].str.strip()\n/tmp/ipykernel_47/2427808540.py:4: SettingWithCopyWarning: \nA value is trying to be set on a copy of a slice from a DataFrame.\nTry using .loc[row_indexer,col_indexer] = value instead\n\nSee the caveats in the documentation: https://pandas.pydata.org/pandas-docs/stable/user_guide/indexing.html#returning-a-view-versus-a-copy\n  input_df[column] = input_df[column].str.strip()\n/tmp/ipykernel_47/2427808540.py:4: SettingWithCopyWarning: \nA value is trying to be set on a copy of a slice from a DataFrame.\nTry using .loc[row_indexer,col_indexer] = value instead\n\nSee the caveats in the documentation: https://pandas.pydata.org/pandas-docs/stable/user_guide/indexing.html#returning-a-view-versus-a-copy\n  input_df[column] = input_df[column].str.strip()\n/tmp/ipykernel_47/2427808540.py:4: SettingWithCopyWarning: \nA value is trying to be set on a copy of a slice from a DataFrame.\nTry using .loc[row_indexer,col_indexer] = value instead\n\nSee the caveats in the documentation: https://pandas.pydata.org/pandas-docs/stable/user_guide/indexing.html#returning-a-view-versus-a-copy\n  input_df[column] = input_df[column].str.strip()\n/tmp/ipykernel_47/2427808540.py:4: SettingWithCopyWarning: \nA value is trying to be set on a copy of a slice from a DataFrame.\nTry using .loc[row_indexer,col_indexer] = value instead\n\nSee the caveats in the documentation: https://pandas.pydata.org/pandas-docs/stable/user_guide/indexing.html#returning-a-view-versus-a-copy\n  input_df[column] = input_df[column].str.strip()\n/tmp/ipykernel_47/2427808540.py:4: SettingWithCopyWarning: \nA value is trying to be set on a copy of a slice from a DataFrame.\nTry using .loc[row_indexer,col_indexer] = value instead\n\nSee the caveats in the documentation: https://pandas.pydata.org/pandas-docs/stable/user_guide/indexing.html#returning-a-view-versus-a-copy\n  input_df[column] = input_df[column].str.strip()\n/tmp/ipykernel_47/2427808540.py:4: SettingWithCopyWarning: \nA value is trying to be set on a copy of a slice from a DataFrame.\nTry using .loc[row_indexer,col_indexer] = value instead\n\nSee the caveats in the documentation: https://pandas.pydata.org/pandas-docs/stable/user_guide/indexing.html#returning-a-view-versus-a-copy\n  input_df[column] = input_df[column].str.strip()\n/tmp/ipykernel_47/2427808540.py:4: SettingWithCopyWarning: \nA value is trying to be set on a copy of a slice from a DataFrame.\nTry using .loc[row_indexer,col_indexer] = value instead\n\nSee the caveats in the documentation: https://pandas.pydata.org/pandas-docs/stable/user_guide/indexing.html#returning-a-view-versus-a-copy\n  input_df[column] = input_df[column].str.strip()\n/tmp/ipykernel_47/2427808540.py:4: SettingWithCopyWarning: \nA value is trying to be set on a copy of a slice from a DataFrame.\nTry using .loc[row_indexer,col_indexer] = value instead\n\nSee the caveats in the documentation: https://pandas.pydata.org/pandas-docs/stable/user_guide/indexing.html#returning-a-view-versus-a-copy\n  input_df[column] = input_df[column].str.strip()\n/tmp/ipykernel_47/2427808540.py:4: SettingWithCopyWarning: \nA value is trying to be set on a copy of a slice from a DataFrame.\nTry using .loc[row_indexer,col_indexer] = value instead\n\nSee the caveats in the documentation: https://pandas.pydata.org/pandas-docs/stable/user_guide/indexing.html#returning-a-view-versus-a-copy\n  input_df[column] = input_df[column].str.strip()\n/tmp/ipykernel_47/2427808540.py:4: SettingWithCopyWarning: \nA value is trying to be set on a copy of a slice from a DataFrame.\nTry using .loc[row_indexer,col_indexer] = value instead\n\nSee the caveats in the documentation: https://pandas.pydata.org/pandas-docs/stable/user_guide/indexing.html#returning-a-view-versus-a-copy\n  input_df[column] = input_df[column].str.strip()\n/tmp/ipykernel_47/2427808540.py:4: SettingWithCopyWarning: \nA value is trying to be set on a copy of a slice from a DataFrame.\nTry using .loc[row_indexer,col_indexer] = value instead\n\nSee the caveats in the documentation: https://pandas.pydata.org/pandas-docs/stable/user_guide/indexing.html#returning-a-view-versus-a-copy\n  input_df[column] = input_df[column].str.strip()\n/tmp/ipykernel_47/2427808540.py:4: SettingWithCopyWarning: \nA value is trying to be set on a copy of a slice from a DataFrame.\nTry using .loc[row_indexer,col_indexer] = value instead\n\nSee the caveats in the documentation: https://pandas.pydata.org/pandas-docs/stable/user_guide/indexing.html#returning-a-view-versus-a-copy\n  input_df[column] = input_df[column].str.strip()\n/tmp/ipykernel_47/2427808540.py:4: SettingWithCopyWarning: \nA value is trying to be set on a copy of a slice from a DataFrame.\nTry using .loc[row_indexer,col_indexer] = value instead\n\nSee the caveats in the documentation: https://pandas.pydata.org/pandas-docs/stable/user_guide/indexing.html#returning-a-view-versus-a-copy\n  input_df[column] = input_df[column].str.strip()\n/tmp/ipykernel_47/2427808540.py:4: SettingWithCopyWarning: \nA value is trying to be set on a copy of a slice from a DataFrame.\nTry using .loc[row_indexer,col_indexer] = value instead\n\nSee the caveats in the documentation: https://pandas.pydata.org/pandas-docs/stable/user_guide/indexing.html#returning-a-view-versus-a-copy\n  input_df[column] = input_df[column].str.strip()\n/tmp/ipykernel_47/2427808540.py:4: SettingWithCopyWarning: \nA value is trying to be set on a copy of a slice from a DataFrame.\nTry using .loc[row_indexer,col_indexer] = value instead\n\nSee the caveats in the documentation: https://pandas.pydata.org/pandas-docs/stable/user_guide/indexing.html#returning-a-view-versus-a-copy\n  input_df[column] = input_df[column].str.strip()\n/tmp/ipykernel_47/2427808540.py:4: SettingWithCopyWarning: \nA value is trying to be set on a copy of a slice from a DataFrame.\nTry using .loc[row_indexer,col_indexer] = value instead\n\nSee the caveats in the documentation: https://pandas.pydata.org/pandas-docs/stable/user_guide/indexing.html#returning-a-view-versus-a-copy\n  input_df[column] = input_df[column].str.strip()\n/tmp/ipykernel_47/2427808540.py:4: SettingWithCopyWarning: \nA value is trying to be set on a copy of a slice from a DataFrame.\nTry using .loc[row_indexer,col_indexer] = value instead\n\nSee the caveats in the documentation: https://pandas.pydata.org/pandas-docs/stable/user_guide/indexing.html#returning-a-view-versus-a-copy\n  input_df[column] = input_df[column].str.strip()\n/tmp/ipykernel_47/2427808540.py:4: SettingWithCopyWarning: \nA value is trying to be set on a copy of a slice from a DataFrame.\nTry using .loc[row_indexer,col_indexer] = value instead\n\nSee the caveats in the documentation: https://pandas.pydata.org/pandas-docs/stable/user_guide/indexing.html#returning-a-view-versus-a-copy\n  input_df[column] = input_df[column].str.strip()\n/tmp/ipykernel_47/2427808540.py:4: SettingWithCopyWarning: \nA value is trying to be set on a copy of a slice from a DataFrame.\nTry using .loc[row_indexer,col_indexer] = value instead\n\nSee the caveats in the documentation: https://pandas.pydata.org/pandas-docs/stable/user_guide/indexing.html#returning-a-view-versus-a-copy\n  input_df[column] = input_df[column].str.strip()\n/tmp/ipykernel_47/2427808540.py:4: SettingWithCopyWarning: \nA value is trying to be set on a copy of a slice from a DataFrame.\nTry using .loc[row_indexer,col_indexer] = value instead\n\nSee the caveats in the documentation: https://pandas.pydata.org/pandas-docs/stable/user_guide/indexing.html#returning-a-view-versus-a-copy\n  input_df[column] = input_df[column].str.strip()\n/tmp/ipykernel_47/2427808540.py:4: SettingWithCopyWarning: \nA value is trying to be set on a copy of a slice from a DataFrame.\nTry using .loc[row_indexer,col_indexer] = value instead\n\nSee the caveats in the documentation: https://pandas.pydata.org/pandas-docs/stable/user_guide/indexing.html#returning-a-view-versus-a-copy\n  input_df[column] = input_df[column].str.strip()\n/tmp/ipykernel_47/2427808540.py:4: SettingWithCopyWarning: \nA value is trying to be set on a copy of a slice from a DataFrame.\nTry using .loc[row_indexer,col_indexer] = value instead\n\nSee the caveats in the documentation: https://pandas.pydata.org/pandas-docs/stable/user_guide/indexing.html#returning-a-view-versus-a-copy\n  input_df[column] = input_df[column].str.strip()\n/tmp/ipykernel_47/2427808540.py:4: SettingWithCopyWarning: \nA value is trying to be set on a copy of a slice from a DataFrame.\nTry using .loc[row_indexer,col_indexer] = value instead\n\nSee the caveats in the documentation: https://pandas.pydata.org/pandas-docs/stable/user_guide/indexing.html#returning-a-view-versus-a-copy\n  input_df[column] = input_df[column].str.strip()\n/tmp/ipykernel_47/2427808540.py:4: SettingWithCopyWarning: \nA value is trying to be set on a copy of a slice from a DataFrame.\nTry using .loc[row_indexer,col_indexer] = value instead\n\nSee the caveats in the documentation: https://pandas.pydata.org/pandas-docs/stable/user_guide/indexing.html#returning-a-view-versus-a-copy\n  input_df[column] = input_df[column].str.strip()\n/tmp/ipykernel_47/2427808540.py:4: SettingWithCopyWarning: \nA value is trying to be set on a copy of a slice from a DataFrame.\nTry using .loc[row_indexer,col_indexer] = value instead\n\nSee the caveats in the documentation: https://pandas.pydata.org/pandas-docs/stable/user_guide/indexing.html#returning-a-view-versus-a-copy\n  input_df[column] = input_df[column].str.strip()\n/tmp/ipykernel_47/2427808540.py:4: SettingWithCopyWarning: \nA value is trying to be set on a copy of a slice from a DataFrame.\nTry using .loc[row_indexer,col_indexer] = value instead\n\nSee the caveats in the documentation: https://pandas.pydata.org/pandas-docs/stable/user_guide/indexing.html#returning-a-view-versus-a-copy\n  input_df[column] = input_df[column].str.strip()\n/tmp/ipykernel_47/2427808540.py:4: SettingWithCopyWarning: \nA value is trying to be set on a copy of a slice from a DataFrame.\nTry using .loc[row_indexer,col_indexer] = value instead\n\nSee the caveats in the documentation: https://pandas.pydata.org/pandas-docs/stable/user_guide/indexing.html#returning-a-view-versus-a-copy\n  input_df[column] = input_df[column].str.strip()\n/tmp/ipykernel_47/2427808540.py:4: SettingWithCopyWarning: \nA value is trying to be set on a copy of a slice from a DataFrame.\nTry using .loc[row_indexer,col_indexer] = value instead\n\nSee the caveats in the documentation: https://pandas.pydata.org/pandas-docs/stable/user_guide/indexing.html#returning-a-view-versus-a-copy\n  input_df[column] = input_df[column].str.strip()\n/tmp/ipykernel_47/2427808540.py:4: SettingWithCopyWarning: \nA value is trying to be set on a copy of a slice from a DataFrame.\nTry using .loc[row_indexer,col_indexer] = value instead\n\nSee the caveats in the documentation: https://pandas.pydata.org/pandas-docs/stable/user_guide/indexing.html#returning-a-view-versus-a-copy\n  input_df[column] = input_df[column].str.strip()\n/tmp/ipykernel_47/2427808540.py:4: SettingWithCopyWarning: \nA value is trying to be set on a copy of a slice from a DataFrame.\nTry using .loc[row_indexer,col_indexer] = value instead\n\nSee the caveats in the documentation: https://pandas.pydata.org/pandas-docs/stable/user_guide/indexing.html#returning-a-view-versus-a-copy\n  input_df[column] = input_df[column].str.strip()\n/tmp/ipykernel_47/2427808540.py:4: SettingWithCopyWarning: \nA value is trying to be set on a copy of a slice from a DataFrame.\nTry using .loc[row_indexer,col_indexer] = value instead\n\nSee the caveats in the documentation: https://pandas.pydata.org/pandas-docs/stable/user_guide/indexing.html#returning-a-view-versus-a-copy\n  input_df[column] = input_df[column].str.strip()\n/tmp/ipykernel_47/2427808540.py:4: SettingWithCopyWarning: \nA value is trying to be set on a copy of a slice from a DataFrame.\nTry using .loc[row_indexer,col_indexer] = value instead\n\nSee the caveats in the documentation: https://pandas.pydata.org/pandas-docs/stable/user_guide/indexing.html#returning-a-view-versus-a-copy\n  input_df[column] = input_df[column].str.strip()\n/tmp/ipykernel_47/2427808540.py:4: SettingWithCopyWarning: \nA value is trying to be set on a copy of a slice from a DataFrame.\nTry using .loc[row_indexer,col_indexer] = value instead\n\nSee the caveats in the documentation: https://pandas.pydata.org/pandas-docs/stable/user_guide/indexing.html#returning-a-view-versus-a-copy\n  input_df[column] = input_df[column].str.strip()\n/tmp/ipykernel_47/2427808540.py:4: SettingWithCopyWarning: \nA value is trying to be set on a copy of a slice from a DataFrame.\nTry using .loc[row_indexer,col_indexer] = value instead\n\nSee the caveats in the documentation: https://pandas.pydata.org/pandas-docs/stable/user_guide/indexing.html#returning-a-view-versus-a-copy\n  input_df[column] = input_df[column].str.strip()\n/tmp/ipykernel_47/2427808540.py:4: SettingWithCopyWarning: \nA value is trying to be set on a copy of a slice from a DataFrame.\nTry using .loc[row_indexer,col_indexer] = value instead\n\nSee the caveats in the documentation: https://pandas.pydata.org/pandas-docs/stable/user_guide/indexing.html#returning-a-view-versus-a-copy\n  input_df[column] = input_df[column].str.strip()\n/tmp/ipykernel_47/2427808540.py:4: SettingWithCopyWarning: \nA value is trying to be set on a copy of a slice from a DataFrame.\nTry using .loc[row_indexer,col_indexer] = value instead\n\nSee the caveats in the documentation: https://pandas.pydata.org/pandas-docs/stable/user_guide/indexing.html#returning-a-view-versus-a-copy\n  input_df[column] = input_df[column].str.strip()\n/tmp/ipykernel_47/2427808540.py:4: SettingWithCopyWarning: \nA value is trying to be set on a copy of a slice from a DataFrame.\nTry using .loc[row_indexer,col_indexer] = value instead\n\nSee the caveats in the documentation: https://pandas.pydata.org/pandas-docs/stable/user_guide/indexing.html#returning-a-view-versus-a-copy\n  input_df[column] = input_df[column].str.strip()\n/tmp/ipykernel_47/2427808540.py:4: SettingWithCopyWarning: \nA value is trying to be set on a copy of a slice from a DataFrame.\nTry using .loc[row_indexer,col_indexer] = value instead\n\nSee the caveats in the documentation: https://pandas.pydata.org/pandas-docs/stable/user_guide/indexing.html#returning-a-view-versus-a-copy\n  input_df[column] = input_df[column].str.strip()\n/tmp/ipykernel_47/2427808540.py:4: SettingWithCopyWarning: \nA value is trying to be set on a copy of a slice from a DataFrame.\nTry using .loc[row_indexer,col_indexer] = value instead\n\nSee the caveats in the documentation: https://pandas.pydata.org/pandas-docs/stable/user_guide/indexing.html#returning-a-view-versus-a-copy\n  input_df[column] = input_df[column].str.strip()\n/tmp/ipykernel_47/2427808540.py:4: SettingWithCopyWarning: \nA value is trying to be set on a copy of a slice from a DataFrame.\nTry using .loc[row_indexer,col_indexer] = value instead\n\nSee the caveats in the documentation: https://pandas.pydata.org/pandas-docs/stable/user_guide/indexing.html#returning-a-view-versus-a-copy\n  input_df[column] = input_df[column].str.strip()\n/tmp/ipykernel_47/2427808540.py:4: SettingWithCopyWarning: \nA value is trying to be set on a copy of a slice from a DataFrame.\nTry using .loc[row_indexer,col_indexer] = value instead\n\nSee the caveats in the documentation: https://pandas.pydata.org/pandas-docs/stable/user_guide/indexing.html#returning-a-view-versus-a-copy\n  input_df[column] = input_df[column].str.strip()\n/tmp/ipykernel_47/2427808540.py:4: SettingWithCopyWarning: \nA value is trying to be set on a copy of a slice from a DataFrame.\nTry using .loc[row_indexer,col_indexer] = value instead\n\nSee the caveats in the documentation: https://pandas.pydata.org/pandas-docs/stable/user_guide/indexing.html#returning-a-view-versus-a-copy\n  input_df[column] = input_df[column].str.strip()\n/tmp/ipykernel_47/2427808540.py:4: SettingWithCopyWarning: \nA value is trying to be set on a copy of a slice from a DataFrame.\nTry using .loc[row_indexer,col_indexer] = value instead\n\nSee the caveats in the documentation: https://pandas.pydata.org/pandas-docs/stable/user_guide/indexing.html#returning-a-view-versus-a-copy\n  input_df[column] = input_df[column].str.strip()\n/tmp/ipykernel_47/2427808540.py:4: SettingWithCopyWarning: \nA value is trying to be set on a copy of a slice from a DataFrame.\nTry using .loc[row_indexer,col_indexer] = value instead\n\nSee the caveats in the documentation: https://pandas.pydata.org/pandas-docs/stable/user_guide/indexing.html#returning-a-view-versus-a-copy\n  input_df[column] = input_df[column].str.strip()\n/tmp/ipykernel_47/2427808540.py:4: SettingWithCopyWarning: \nA value is trying to be set on a copy of a slice from a DataFrame.\nTry using .loc[row_indexer,col_indexer] = value instead\n\nSee the caveats in the documentation: https://pandas.pydata.org/pandas-docs/stable/user_guide/indexing.html#returning-a-view-versus-a-copy\n  input_df[column] = input_df[column].str.strip()\n/tmp/ipykernel_47/2427808540.py:4: SettingWithCopyWarning: \nA value is trying to be set on a copy of a slice from a DataFrame.\nTry using .loc[row_indexer,col_indexer] = value instead\n\nSee the caveats in the documentation: https://pandas.pydata.org/pandas-docs/stable/user_guide/indexing.html#returning-a-view-versus-a-copy\n  input_df[column] = input_df[column].str.strip()\n/tmp/ipykernel_47/2427808540.py:4: SettingWithCopyWarning: \nA value is trying to be set on a copy of a slice from a DataFrame.\nTry using .loc[row_indexer,col_indexer] = value instead\n\nSee the caveats in the documentation: https://pandas.pydata.org/pandas-docs/stable/user_guide/indexing.html#returning-a-view-versus-a-copy\n  input_df[column] = input_df[column].str.strip()\n/tmp/ipykernel_47/2427808540.py:4: SettingWithCopyWarning: \nA value is trying to be set on a copy of a slice from a DataFrame.\nTry using .loc[row_indexer,col_indexer] = value instead\n\nSee the caveats in the documentation: https://pandas.pydata.org/pandas-docs/stable/user_guide/indexing.html#returning-a-view-versus-a-copy\n  input_df[column] = input_df[column].str.strip()\n/tmp/ipykernel_47/2427808540.py:4: SettingWithCopyWarning: \nA value is trying to be set on a copy of a slice from a DataFrame.\nTry using .loc[row_indexer,col_indexer] = value instead\n\nSee the caveats in the documentation: https://pandas.pydata.org/pandas-docs/stable/user_guide/indexing.html#returning-a-view-versus-a-copy\n  input_df[column] = input_df[column].str.strip()\n/tmp/ipykernel_47/2427808540.py:4: SettingWithCopyWarning: \nA value is trying to be set on a copy of a slice from a DataFrame.\nTry using .loc[row_indexer,col_indexer] = value instead\n\nSee the caveats in the documentation: https://pandas.pydata.org/pandas-docs/stable/user_guide/indexing.html#returning-a-view-versus-a-copy\n  input_df[column] = input_df[column].str.strip()\n/tmp/ipykernel_47/2427808540.py:4: SettingWithCopyWarning: \nA value is trying to be set on a copy of a slice from a DataFrame.\nTry using .loc[row_indexer,col_indexer] = value instead\n\nSee the caveats in the documentation: https://pandas.pydata.org/pandas-docs/stable/user_guide/indexing.html#returning-a-view-versus-a-copy\n  input_df[column] = input_df[column].str.strip()\n/tmp/ipykernel_47/2427808540.py:4: SettingWithCopyWarning: \nA value is trying to be set on a copy of a slice from a DataFrame.\nTry using .loc[row_indexer,col_indexer] = value instead\n\nSee the caveats in the documentation: https://pandas.pydata.org/pandas-docs/stable/user_guide/indexing.html#returning-a-view-versus-a-copy\n  input_df[column] = input_df[column].str.strip()\n/tmp/ipykernel_47/2427808540.py:4: SettingWithCopyWarning: \nA value is trying to be set on a copy of a slice from a DataFrame.\nTry using .loc[row_indexer,col_indexer] = value instead\n\nSee the caveats in the documentation: https://pandas.pydata.org/pandas-docs/stable/user_guide/indexing.html#returning-a-view-versus-a-copy\n  input_df[column] = input_df[column].str.strip()\n/tmp/ipykernel_47/2427808540.py:4: SettingWithCopyWarning: \nA value is trying to be set on a copy of a slice from a DataFrame.\nTry using .loc[row_indexer,col_indexer] = value instead\n\nSee the caveats in the documentation: https://pandas.pydata.org/pandas-docs/stable/user_guide/indexing.html#returning-a-view-versus-a-copy\n  input_df[column] = input_df[column].str.strip()\n/tmp/ipykernel_47/2427808540.py:4: SettingWithCopyWarning: \nA value is trying to be set on a copy of a slice from a DataFrame.\nTry using .loc[row_indexer,col_indexer] = value instead\n\nSee the caveats in the documentation: https://pandas.pydata.org/pandas-docs/stable/user_guide/indexing.html#returning-a-view-versus-a-copy\n  input_df[column] = input_df[column].str.strip()\n/tmp/ipykernel_47/2427808540.py:4: SettingWithCopyWarning: \nA value is trying to be set on a copy of a slice from a DataFrame.\nTry using .loc[row_indexer,col_indexer] = value instead\n\nSee the caveats in the documentation: https://pandas.pydata.org/pandas-docs/stable/user_guide/indexing.html#returning-a-view-versus-a-copy\n  input_df[column] = input_df[column].str.strip()\n/tmp/ipykernel_47/2427808540.py:4: SettingWithCopyWarning: \nA value is trying to be set on a copy of a slice from a DataFrame.\nTry using .loc[row_indexer,col_indexer] = value instead\n\nSee the caveats in the documentation: https://pandas.pydata.org/pandas-docs/stable/user_guide/indexing.html#returning-a-view-versus-a-copy\n  input_df[column] = input_df[column].str.strip()\n/tmp/ipykernel_47/2427808540.py:4: SettingWithCopyWarning: \nA value is trying to be set on a copy of a slice from a DataFrame.\nTry using .loc[row_indexer,col_indexer] = value instead\n\nSee the caveats in the documentation: https://pandas.pydata.org/pandas-docs/stable/user_guide/indexing.html#returning-a-view-versus-a-copy\n  input_df[column] = input_df[column].str.strip()\n/tmp/ipykernel_47/2427808540.py:4: SettingWithCopyWarning: \nA value is trying to be set on a copy of a slice from a DataFrame.\nTry using .loc[row_indexer,col_indexer] = value instead\n\nSee the caveats in the documentation: https://pandas.pydata.org/pandas-docs/stable/user_guide/indexing.html#returning-a-view-versus-a-copy\n  input_df[column] = input_df[column].str.strip()\n/tmp/ipykernel_47/2427808540.py:4: SettingWithCopyWarning: \nA value is trying to be set on a copy of a slice from a DataFrame.\nTry using .loc[row_indexer,col_indexer] = value instead\n\nSee the caveats in the documentation: https://pandas.pydata.org/pandas-docs/stable/user_guide/indexing.html#returning-a-view-versus-a-copy\n  input_df[column] = input_df[column].str.strip()\n/tmp/ipykernel_47/2427808540.py:4: SettingWithCopyWarning: \nA value is trying to be set on a copy of a slice from a DataFrame.\nTry using .loc[row_indexer,col_indexer] = value instead\n\nSee the caveats in the documentation: https://pandas.pydata.org/pandas-docs/stable/user_guide/indexing.html#returning-a-view-versus-a-copy\n  input_df[column] = input_df[column].str.strip()\n/tmp/ipykernel_47/2427808540.py:4: SettingWithCopyWarning: \nA value is trying to be set on a copy of a slice from a DataFrame.\nTry using .loc[row_indexer,col_indexer] = value instead\n\nSee the caveats in the documentation: https://pandas.pydata.org/pandas-docs/stable/user_guide/indexing.html#returning-a-view-versus-a-copy\n  input_df[column] = input_df[column].str.strip()\n/tmp/ipykernel_47/2427808540.py:4: SettingWithCopyWarning: \nA value is trying to be set on a copy of a slice from a DataFrame.\nTry using .loc[row_indexer,col_indexer] = value instead\n\nSee the caveats in the documentation: https://pandas.pydata.org/pandas-docs/stable/user_guide/indexing.html#returning-a-view-versus-a-copy\n  input_df[column] = input_df[column].str.strip()\n/tmp/ipykernel_47/2427808540.py:4: SettingWithCopyWarning: \nA value is trying to be set on a copy of a slice from a DataFrame.\nTry using .loc[row_indexer,col_indexer] = value instead\n\nSee the caveats in the documentation: https://pandas.pydata.org/pandas-docs/stable/user_guide/indexing.html#returning-a-view-versus-a-copy\n  input_df[column] = input_df[column].str.strip()\n/tmp/ipykernel_47/2427808540.py:4: SettingWithCopyWarning: \nA value is trying to be set on a copy of a slice from a DataFrame.\nTry using .loc[row_indexer,col_indexer] = value instead\n\nSee the caveats in the documentation: https://pandas.pydata.org/pandas-docs/stable/user_guide/indexing.html#returning-a-view-versus-a-copy\n  input_df[column] = input_df[column].str.strip()\n/tmp/ipykernel_47/2427808540.py:4: SettingWithCopyWarning: \nA value is trying to be set on a copy of a slice from a DataFrame.\nTry using .loc[row_indexer,col_indexer] = value instead\n\nSee the caveats in the documentation: https://pandas.pydata.org/pandas-docs/stable/user_guide/indexing.html#returning-a-view-versus-a-copy\n  input_df[column] = input_df[column].str.strip()\n/tmp/ipykernel_47/2427808540.py:4: SettingWithCopyWarning: \nA value is trying to be set on a copy of a slice from a DataFrame.\nTry using .loc[row_indexer,col_indexer] = value instead\n\nSee the caveats in the documentation: https://pandas.pydata.org/pandas-docs/stable/user_guide/indexing.html#returning-a-view-versus-a-copy\n  input_df[column] = input_df[column].str.strip()\n/tmp/ipykernel_47/2427808540.py:4: SettingWithCopyWarning: \nA value is trying to be set on a copy of a slice from a DataFrame.\nTry using .loc[row_indexer,col_indexer] = value instead\n\nSee the caveats in the documentation: https://pandas.pydata.org/pandas-docs/stable/user_guide/indexing.html#returning-a-view-versus-a-copy\n  input_df[column] = input_df[column].str.strip()\n/tmp/ipykernel_47/2427808540.py:4: SettingWithCopyWarning: \nA value is trying to be set on a copy of a slice from a DataFrame.\nTry using .loc[row_indexer,col_indexer] = value instead\n\nSee the caveats in the documentation: https://pandas.pydata.org/pandas-docs/stable/user_guide/indexing.html#returning-a-view-versus-a-copy\n  input_df[column] = input_df[column].str.strip()\n/tmp/ipykernel_47/2427808540.py:4: SettingWithCopyWarning: \nA value is trying to be set on a copy of a slice from a DataFrame.\nTry using .loc[row_indexer,col_indexer] = value instead\n\nSee the caveats in the documentation: https://pandas.pydata.org/pandas-docs/stable/user_guide/indexing.html#returning-a-view-versus-a-copy\n  input_df[column] = input_df[column].str.strip()\n/tmp/ipykernel_47/2427808540.py:4: SettingWithCopyWarning: \nA value is trying to be set on a copy of a slice from a DataFrame.\nTry using .loc[row_indexer,col_indexer] = value instead\n\nSee the caveats in the documentation: https://pandas.pydata.org/pandas-docs/stable/user_guide/indexing.html#returning-a-view-versus-a-copy\n  input_df[column] = input_df[column].str.strip()\n/tmp/ipykernel_47/2427808540.py:4: SettingWithCopyWarning: \nA value is trying to be set on a copy of a slice from a DataFrame.\nTry using .loc[row_indexer,col_indexer] = value instead\n\nSee the caveats in the documentation: https://pandas.pydata.org/pandas-docs/stable/user_guide/indexing.html#returning-a-view-versus-a-copy\n  input_df[column] = input_df[column].str.strip()\n/tmp/ipykernel_47/2427808540.py:4: SettingWithCopyWarning: \nA value is trying to be set on a copy of a slice from a DataFrame.\nTry using .loc[row_indexer,col_indexer] = value instead\n\nSee the caveats in the documentation: https://pandas.pydata.org/pandas-docs/stable/user_guide/indexing.html#returning-a-view-versus-a-copy\n  input_df[column] = input_df[column].str.strip()\n/tmp/ipykernel_47/2427808540.py:4: SettingWithCopyWarning: \nA value is trying to be set on a copy of a slice from a DataFrame.\nTry using .loc[row_indexer,col_indexer] = value instead\n\nSee the caveats in the documentation: https://pandas.pydata.org/pandas-docs/stable/user_guide/indexing.html#returning-a-view-versus-a-copy\n  input_df[column] = input_df[column].str.strip()\n/tmp/ipykernel_47/2427808540.py:4: SettingWithCopyWarning: \nA value is trying to be set on a copy of a slice from a DataFrame.\nTry using .loc[row_indexer,col_indexer] = value instead\n\nSee the caveats in the documentation: https://pandas.pydata.org/pandas-docs/stable/user_guide/indexing.html#returning-a-view-versus-a-copy\n  input_df[column] = input_df[column].str.strip()\n/tmp/ipykernel_47/2427808540.py:4: SettingWithCopyWarning: \nA value is trying to be set on a copy of a slice from a DataFrame.\nTry using .loc[row_indexer,col_indexer] = value instead\n\nSee the caveats in the documentation: https://pandas.pydata.org/pandas-docs/stable/user_guide/indexing.html#returning-a-view-versus-a-copy\n  input_df[column] = input_df[column].str.strip()\n/tmp/ipykernel_47/2427808540.py:4: SettingWithCopyWarning: \nA value is trying to be set on a copy of a slice from a DataFrame.\nTry using .loc[row_indexer,col_indexer] = value instead\n\nSee the caveats in the documentation: https://pandas.pydata.org/pandas-docs/stable/user_guide/indexing.html#returning-a-view-versus-a-copy\n  input_df[column] = input_df[column].str.strip()\n/tmp/ipykernel_47/2427808540.py:4: SettingWithCopyWarning: \nA value is trying to be set on a copy of a slice from a DataFrame.\nTry using .loc[row_indexer,col_indexer] = value instead\n\nSee the caveats in the documentation: https://pandas.pydata.org/pandas-docs/stable/user_guide/indexing.html#returning-a-view-versus-a-copy\n  input_df[column] = input_df[column].str.strip()\n/tmp/ipykernel_47/2427808540.py:4: SettingWithCopyWarning: \nA value is trying to be set on a copy of a slice from a DataFrame.\nTry using .loc[row_indexer,col_indexer] = value instead\n\nSee the caveats in the documentation: https://pandas.pydata.org/pandas-docs/stable/user_guide/indexing.html#returning-a-view-versus-a-copy\n  input_df[column] = input_df[column].str.strip()\n/tmp/ipykernel_47/2427808540.py:4: SettingWithCopyWarning: \nA value is trying to be set on a copy of a slice from a DataFrame.\nTry using .loc[row_indexer,col_indexer] = value instead\n\nSee the caveats in the documentation: https://pandas.pydata.org/pandas-docs/stable/user_guide/indexing.html#returning-a-view-versus-a-copy\n  input_df[column] = input_df[column].str.strip()\n/tmp/ipykernel_47/2427808540.py:4: SettingWithCopyWarning: \nA value is trying to be set on a copy of a slice from a DataFrame.\nTry using .loc[row_indexer,col_indexer] = value instead\n\nSee the caveats in the documentation: https://pandas.pydata.org/pandas-docs/stable/user_guide/indexing.html#returning-a-view-versus-a-copy\n  input_df[column] = input_df[column].str.strip()\n/tmp/ipykernel_47/2427808540.py:4: SettingWithCopyWarning: \nA value is trying to be set on a copy of a slice from a DataFrame.\nTry using .loc[row_indexer,col_indexer] = value instead\n\nSee the caveats in the documentation: https://pandas.pydata.org/pandas-docs/stable/user_guide/indexing.html#returning-a-view-versus-a-copy\n  input_df[column] = input_df[column].str.strip()\n/tmp/ipykernel_47/2427808540.py:4: SettingWithCopyWarning: \nA value is trying to be set on a copy of a slice from a DataFrame.\nTry using .loc[row_indexer,col_indexer] = value instead\n\nSee the caveats in the documentation: https://pandas.pydata.org/pandas-docs/stable/user_guide/indexing.html#returning-a-view-versus-a-copy\n  input_df[column] = input_df[column].str.strip()\n/tmp/ipykernel_47/2427808540.py:4: SettingWithCopyWarning: \nA value is trying to be set on a copy of a slice from a DataFrame.\nTry using .loc[row_indexer,col_indexer] = value instead\n\nSee the caveats in the documentation: https://pandas.pydata.org/pandas-docs/stable/user_guide/indexing.html#returning-a-view-versus-a-copy\n  input_df[column] = input_df[column].str.strip()\n/tmp/ipykernel_47/2427808540.py:4: SettingWithCopyWarning: \nA value is trying to be set on a copy of a slice from a DataFrame.\nTry using .loc[row_indexer,col_indexer] = value instead\n\nSee the caveats in the documentation: https://pandas.pydata.org/pandas-docs/stable/user_guide/indexing.html#returning-a-view-versus-a-copy\n  input_df[column] = input_df[column].str.strip()\n/tmp/ipykernel_47/2427808540.py:4: SettingWithCopyWarning: \nA value is trying to be set on a copy of a slice from a DataFrame.\nTry using .loc[row_indexer,col_indexer] = value instead\n\nSee the caveats in the documentation: https://pandas.pydata.org/pandas-docs/stable/user_guide/indexing.html#returning-a-view-versus-a-copy\n  input_df[column] = input_df[column].str.strip()\n/tmp/ipykernel_47/2427808540.py:4: SettingWithCopyWarning: \nA value is trying to be set on a copy of a slice from a DataFrame.\nTry using .loc[row_indexer,col_indexer] = value instead\n\nSee the caveats in the documentation: https://pandas.pydata.org/pandas-docs/stable/user_guide/indexing.html#returning-a-view-versus-a-copy\n  input_df[column] = input_df[column].str.strip()\n/tmp/ipykernel_47/2427808540.py:4: SettingWithCopyWarning: \nA value is trying to be set on a copy of a slice from a DataFrame.\nTry using .loc[row_indexer,col_indexer] = value instead\n\nSee the caveats in the documentation: https://pandas.pydata.org/pandas-docs/stable/user_guide/indexing.html#returning-a-view-versus-a-copy\n  input_df[column] = input_df[column].str.strip()\n/tmp/ipykernel_47/2427808540.py:4: SettingWithCopyWarning: \nA value is trying to be set on a copy of a slice from a DataFrame.\nTry using .loc[row_indexer,col_indexer] = value instead\n\nSee the caveats in the documentation: https://pandas.pydata.org/pandas-docs/stable/user_guide/indexing.html#returning-a-view-versus-a-copy\n  input_df[column] = input_df[column].str.strip()\n/tmp/ipykernel_47/2427808540.py:4: SettingWithCopyWarning: \nA value is trying to be set on a copy of a slice from a DataFrame.\nTry using .loc[row_indexer,col_indexer] = value instead\n\nSee the caveats in the documentation: https://pandas.pydata.org/pandas-docs/stable/user_guide/indexing.html#returning-a-view-versus-a-copy\n  input_df[column] = input_df[column].str.strip()\n/tmp/ipykernel_47/2427808540.py:4: SettingWithCopyWarning: \nA value is trying to be set on a copy of a slice from a DataFrame.\nTry using .loc[row_indexer,col_indexer] = value instead\n\nSee the caveats in the documentation: https://pandas.pydata.org/pandas-docs/stable/user_guide/indexing.html#returning-a-view-versus-a-copy\n  input_df[column] = input_df[column].str.strip()\n/tmp/ipykernel_47/2427808540.py:4: SettingWithCopyWarning: \nA value is trying to be set on a copy of a slice from a DataFrame.\nTry using .loc[row_indexer,col_indexer] = value instead\n\nSee the caveats in the documentation: https://pandas.pydata.org/pandas-docs/stable/user_guide/indexing.html#returning-a-view-versus-a-copy\n  input_df[column] = input_df[column].str.strip()\n/tmp/ipykernel_47/2427808540.py:4: SettingWithCopyWarning: \nA value is trying to be set on a copy of a slice from a DataFrame.\nTry using .loc[row_indexer,col_indexer] = value instead\n\nSee the caveats in the documentation: https://pandas.pydata.org/pandas-docs/stable/user_guide/indexing.html#returning-a-view-versus-a-copy\n  input_df[column] = input_df[column].str.strip()\n/tmp/ipykernel_47/2427808540.py:4: SettingWithCopyWarning: \nA value is trying to be set on a copy of a slice from a DataFrame.\nTry using .loc[row_indexer,col_indexer] = value instead\n\nSee the caveats in the documentation: https://pandas.pydata.org/pandas-docs/stable/user_guide/indexing.html#returning-a-view-versus-a-copy\n  input_df[column] = input_df[column].str.strip()\n/tmp/ipykernel_47/2427808540.py:4: SettingWithCopyWarning: \nA value is trying to be set on a copy of a slice from a DataFrame.\nTry using .loc[row_indexer,col_indexer] = value instead\n\nSee the caveats in the documentation: https://pandas.pydata.org/pandas-docs/stable/user_guide/indexing.html#returning-a-view-versus-a-copy\n  input_df[column] = input_df[column].str.strip()\n/tmp/ipykernel_47/2427808540.py:4: SettingWithCopyWarning: \nA value is trying to be set on a copy of a slice from a DataFrame.\nTry using .loc[row_indexer,col_indexer] = value instead\n\nSee the caveats in the documentation: https://pandas.pydata.org/pandas-docs/stable/user_guide/indexing.html#returning-a-view-versus-a-copy\n  input_df[column] = input_df[column].str.strip()\n/tmp/ipykernel_47/2427808540.py:4: SettingWithCopyWarning: \nA value is trying to be set on a copy of a slice from a DataFrame.\nTry using .loc[row_indexer,col_indexer] = value instead\n\nSee the caveats in the documentation: https://pandas.pydata.org/pandas-docs/stable/user_guide/indexing.html#returning-a-view-versus-a-copy\n  input_df[column] = input_df[column].str.strip()\n/tmp/ipykernel_47/2427808540.py:4: SettingWithCopyWarning: \nA value is trying to be set on a copy of a slice from a DataFrame.\nTry using .loc[row_indexer,col_indexer] = value instead\n\nSee the caveats in the documentation: https://pandas.pydata.org/pandas-docs/stable/user_guide/indexing.html#returning-a-view-versus-a-copy\n  input_df[column] = input_df[column].str.strip()\n/tmp/ipykernel_47/2427808540.py:4: SettingWithCopyWarning: \nA value is trying to be set on a copy of a slice from a DataFrame.\nTry using .loc[row_indexer,col_indexer] = value instead\n\nSee the caveats in the documentation: https://pandas.pydata.org/pandas-docs/stable/user_guide/indexing.html#returning-a-view-versus-a-copy\n  input_df[column] = input_df[column].str.strip()\n/tmp/ipykernel_47/2427808540.py:4: SettingWithCopyWarning: \nA value is trying to be set on a copy of a slice from a DataFrame.\nTry using .loc[row_indexer,col_indexer] = value instead\n\nSee the caveats in the documentation: https://pandas.pydata.org/pandas-docs/stable/user_guide/indexing.html#returning-a-view-versus-a-copy\n  input_df[column] = input_df[column].str.strip()\n/tmp/ipykernel_47/2427808540.py:4: SettingWithCopyWarning: \nA value is trying to be set on a copy of a slice from a DataFrame.\nTry using .loc[row_indexer,col_indexer] = value instead\n\nSee the caveats in the documentation: https://pandas.pydata.org/pandas-docs/stable/user_guide/indexing.html#returning-a-view-versus-a-copy\n  input_df[column] = input_df[column].str.strip()\n/tmp/ipykernel_47/2427808540.py:4: SettingWithCopyWarning: \nA value is trying to be set on a copy of a slice from a DataFrame.\nTry using .loc[row_indexer,col_indexer] = value instead\n\nSee the caveats in the documentation: https://pandas.pydata.org/pandas-docs/stable/user_guide/indexing.html#returning-a-view-versus-a-copy\n  input_df[column] = input_df[column].str.strip()\n/tmp/ipykernel_47/2427808540.py:4: SettingWithCopyWarning: \nA value is trying to be set on a copy of a slice from a DataFrame.\nTry using .loc[row_indexer,col_indexer] = value instead\n\nSee the caveats in the documentation: https://pandas.pydata.org/pandas-docs/stable/user_guide/indexing.html#returning-a-view-versus-a-copy\n  input_df[column] = input_df[column].str.strip()\n/tmp/ipykernel_47/2427808540.py:4: SettingWithCopyWarning: \nA value is trying to be set on a copy of a slice from a DataFrame.\nTry using .loc[row_indexer,col_indexer] = value instead\n\nSee the caveats in the documentation: https://pandas.pydata.org/pandas-docs/stable/user_guide/indexing.html#returning-a-view-versus-a-copy\n  input_df[column] = input_df[column].str.strip()\n/tmp/ipykernel_47/2427808540.py:4: SettingWithCopyWarning: \nA value is trying to be set on a copy of a slice from a DataFrame.\nTry using .loc[row_indexer,col_indexer] = value instead\n\nSee the caveats in the documentation: https://pandas.pydata.org/pandas-docs/stable/user_guide/indexing.html#returning-a-view-versus-a-copy\n  input_df[column] = input_df[column].str.strip()\n/tmp/ipykernel_47/2427808540.py:4: SettingWithCopyWarning: \nA value is trying to be set on a copy of a slice from a DataFrame.\nTry using .loc[row_indexer,col_indexer] = value instead\n\nSee the caveats in the documentation: https://pandas.pydata.org/pandas-docs/stable/user_guide/indexing.html#returning-a-view-versus-a-copy\n  input_df[column] = input_df[column].str.strip()\n/tmp/ipykernel_47/2427808540.py:4: SettingWithCopyWarning: \nA value is trying to be set on a copy of a slice from a DataFrame.\nTry using .loc[row_indexer,col_indexer] = value instead\n\nSee the caveats in the documentation: https://pandas.pydata.org/pandas-docs/stable/user_guide/indexing.html#returning-a-view-versus-a-copy\n  input_df[column] = input_df[column].str.strip()\n/tmp/ipykernel_47/2427808540.py:4: SettingWithCopyWarning: \nA value is trying to be set on a copy of a slice from a DataFrame.\nTry using .loc[row_indexer,col_indexer] = value instead\n\nSee the caveats in the documentation: https://pandas.pydata.org/pandas-docs/stable/user_guide/indexing.html#returning-a-view-versus-a-copy\n  input_df[column] = input_df[column].str.strip()\n/tmp/ipykernel_47/2427808540.py:4: SettingWithCopyWarning: \nA value is trying to be set on a copy of a slice from a DataFrame.\nTry using .loc[row_indexer,col_indexer] = value instead\n\nSee the caveats in the documentation: https://pandas.pydata.org/pandas-docs/stable/user_guide/indexing.html#returning-a-view-versus-a-copy\n  input_df[column] = input_df[column].str.strip()\n/tmp/ipykernel_47/2427808540.py:4: SettingWithCopyWarning: \nA value is trying to be set on a copy of a slice from a DataFrame.\nTry using .loc[row_indexer,col_indexer] = value instead\n\nSee the caveats in the documentation: https://pandas.pydata.org/pandas-docs/stable/user_guide/indexing.html#returning-a-view-versus-a-copy\n  input_df[column] = input_df[column].str.strip()\n/tmp/ipykernel_47/2427808540.py:4: SettingWithCopyWarning: \nA value is trying to be set on a copy of a slice from a DataFrame.\nTry using .loc[row_indexer,col_indexer] = value instead\n\nSee the caveats in the documentation: https://pandas.pydata.org/pandas-docs/stable/user_guide/indexing.html#returning-a-view-versus-a-copy\n  input_df[column] = input_df[column].str.strip()\n/tmp/ipykernel_47/2427808540.py:4: SettingWithCopyWarning: \nA value is trying to be set on a copy of a slice from a DataFrame.\nTry using .loc[row_indexer,col_indexer] = value instead\n\nSee the caveats in the documentation: https://pandas.pydata.org/pandas-docs/stable/user_guide/indexing.html#returning-a-view-versus-a-copy\n  input_df[column] = input_df[column].str.strip()\n/tmp/ipykernel_47/2427808540.py:4: SettingWithCopyWarning: \nA value is trying to be set on a copy of a slice from a DataFrame.\nTry using .loc[row_indexer,col_indexer] = value instead\n\nSee the caveats in the documentation: https://pandas.pydata.org/pandas-docs/stable/user_guide/indexing.html#returning-a-view-versus-a-copy\n  input_df[column] = input_df[column].str.strip()\n/tmp/ipykernel_47/2427808540.py:4: SettingWithCopyWarning: \nA value is trying to be set on a copy of a slice from a DataFrame.\nTry using .loc[row_indexer,col_indexer] = value instead\n\nSee the caveats in the documentation: https://pandas.pydata.org/pandas-docs/stable/user_guide/indexing.html#returning-a-view-versus-a-copy\n  input_df[column] = input_df[column].str.strip()\n/tmp/ipykernel_47/2427808540.py:4: SettingWithCopyWarning: \nA value is trying to be set on a copy of a slice from a DataFrame.\nTry using .loc[row_indexer,col_indexer] = value instead\n\nSee the caveats in the documentation: https://pandas.pydata.org/pandas-docs/stable/user_guide/indexing.html#returning-a-view-versus-a-copy\n  input_df[column] = input_df[column].str.strip()\n/tmp/ipykernel_47/2427808540.py:4: SettingWithCopyWarning: \nA value is trying to be set on a copy of a slice from a DataFrame.\nTry using .loc[row_indexer,col_indexer] = value instead\n\nSee the caveats in the documentation: https://pandas.pydata.org/pandas-docs/stable/user_guide/indexing.html#returning-a-view-versus-a-copy\n  input_df[column] = input_df[column].str.strip()\n/tmp/ipykernel_47/2427808540.py:4: SettingWithCopyWarning: \nA value is trying to be set on a copy of a slice from a DataFrame.\nTry using .loc[row_indexer,col_indexer] = value instead\n\nSee the caveats in the documentation: https://pandas.pydata.org/pandas-docs/stable/user_guide/indexing.html#returning-a-view-versus-a-copy\n  input_df[column] = input_df[column].str.strip()\n/tmp/ipykernel_47/2427808540.py:4: SettingWithCopyWarning: \nA value is trying to be set on a copy of a slice from a DataFrame.\nTry using .loc[row_indexer,col_indexer] = value instead\n\nSee the caveats in the documentation: https://pandas.pydata.org/pandas-docs/stable/user_guide/indexing.html#returning-a-view-versus-a-copy\n  input_df[column] = input_df[column].str.strip()\n/tmp/ipykernel_47/2427808540.py:4: SettingWithCopyWarning: \nA value is trying to be set on a copy of a slice from a DataFrame.\nTry using .loc[row_indexer,col_indexer] = value instead\n\nSee the caveats in the documentation: https://pandas.pydata.org/pandas-docs/stable/user_guide/indexing.html#returning-a-view-versus-a-copy\n  input_df[column] = input_df[column].str.strip()\n/tmp/ipykernel_47/2427808540.py:4: SettingWithCopyWarning: \nA value is trying to be set on a copy of a slice from a DataFrame.\nTry using .loc[row_indexer,col_indexer] = value instead\n\nSee the caveats in the documentation: https://pandas.pydata.org/pandas-docs/stable/user_guide/indexing.html#returning-a-view-versus-a-copy\n  input_df[column] = input_df[column].str.strip()\n/tmp/ipykernel_47/2427808540.py:4: SettingWithCopyWarning: \nA value is trying to be set on a copy of a slice from a DataFrame.\nTry using .loc[row_indexer,col_indexer] = value instead\n\nSee the caveats in the documentation: https://pandas.pydata.org/pandas-docs/stable/user_guide/indexing.html#returning-a-view-versus-a-copy\n  input_df[column] = input_df[column].str.strip()\n/tmp/ipykernel_47/2427808540.py:4: SettingWithCopyWarning: \nA value is trying to be set on a copy of a slice from a DataFrame.\nTry using .loc[row_indexer,col_indexer] = value instead\n\nSee the caveats in the documentation: https://pandas.pydata.org/pandas-docs/stable/user_guide/indexing.html#returning-a-view-versus-a-copy\n  input_df[column] = input_df[column].str.strip()\n/tmp/ipykernel_47/2427808540.py:4: SettingWithCopyWarning: \nA value is trying to be set on a copy of a slice from a DataFrame.\nTry using .loc[row_indexer,col_indexer] = value instead\n\nSee the caveats in the documentation: https://pandas.pydata.org/pandas-docs/stable/user_guide/indexing.html#returning-a-view-versus-a-copy\n  input_df[column] = input_df[column].str.strip()\n/tmp/ipykernel_47/2427808540.py:4: SettingWithCopyWarning: \nA value is trying to be set on a copy of a slice from a DataFrame.\nTry using .loc[row_indexer,col_indexer] = value instead\n\nSee the caveats in the documentation: https://pandas.pydata.org/pandas-docs/stable/user_guide/indexing.html#returning-a-view-versus-a-copy\n  input_df[column] = input_df[column].str.strip()\n/tmp/ipykernel_47/2427808540.py:4: SettingWithCopyWarning: \nA value is trying to be set on a copy of a slice from a DataFrame.\nTry using .loc[row_indexer,col_indexer] = value instead\n\nSee the caveats in the documentation: https://pandas.pydata.org/pandas-docs/stable/user_guide/indexing.html#returning-a-view-versus-a-copy\n  input_df[column] = input_df[column].str.strip()\n/tmp/ipykernel_47/2427808540.py:4: SettingWithCopyWarning: \nA value is trying to be set on a copy of a slice from a DataFrame.\nTry using .loc[row_indexer,col_indexer] = value instead\n\nSee the caveats in the documentation: https://pandas.pydata.org/pandas-docs/stable/user_guide/indexing.html#returning-a-view-versus-a-copy\n  input_df[column] = input_df[column].str.strip()\n/tmp/ipykernel_47/2427808540.py:4: SettingWithCopyWarning: \nA value is trying to be set on a copy of a slice from a DataFrame.\nTry using .loc[row_indexer,col_indexer] = value instead\n\nSee the caveats in the documentation: https://pandas.pydata.org/pandas-docs/stable/user_guide/indexing.html#returning-a-view-versus-a-copy\n  input_df[column] = input_df[column].str.strip()\n/tmp/ipykernel_47/2427808540.py:4: SettingWithCopyWarning: \nA value is trying to be set on a copy of a slice from a DataFrame.\nTry using .loc[row_indexer,col_indexer] = value instead\n\nSee the caveats in the documentation: https://pandas.pydata.org/pandas-docs/stable/user_guide/indexing.html#returning-a-view-versus-a-copy\n  input_df[column] = input_df[column].str.strip()\n/tmp/ipykernel_47/2427808540.py:4: SettingWithCopyWarning: \nA value is trying to be set on a copy of a slice from a DataFrame.\nTry using .loc[row_indexer,col_indexer] = value instead\n\nSee the caveats in the documentation: https://pandas.pydata.org/pandas-docs/stable/user_guide/indexing.html#returning-a-view-versus-a-copy\n  input_df[column] = input_df[column].str.strip()\n/tmp/ipykernel_47/2427808540.py:4: SettingWithCopyWarning: \nA value is trying to be set on a copy of a slice from a DataFrame.\nTry using .loc[row_indexer,col_indexer] = value instead\n\nSee the caveats in the documentation: https://pandas.pydata.org/pandas-docs/stable/user_guide/indexing.html#returning-a-view-versus-a-copy\n  input_df[column] = input_df[column].str.strip()\n/tmp/ipykernel_47/2427808540.py:4: SettingWithCopyWarning: \nA value is trying to be set on a copy of a slice from a DataFrame.\nTry using .loc[row_indexer,col_indexer] = value instead\n\nSee the caveats in the documentation: https://pandas.pydata.org/pandas-docs/stable/user_guide/indexing.html#returning-a-view-versus-a-copy\n  input_df[column] = input_df[column].str.strip()\n/tmp/ipykernel_47/2427808540.py:4: SettingWithCopyWarning: \nA value is trying to be set on a copy of a slice from a DataFrame.\nTry using .loc[row_indexer,col_indexer] = value instead\n\nSee the caveats in the documentation: https://pandas.pydata.org/pandas-docs/stable/user_guide/indexing.html#returning-a-view-versus-a-copy\n  input_df[column] = input_df[column].str.strip()\n/tmp/ipykernel_47/2427808540.py:4: SettingWithCopyWarning: \nA value is trying to be set on a copy of a slice from a DataFrame.\nTry using .loc[row_indexer,col_indexer] = value instead\n\nSee the caveats in the documentation: https://pandas.pydata.org/pandas-docs/stable/user_guide/indexing.html#returning-a-view-versus-a-copy\n  input_df[column] = input_df[column].str.strip()\n/tmp/ipykernel_47/2427808540.py:4: SettingWithCopyWarning: \nA value is trying to be set on a copy of a slice from a DataFrame.\nTry using .loc[row_indexer,col_indexer] = value instead\n\nSee the caveats in the documentation: https://pandas.pydata.org/pandas-docs/stable/user_guide/indexing.html#returning-a-view-versus-a-copy\n  input_df[column] = input_df[column].str.strip()\n/tmp/ipykernel_47/2427808540.py:4: SettingWithCopyWarning: \nA value is trying to be set on a copy of a slice from a DataFrame.\nTry using .loc[row_indexer,col_indexer] = value instead\n\nSee the caveats in the documentation: https://pandas.pydata.org/pandas-docs/stable/user_guide/indexing.html#returning-a-view-versus-a-copy\n  input_df[column] = input_df[column].str.strip()\n/tmp/ipykernel_47/2427808540.py:4: SettingWithCopyWarning: \nA value is trying to be set on a copy of a slice from a DataFrame.\nTry using .loc[row_indexer,col_indexer] = value instead\n\nSee the caveats in the documentation: https://pandas.pydata.org/pandas-docs/stable/user_guide/indexing.html#returning-a-view-versus-a-copy\n  input_df[column] = input_df[column].str.strip()\n/tmp/ipykernel_47/2427808540.py:4: SettingWithCopyWarning: \nA value is trying to be set on a copy of a slice from a DataFrame.\nTry using .loc[row_indexer,col_indexer] = value instead\n\nSee the caveats in the documentation: https://pandas.pydata.org/pandas-docs/stable/user_guide/indexing.html#returning-a-view-versus-a-copy\n  input_df[column] = input_df[column].str.strip()\n/tmp/ipykernel_47/2427808540.py:4: SettingWithCopyWarning: \nA value is trying to be set on a copy of a slice from a DataFrame.\nTry using .loc[row_indexer,col_indexer] = value instead\n\nSee the caveats in the documentation: https://pandas.pydata.org/pandas-docs/stable/user_guide/indexing.html#returning-a-view-versus-a-copy\n  input_df[column] = input_df[column].str.strip()\n/tmp/ipykernel_47/2427808540.py:4: SettingWithCopyWarning: \nA value is trying to be set on a copy of a slice from a DataFrame.\nTry using .loc[row_indexer,col_indexer] = value instead\n\nSee the caveats in the documentation: https://pandas.pydata.org/pandas-docs/stable/user_guide/indexing.html#returning-a-view-versus-a-copy\n  input_df[column] = input_df[column].str.strip()\n/tmp/ipykernel_47/2427808540.py:4: SettingWithCopyWarning: \nA value is trying to be set on a copy of a slice from a DataFrame.\nTry using .loc[row_indexer,col_indexer] = value instead\n\nSee the caveats in the documentation: https://pandas.pydata.org/pandas-docs/stable/user_guide/indexing.html#returning-a-view-versus-a-copy\n  input_df[column] = input_df[column].str.strip()\n/tmp/ipykernel_47/2427808540.py:4: SettingWithCopyWarning: \nA value is trying to be set on a copy of a slice from a DataFrame.\nTry using .loc[row_indexer,col_indexer] = value instead\n\nSee the caveats in the documentation: https://pandas.pydata.org/pandas-docs/stable/user_guide/indexing.html#returning-a-view-versus-a-copy\n  input_df[column] = input_df[column].str.strip()\n/tmp/ipykernel_47/2427808540.py:4: SettingWithCopyWarning: \nA value is trying to be set on a copy of a slice from a DataFrame.\nTry using .loc[row_indexer,col_indexer] = value instead\n\nSee the caveats in the documentation: https://pandas.pydata.org/pandas-docs/stable/user_guide/indexing.html#returning-a-view-versus-a-copy\n  input_df[column] = input_df[column].str.strip()\n/tmp/ipykernel_47/2427808540.py:4: SettingWithCopyWarning: \nA value is trying to be set on a copy of a slice from a DataFrame.\nTry using .loc[row_indexer,col_indexer] = value instead\n\nSee the caveats in the documentation: https://pandas.pydata.org/pandas-docs/stable/user_guide/indexing.html#returning-a-view-versus-a-copy\n  input_df[column] = input_df[column].str.strip()\n/tmp/ipykernel_47/2427808540.py:4: SettingWithCopyWarning: \nA value is trying to be set on a copy of a slice from a DataFrame.\nTry using .loc[row_indexer,col_indexer] = value instead\n\nSee the caveats in the documentation: https://pandas.pydata.org/pandas-docs/stable/user_guide/indexing.html#returning-a-view-versus-a-copy\n  input_df[column] = input_df[column].str.strip()\n/tmp/ipykernel_47/2427808540.py:4: SettingWithCopyWarning: \nA value is trying to be set on a copy of a slice from a DataFrame.\nTry using .loc[row_indexer,col_indexer] = value instead\n\nSee the caveats in the documentation: https://pandas.pydata.org/pandas-docs/stable/user_guide/indexing.html#returning-a-view-versus-a-copy\n  input_df[column] = input_df[column].str.strip()\n/tmp/ipykernel_47/2427808540.py:4: SettingWithCopyWarning: \nA value is trying to be set on a copy of a slice from a DataFrame.\nTry using .loc[row_indexer,col_indexer] = value instead\n\nSee the caveats in the documentation: https://pandas.pydata.org/pandas-docs/stable/user_guide/indexing.html#returning-a-view-versus-a-copy\n  input_df[column] = input_df[column].str.strip()\n/tmp/ipykernel_47/2427808540.py:4: SettingWithCopyWarning: \nA value is trying to be set on a copy of a slice from a DataFrame.\nTry using .loc[row_indexer,col_indexer] = value instead\n\nSee the caveats in the documentation: https://pandas.pydata.org/pandas-docs/stable/user_guide/indexing.html#returning-a-view-versus-a-copy\n  input_df[column] = input_df[column].str.strip()\n/tmp/ipykernel_47/2427808540.py:4: SettingWithCopyWarning: \nA value is trying to be set on a copy of a slice from a DataFrame.\nTry using .loc[row_indexer,col_indexer] = value instead\n\nSee the caveats in the documentation: https://pandas.pydata.org/pandas-docs/stable/user_guide/indexing.html#returning-a-view-versus-a-copy\n  input_df[column] = input_df[column].str.strip()\n/tmp/ipykernel_47/2427808540.py:4: SettingWithCopyWarning: \nA value is trying to be set on a copy of a slice from a DataFrame.\nTry using .loc[row_indexer,col_indexer] = value instead\n\nSee the caveats in the documentation: https://pandas.pydata.org/pandas-docs/stable/user_guide/indexing.html#returning-a-view-versus-a-copy\n  input_df[column] = input_df[column].str.strip()\n/tmp/ipykernel_47/2427808540.py:4: SettingWithCopyWarning: \nA value is trying to be set on a copy of a slice from a DataFrame.\nTry using .loc[row_indexer,col_indexer] = value instead\n\nSee the caveats in the documentation: https://pandas.pydata.org/pandas-docs/stable/user_guide/indexing.html#returning-a-view-versus-a-copy\n  input_df[column] = input_df[column].str.strip()\n/tmp/ipykernel_47/2427808540.py:4: SettingWithCopyWarning: \nA value is trying to be set on a copy of a slice from a DataFrame.\nTry using .loc[row_indexer,col_indexer] = value instead\n\nSee the caveats in the documentation: https://pandas.pydata.org/pandas-docs/stable/user_guide/indexing.html#returning-a-view-versus-a-copy\n  input_df[column] = input_df[column].str.strip()\n/tmp/ipykernel_47/2427808540.py:4: SettingWithCopyWarning: \nA value is trying to be set on a copy of a slice from a DataFrame.\nTry using .loc[row_indexer,col_indexer] = value instead\n\nSee the caveats in the documentation: https://pandas.pydata.org/pandas-docs/stable/user_guide/indexing.html#returning-a-view-versus-a-copy\n  input_df[column] = input_df[column].str.strip()\n/tmp/ipykernel_47/2427808540.py:4: SettingWithCopyWarning: \nA value is trying to be set on a copy of a slice from a DataFrame.\nTry using .loc[row_indexer,col_indexer] = value instead\n\nSee the caveats in the documentation: https://pandas.pydata.org/pandas-docs/stable/user_guide/indexing.html#returning-a-view-versus-a-copy\n  input_df[column] = input_df[column].str.strip()\n/tmp/ipykernel_47/2427808540.py:4: SettingWithCopyWarning: \nA value is trying to be set on a copy of a slice from a DataFrame.\nTry using .loc[row_indexer,col_indexer] = value instead\n\nSee the caveats in the documentation: https://pandas.pydata.org/pandas-docs/stable/user_guide/indexing.html#returning-a-view-versus-a-copy\n  input_df[column] = input_df[column].str.strip()\n/tmp/ipykernel_47/2427808540.py:4: SettingWithCopyWarning: \nA value is trying to be set on a copy of a slice from a DataFrame.\nTry using .loc[row_indexer,col_indexer] = value instead\n\nSee the caveats in the documentation: https://pandas.pydata.org/pandas-docs/stable/user_guide/indexing.html#returning-a-view-versus-a-copy\n  input_df[column] = input_df[column].str.strip()\n/tmp/ipykernel_47/2427808540.py:4: SettingWithCopyWarning: \nA value is trying to be set on a copy of a slice from a DataFrame.\nTry using .loc[row_indexer,col_indexer] = value instead\n\nSee the caveats in the documentation: https://pandas.pydata.org/pandas-docs/stable/user_guide/indexing.html#returning-a-view-versus-a-copy\n  input_df[column] = input_df[column].str.strip()\n/tmp/ipykernel_47/2427808540.py:4: SettingWithCopyWarning: \nA value is trying to be set on a copy of a slice from a DataFrame.\nTry using .loc[row_indexer,col_indexer] = value instead\n\nSee the caveats in the documentation: https://pandas.pydata.org/pandas-docs/stable/user_guide/indexing.html#returning-a-view-versus-a-copy\n  input_df[column] = input_df[column].str.strip()\n/tmp/ipykernel_47/2427808540.py:4: SettingWithCopyWarning: \nA value is trying to be set on a copy of a slice from a DataFrame.\nTry using .loc[row_indexer,col_indexer] = value instead\n\nSee the caveats in the documentation: https://pandas.pydata.org/pandas-docs/stable/user_guide/indexing.html#returning-a-view-versus-a-copy\n  input_df[column] = input_df[column].str.strip()\n/tmp/ipykernel_47/2427808540.py:4: SettingWithCopyWarning: \nA value is trying to be set on a copy of a slice from a DataFrame.\nTry using .loc[row_indexer,col_indexer] = value instead\n\nSee the caveats in the documentation: https://pandas.pydata.org/pandas-docs/stable/user_guide/indexing.html#returning-a-view-versus-a-copy\n  input_df[column] = input_df[column].str.strip()\n/tmp/ipykernel_47/2427808540.py:4: SettingWithCopyWarning: \nA value is trying to be set on a copy of a slice from a DataFrame.\nTry using .loc[row_indexer,col_indexer] = value instead\n\nSee the caveats in the documentation: https://pandas.pydata.org/pandas-docs/stable/user_guide/indexing.html#returning-a-view-versus-a-copy\n  input_df[column] = input_df[column].str.strip()\n/tmp/ipykernel_47/2427808540.py:4: SettingWithCopyWarning: \nA value is trying to be set on a copy of a slice from a DataFrame.\nTry using .loc[row_indexer,col_indexer] = value instead\n\nSee the caveats in the documentation: https://pandas.pydata.org/pandas-docs/stable/user_guide/indexing.html#returning-a-view-versus-a-copy\n  input_df[column] = input_df[column].str.strip()\n/tmp/ipykernel_47/2427808540.py:4: SettingWithCopyWarning: \nA value is trying to be set on a copy of a slice from a DataFrame.\nTry using .loc[row_indexer,col_indexer] = value instead\n\nSee the caveats in the documentation: https://pandas.pydata.org/pandas-docs/stable/user_guide/indexing.html#returning-a-view-versus-a-copy\n  input_df[column] = input_df[column].str.strip()\n/tmp/ipykernel_47/2427808540.py:4: SettingWithCopyWarning: \nA value is trying to be set on a copy of a slice from a DataFrame.\nTry using .loc[row_indexer,col_indexer] = value instead\n\nSee the caveats in the documentation: https://pandas.pydata.org/pandas-docs/stable/user_guide/indexing.html#returning-a-view-versus-a-copy\n  input_df[column] = input_df[column].str.strip()\n/tmp/ipykernel_47/2427808540.py:4: SettingWithCopyWarning: \nA value is trying to be set on a copy of a slice from a DataFrame.\nTry using .loc[row_indexer,col_indexer] = value instead\n\nSee the caveats in the documentation: https://pandas.pydata.org/pandas-docs/stable/user_guide/indexing.html#returning-a-view-versus-a-copy\n  input_df[column] = input_df[column].str.strip()\n/tmp/ipykernel_47/2427808540.py:4: SettingWithCopyWarning: \nA value is trying to be set on a copy of a slice from a DataFrame.\nTry using .loc[row_indexer,col_indexer] = value instead\n\nSee the caveats in the documentation: https://pandas.pydata.org/pandas-docs/stable/user_guide/indexing.html#returning-a-view-versus-a-copy\n  input_df[column] = input_df[column].str.strip()\n/tmp/ipykernel_47/2427808540.py:4: SettingWithCopyWarning: \nA value is trying to be set on a copy of a slice from a DataFrame.\nTry using .loc[row_indexer,col_indexer] = value instead\n\nSee the caveats in the documentation: https://pandas.pydata.org/pandas-docs/stable/user_guide/indexing.html#returning-a-view-versus-a-copy\n  input_df[column] = input_df[column].str.strip()\n/tmp/ipykernel_47/2427808540.py:4: SettingWithCopyWarning: \nA value is trying to be set on a copy of a slice from a DataFrame.\nTry using .loc[row_indexer,col_indexer] = value instead\n\nSee the caveats in the documentation: https://pandas.pydata.org/pandas-docs/stable/user_guide/indexing.html#returning-a-view-versus-a-copy\n  input_df[column] = input_df[column].str.strip()\n/tmp/ipykernel_47/2427808540.py:4: SettingWithCopyWarning: \nA value is trying to be set on a copy of a slice from a DataFrame.\nTry using .loc[row_indexer,col_indexer] = value instead\n\nSee the caveats in the documentation: https://pandas.pydata.org/pandas-docs/stable/user_guide/indexing.html#returning-a-view-versus-a-copy\n  input_df[column] = input_df[column].str.strip()\n/tmp/ipykernel_47/2427808540.py:4: SettingWithCopyWarning: \nA value is trying to be set on a copy of a slice from a DataFrame.\nTry using .loc[row_indexer,col_indexer] = value instead\n\nSee the caveats in the documentation: https://pandas.pydata.org/pandas-docs/stable/user_guide/indexing.html#returning-a-view-versus-a-copy\n  input_df[column] = input_df[column].str.strip()\n/tmp/ipykernel_47/2427808540.py:4: SettingWithCopyWarning: \nA value is trying to be set on a copy of a slice from a DataFrame.\nTry using .loc[row_indexer,col_indexer] = value instead\n\nSee the caveats in the documentation: https://pandas.pydata.org/pandas-docs/stable/user_guide/indexing.html#returning-a-view-versus-a-copy\n  input_df[column] = input_df[column].str.strip()\n/tmp/ipykernel_47/2427808540.py:4: SettingWithCopyWarning: \nA value is trying to be set on a copy of a slice from a DataFrame.\nTry using .loc[row_indexer,col_indexer] = value instead\n\nSee the caveats in the documentation: https://pandas.pydata.org/pandas-docs/stable/user_guide/indexing.html#returning-a-view-versus-a-copy\n  input_df[column] = input_df[column].str.strip()\n/tmp/ipykernel_47/2427808540.py:4: SettingWithCopyWarning: \nA value is trying to be set on a copy of a slice from a DataFrame.\nTry using .loc[row_indexer,col_indexer] = value instead\n\nSee the caveats in the documentation: https://pandas.pydata.org/pandas-docs/stable/user_guide/indexing.html#returning-a-view-versus-a-copy\n  input_df[column] = input_df[column].str.strip()\n/tmp/ipykernel_47/2427808540.py:4: SettingWithCopyWarning: \nA value is trying to be set on a copy of a slice from a DataFrame.\nTry using .loc[row_indexer,col_indexer] = value instead\n\nSee the caveats in the documentation: https://pandas.pydata.org/pandas-docs/stable/user_guide/indexing.html#returning-a-view-versus-a-copy\n  input_df[column] = input_df[column].str.strip()\n/tmp/ipykernel_47/2427808540.py:4: SettingWithCopyWarning: \nA value is trying to be set on a copy of a slice from a DataFrame.\nTry using .loc[row_indexer,col_indexer] = value instead\n\nSee the caveats in the documentation: https://pandas.pydata.org/pandas-docs/stable/user_guide/indexing.html#returning-a-view-versus-a-copy\n  input_df[column] = input_df[column].str.strip()\n/tmp/ipykernel_47/2427808540.py:4: SettingWithCopyWarning: \nA value is trying to be set on a copy of a slice from a DataFrame.\nTry using .loc[row_indexer,col_indexer] = value instead\n\nSee the caveats in the documentation: https://pandas.pydata.org/pandas-docs/stable/user_guide/indexing.html#returning-a-view-versus-a-copy\n  input_df[column] = input_df[column].str.strip()\n/tmp/ipykernel_47/2427808540.py:4: SettingWithCopyWarning: \nA value is trying to be set on a copy of a slice from a DataFrame.\nTry using .loc[row_indexer,col_indexer] = value instead\n\nSee the caveats in the documentation: https://pandas.pydata.org/pandas-docs/stable/user_guide/indexing.html#returning-a-view-versus-a-copy\n  input_df[column] = input_df[column].str.strip()\n/tmp/ipykernel_47/2427808540.py:4: SettingWithCopyWarning: \nA value is trying to be set on a copy of a slice from a DataFrame.\nTry using .loc[row_indexer,col_indexer] = value instead\n\nSee the caveats in the documentation: https://pandas.pydata.org/pandas-docs/stable/user_guide/indexing.html#returning-a-view-versus-a-copy\n  input_df[column] = input_df[column].str.strip()\n/tmp/ipykernel_47/2427808540.py:4: SettingWithCopyWarning: \nA value is trying to be set on a copy of a slice from a DataFrame.\nTry using .loc[row_indexer,col_indexer] = value instead\n\nSee the caveats in the documentation: https://pandas.pydata.org/pandas-docs/stable/user_guide/indexing.html#returning-a-view-versus-a-copy\n  input_df[column] = input_df[column].str.strip()\n/tmp/ipykernel_47/2427808540.py:4: SettingWithCopyWarning: \nA value is trying to be set on a copy of a slice from a DataFrame.\nTry using .loc[row_indexer,col_indexer] = value instead\n\nSee the caveats in the documentation: https://pandas.pydata.org/pandas-docs/stable/user_guide/indexing.html#returning-a-view-versus-a-copy\n  input_df[column] = input_df[column].str.strip()\n/tmp/ipykernel_47/2427808540.py:4: SettingWithCopyWarning: \nA value is trying to be set on a copy of a slice from a DataFrame.\nTry using .loc[row_indexer,col_indexer] = value instead\n\nSee the caveats in the documentation: https://pandas.pydata.org/pandas-docs/stable/user_guide/indexing.html#returning-a-view-versus-a-copy\n  input_df[column] = input_df[column].str.strip()\n/tmp/ipykernel_47/2427808540.py:4: SettingWithCopyWarning: \nA value is trying to be set on a copy of a slice from a DataFrame.\nTry using .loc[row_indexer,col_indexer] = value instead\n\nSee the caveats in the documentation: https://pandas.pydata.org/pandas-docs/stable/user_guide/indexing.html#returning-a-view-versus-a-copy\n  input_df[column] = input_df[column].str.strip()\n/tmp/ipykernel_47/2427808540.py:4: SettingWithCopyWarning: \nA value is trying to be set on a copy of a slice from a DataFrame.\nTry using .loc[row_indexer,col_indexer] = value instead\n\nSee the caveats in the documentation: https://pandas.pydata.org/pandas-docs/stable/user_guide/indexing.html#returning-a-view-versus-a-copy\n  input_df[column] = input_df[column].str.strip()\n/tmp/ipykernel_47/2427808540.py:4: SettingWithCopyWarning: \nA value is trying to be set on a copy of a slice from a DataFrame.\nTry using .loc[row_indexer,col_indexer] = value instead\n\nSee the caveats in the documentation: https://pandas.pydata.org/pandas-docs/stable/user_guide/indexing.html#returning-a-view-versus-a-copy\n  input_df[column] = input_df[column].str.strip()\n/tmp/ipykernel_47/2427808540.py:4: SettingWithCopyWarning: \nA value is trying to be set on a copy of a slice from a DataFrame.\nTry using .loc[row_indexer,col_indexer] = value instead\n\nSee the caveats in the documentation: https://pandas.pydata.org/pandas-docs/stable/user_guide/indexing.html#returning-a-view-versus-a-copy\n  input_df[column] = input_df[column].str.strip()\n/tmp/ipykernel_47/2427808540.py:4: SettingWithCopyWarning: \nA value is trying to be set on a copy of a slice from a DataFrame.\nTry using .loc[row_indexer,col_indexer] = value instead\n\nSee the caveats in the documentation: https://pandas.pydata.org/pandas-docs/stable/user_guide/indexing.html#returning-a-view-versus-a-copy\n  input_df[column] = input_df[column].str.strip()\n/tmp/ipykernel_47/2427808540.py:4: SettingWithCopyWarning: \nA value is trying to be set on a copy of a slice from a DataFrame.\nTry using .loc[row_indexer,col_indexer] = value instead\n\nSee the caveats in the documentation: https://pandas.pydata.org/pandas-docs/stable/user_guide/indexing.html#returning-a-view-versus-a-copy\n  input_df[column] = input_df[column].str.strip()\n/tmp/ipykernel_47/2427808540.py:4: SettingWithCopyWarning: \nA value is trying to be set on a copy of a slice from a DataFrame.\nTry using .loc[row_indexer,col_indexer] = value instead\n\nSee the caveats in the documentation: https://pandas.pydata.org/pandas-docs/stable/user_guide/indexing.html#returning-a-view-versus-a-copy\n  input_df[column] = input_df[column].str.strip()\n/tmp/ipykernel_47/2427808540.py:4: SettingWithCopyWarning: \nA value is trying to be set on a copy of a slice from a DataFrame.\nTry using .loc[row_indexer,col_indexer] = value instead\n\nSee the caveats in the documentation: https://pandas.pydata.org/pandas-docs/stable/user_guide/indexing.html#returning-a-view-versus-a-copy\n  input_df[column] = input_df[column].str.strip()\n/tmp/ipykernel_47/2427808540.py:4: SettingWithCopyWarning: \nA value is trying to be set on a copy of a slice from a DataFrame.\nTry using .loc[row_indexer,col_indexer] = value instead\n\nSee the caveats in the documentation: https://pandas.pydata.org/pandas-docs/stable/user_guide/indexing.html#returning-a-view-versus-a-copy\n  input_df[column] = input_df[column].str.strip()\n/tmp/ipykernel_47/2427808540.py:4: SettingWithCopyWarning: \nA value is trying to be set on a copy of a slice from a DataFrame.\nTry using .loc[row_indexer,col_indexer] = value instead\n\nSee the caveats in the documentation: https://pandas.pydata.org/pandas-docs/stable/user_guide/indexing.html#returning-a-view-versus-a-copy\n  input_df[column] = input_df[column].str.strip()\n/tmp/ipykernel_47/2427808540.py:4: SettingWithCopyWarning: \nA value is trying to be set on a copy of a slice from a DataFrame.\nTry using .loc[row_indexer,col_indexer] = value instead\n\nSee the caveats in the documentation: https://pandas.pydata.org/pandas-docs/stable/user_guide/indexing.html#returning-a-view-versus-a-copy\n  input_df[column] = input_df[column].str.strip()\n/tmp/ipykernel_47/2427808540.py:4: SettingWithCopyWarning: \nA value is trying to be set on a copy of a slice from a DataFrame.\nTry using .loc[row_indexer,col_indexer] = value instead\n\nSee the caveats in the documentation: https://pandas.pydata.org/pandas-docs/stable/user_guide/indexing.html#returning-a-view-versus-a-copy\n  input_df[column] = input_df[column].str.strip()\n/tmp/ipykernel_47/2427808540.py:4: SettingWithCopyWarning: \nA value is trying to be set on a copy of a slice from a DataFrame.\nTry using .loc[row_indexer,col_indexer] = value instead\n\nSee the caveats in the documentation: https://pandas.pydata.org/pandas-docs/stable/user_guide/indexing.html#returning-a-view-versus-a-copy\n  input_df[column] = input_df[column].str.strip()\n/tmp/ipykernel_47/2427808540.py:4: SettingWithCopyWarning: \nA value is trying to be set on a copy of a slice from a DataFrame.\nTry using .loc[row_indexer,col_indexer] = value instead\n\nSee the caveats in the documentation: https://pandas.pydata.org/pandas-docs/stable/user_guide/indexing.html#returning-a-view-versus-a-copy\n  input_df[column] = input_df[column].str.strip()\n/tmp/ipykernel_47/2427808540.py:4: SettingWithCopyWarning: \nA value is trying to be set on a copy of a slice from a DataFrame.\nTry using .loc[row_indexer,col_indexer] = value instead\n\nSee the caveats in the documentation: https://pandas.pydata.org/pandas-docs/stable/user_guide/indexing.html#returning-a-view-versus-a-copy\n  input_df[column] = input_df[column].str.strip()\n/tmp/ipykernel_47/2427808540.py:4: SettingWithCopyWarning: \nA value is trying to be set on a copy of a slice from a DataFrame.\nTry using .loc[row_indexer,col_indexer] = value instead\n\nSee the caveats in the documentation: https://pandas.pydata.org/pandas-docs/stable/user_guide/indexing.html#returning-a-view-versus-a-copy\n  input_df[column] = input_df[column].str.strip()\n/tmp/ipykernel_47/2427808540.py:4: SettingWithCopyWarning: \nA value is trying to be set on a copy of a slice from a DataFrame.\nTry using .loc[row_indexer,col_indexer] = value instead\n\nSee the caveats in the documentation: https://pandas.pydata.org/pandas-docs/stable/user_guide/indexing.html#returning-a-view-versus-a-copy\n  input_df[column] = input_df[column].str.strip()\n/tmp/ipykernel_47/2427808540.py:4: SettingWithCopyWarning: \nA value is trying to be set on a copy of a slice from a DataFrame.\nTry using .loc[row_indexer,col_indexer] = value instead\n\nSee the caveats in the documentation: https://pandas.pydata.org/pandas-docs/stable/user_guide/indexing.html#returning-a-view-versus-a-copy\n  input_df[column] = input_df[column].str.strip()\n/tmp/ipykernel_47/2427808540.py:4: SettingWithCopyWarning: \nA value is trying to be set on a copy of a slice from a DataFrame.\nTry using .loc[row_indexer,col_indexer] = value instead\n\nSee the caveats in the documentation: https://pandas.pydata.org/pandas-docs/stable/user_guide/indexing.html#returning-a-view-versus-a-copy\n  input_df[column] = input_df[column].str.strip()\n/tmp/ipykernel_47/2427808540.py:4: SettingWithCopyWarning: \nA value is trying to be set on a copy of a slice from a DataFrame.\nTry using .loc[row_indexer,col_indexer] = value instead\n\nSee the caveats in the documentation: https://pandas.pydata.org/pandas-docs/stable/user_guide/indexing.html#returning-a-view-versus-a-copy\n  input_df[column] = input_df[column].str.strip()\n/tmp/ipykernel_47/2427808540.py:4: SettingWithCopyWarning: \nA value is trying to be set on a copy of a slice from a DataFrame.\nTry using .loc[row_indexer,col_indexer] = value instead\n\nSee the caveats in the documentation: https://pandas.pydata.org/pandas-docs/stable/user_guide/indexing.html#returning-a-view-versus-a-copy\n  input_df[column] = input_df[column].str.strip()\n/tmp/ipykernel_47/2427808540.py:4: SettingWithCopyWarning: \nA value is trying to be set on a copy of a slice from a DataFrame.\nTry using .loc[row_indexer,col_indexer] = value instead\n\nSee the caveats in the documentation: https://pandas.pydata.org/pandas-docs/stable/user_guide/indexing.html#returning-a-view-versus-a-copy\n  input_df[column] = input_df[column].str.strip()\n/tmp/ipykernel_47/2427808540.py:4: SettingWithCopyWarning: \nA value is trying to be set on a copy of a slice from a DataFrame.\nTry using .loc[row_indexer,col_indexer] = value instead\n\nSee the caveats in the documentation: https://pandas.pydata.org/pandas-docs/stable/user_guide/indexing.html#returning-a-view-versus-a-copy\n  input_df[column] = input_df[column].str.strip()\n/tmp/ipykernel_47/2427808540.py:4: SettingWithCopyWarning: \nA value is trying to be set on a copy of a slice from a DataFrame.\nTry using .loc[row_indexer,col_indexer] = value instead\n\nSee the caveats in the documentation: https://pandas.pydata.org/pandas-docs/stable/user_guide/indexing.html#returning-a-view-versus-a-copy\n  input_df[column] = input_df[column].str.strip()\n/tmp/ipykernel_47/2427808540.py:4: SettingWithCopyWarning: \nA value is trying to be set on a copy of a slice from a DataFrame.\nTry using .loc[row_indexer,col_indexer] = value instead\n\nSee the caveats in the documentation: https://pandas.pydata.org/pandas-docs/stable/user_guide/indexing.html#returning-a-view-versus-a-copy\n  input_df[column] = input_df[column].str.strip()\n/tmp/ipykernel_47/2427808540.py:4: SettingWithCopyWarning: \nA value is trying to be set on a copy of a slice from a DataFrame.\nTry using .loc[row_indexer,col_indexer] = value instead\n\nSee the caveats in the documentation: https://pandas.pydata.org/pandas-docs/stable/user_guide/indexing.html#returning-a-view-versus-a-copy\n  input_df[column] = input_df[column].str.strip()\n/tmp/ipykernel_47/2427808540.py:4: SettingWithCopyWarning: \nA value is trying to be set on a copy of a slice from a DataFrame.\nTry using .loc[row_indexer,col_indexer] = value instead\n\nSee the caveats in the documentation: https://pandas.pydata.org/pandas-docs/stable/user_guide/indexing.html#returning-a-view-versus-a-copy\n  input_df[column] = input_df[column].str.strip()\n/tmp/ipykernel_47/2427808540.py:4: SettingWithCopyWarning: \nA value is trying to be set on a copy of a slice from a DataFrame.\nTry using .loc[row_indexer,col_indexer] = value instead\n\nSee the caveats in the documentation: https://pandas.pydata.org/pandas-docs/stable/user_guide/indexing.html#returning-a-view-versus-a-copy\n  input_df[column] = input_df[column].str.strip()\n/tmp/ipykernel_47/2427808540.py:4: SettingWithCopyWarning: \nA value is trying to be set on a copy of a slice from a DataFrame.\nTry using .loc[row_indexer,col_indexer] = value instead\n\nSee the caveats in the documentation: https://pandas.pydata.org/pandas-docs/stable/user_guide/indexing.html#returning-a-view-versus-a-copy\n  input_df[column] = input_df[column].str.strip()\n/tmp/ipykernel_47/2427808540.py:4: SettingWithCopyWarning: \nA value is trying to be set on a copy of a slice from a DataFrame.\nTry using .loc[row_indexer,col_indexer] = value instead\n\nSee the caveats in the documentation: https://pandas.pydata.org/pandas-docs/stable/user_guide/indexing.html#returning-a-view-versus-a-copy\n  input_df[column] = input_df[column].str.strip()\n/tmp/ipykernel_47/2427808540.py:4: SettingWithCopyWarning: \nA value is trying to be set on a copy of a slice from a DataFrame.\nTry using .loc[row_indexer,col_indexer] = value instead\n\nSee the caveats in the documentation: https://pandas.pydata.org/pandas-docs/stable/user_guide/indexing.html#returning-a-view-versus-a-copy\n  input_df[column] = input_df[column].str.strip()\n/tmp/ipykernel_47/2427808540.py:4: SettingWithCopyWarning: \nA value is trying to be set on a copy of a slice from a DataFrame.\nTry using .loc[row_indexer,col_indexer] = value instead\n\nSee the caveats in the documentation: https://pandas.pydata.org/pandas-docs/stable/user_guide/indexing.html#returning-a-view-versus-a-copy\n  input_df[column] = input_df[column].str.strip()\n/tmp/ipykernel_47/2427808540.py:4: SettingWithCopyWarning: \nA value is trying to be set on a copy of a slice from a DataFrame.\nTry using .loc[row_indexer,col_indexer] = value instead\n\nSee the caveats in the documentation: https://pandas.pydata.org/pandas-docs/stable/user_guide/indexing.html#returning-a-view-versus-a-copy\n  input_df[column] = input_df[column].str.strip()\n/tmp/ipykernel_47/2427808540.py:4: SettingWithCopyWarning: \nA value is trying to be set on a copy of a slice from a DataFrame.\nTry using .loc[row_indexer,col_indexer] = value instead\n\nSee the caveats in the documentation: https://pandas.pydata.org/pandas-docs/stable/user_guide/indexing.html#returning-a-view-versus-a-copy\n  input_df[column] = input_df[column].str.strip()\n/tmp/ipykernel_47/2427808540.py:4: SettingWithCopyWarning: \nA value is trying to be set on a copy of a slice from a DataFrame.\nTry using .loc[row_indexer,col_indexer] = value instead\n\nSee the caveats in the documentation: https://pandas.pydata.org/pandas-docs/stable/user_guide/indexing.html#returning-a-view-versus-a-copy\n  input_df[column] = input_df[column].str.strip()\n",
          "output_type": "stream"
        }
      ]
    },
    {
      "cell_type": "code",
      "source": [
        "for key, value in test_portfolios_dict.items():\n",
        "    print(key, value.shape)"
      ],
      "metadata": {
        "execution": {
          "iopub.status.busy": "2023-12-02T04:25:27.340731Z",
          "iopub.execute_input": "2023-12-02T04:25:27.341040Z",
          "iopub.status.idle": "2023-12-02T04:25:27.349070Z",
          "shell.execute_reply.started": "2023-12-02T04:25:27.341004Z",
          "shell.execute_reply": "2023-12-02T04:25:27.348389Z"
        },
        "trusted": true,
        "id": "Lm3IxY2-ljGH",
        "outputId": "18d070b6-94e7-48c2-c403-819a0ac60151"
      },
      "execution_count": null,
      "outputs": [
        {
          "name": "stdout",
          "text": "portfolio_1 (1000, 23)\nportfolio_2 (999, 23)\nportfolio_3 (1000, 23)\nportfolio_4 (997, 23)\nportfolio_5 (998, 23)\nportfolio_6 (1000, 23)\nportfolio_7 (1000, 23)\nportfolio_8 (998, 23)\nportfolio_9 (998, 23)\nportfolio_10 (998, 23)\nportfolio_11 (1000, 23)\nportfolio_12 (999, 23)\nportfolio_13 (999, 23)\nportfolio_14 (997, 23)\nportfolio_15 (1000, 23)\nportfolio_16 (999, 23)\nportfolio_17 (998, 23)\nportfolio_18 (999, 23)\nportfolio_19 (998, 23)\nportfolio_20 (997, 23)\nportfolio_21 (1000, 23)\nportfolio_22 (999, 23)\nportfolio_23 (1000, 23)\nportfolio_24 (1000, 23)\nportfolio_25 (998, 23)\nportfolio_26 (1000, 23)\nportfolio_27 (998, 23)\nportfolio_28 (999, 23)\nportfolio_29 (998, 23)\nportfolio_30 (998, 23)\nportfolio_41 (1000, 23)\nportfolio_42 (1000, 23)\nportfolio_43 (998, 23)\nportfolio_44 (999, 23)\nportfolio_45 (999, 23)\nportfolio_46 (999, 23)\nportfolio_47 (998, 23)\nportfolio_48 (1000, 23)\nportfolio_49 (999, 23)\nportfolio_50 (999, 23)\nportfolio_51 (999, 23)\nportfolio_52 (998, 23)\nportfolio_53 (996, 23)\nportfolio_54 (992, 23)\nportfolio_55 (998, 23)\nportfolio_56 (997, 23)\nportfolio_57 (999, 23)\nportfolio_58 (999, 23)\nportfolio_59 (999, 23)\nportfolio_60 (1000, 23)\nportfolio_61 (998, 23)\nportfolio_62 (997, 23)\nportfolio_63 (1000, 23)\nportfolio_64 (999, 23)\nportfolio_65 (999, 23)\nportfolio_66 (999, 23)\nportfolio_67 (998, 23)\nportfolio_68 (1000, 23)\nportfolio_69 (998, 23)\nportfolio_70 (997, 23)\nportfolio_111 (1000, 23)\nportfolio_112 (999, 23)\nportfolio_113 (997, 23)\nportfolio_114 (1000, 23)\nportfolio_115 (999, 23)\nportfolio_116 (998, 23)\nportfolio_117 (999, 23)\nportfolio_118 (997, 23)\nportfolio_119 (997, 23)\nportfolio_120 (997, 23)\nportfolio_131 (1000, 23)\nportfolio_132 (997, 23)\nportfolio_133 (999, 23)\nportfolio_134 (1000, 23)\nportfolio_135 (1000, 23)\nportfolio_136 (999, 23)\nportfolio_137 (999, 23)\nportfolio_138 (997, 23)\nportfolio_139 (997, 23)\nportfolio_140 (1000, 23)\nportfolio_151 (999, 23)\nportfolio_152 (999, 23)\nportfolio_153 (999, 23)\nportfolio_154 (1000, 23)\nportfolio_155 (998, 23)\nportfolio_156 (996, 23)\nportfolio_157 (1000, 23)\nportfolio_158 (1000, 23)\nportfolio_159 (999, 23)\nportfolio_160 (1000, 23)\nportfolio_171 (999, 23)\nportfolio_172 (999, 23)\nportfolio_173 (999, 23)\nportfolio_174 (998, 23)\nportfolio_175 (999, 23)\nportfolio_176 (1000, 23)\nportfolio_177 (998, 23)\nportfolio_178 (1000, 23)\nportfolio_179 (1000, 23)\nportfolio_180 (1000, 23)\nportfolio_191 (1000, 23)\nportfolio_192 (1000, 23)\nportfolio_193 (999, 23)\nportfolio_194 (997, 23)\nportfolio_195 (996, 23)\nportfolio_196 (998, 23)\nportfolio_197 (999, 23)\nportfolio_198 (999, 23)\nportfolio_199 (998, 23)\nportfolio_200 (997, 23)\nportfolio_201 (2989, 23)\nportfolio_202 (2990, 23)\nportfolio_203 (2991, 23)\nportfolio_204 (2986, 23)\nportfolio_205 (2981, 23)\nportfolio_206 (2991, 23)\nportfolio_207 (2990, 23)\nportfolio_208 (2989, 23)\nportfolio_209 (2994, 23)\nportfolio_210 (2987, 23)\nportfolio_211 (2992, 23)\nportfolio_212 (2990, 23)\nportfolio_213 (2991, 23)\nportfolio_214 (2988, 23)\nportfolio_215 (2989, 23)\nportfolio_216 (2986, 23)\nportfolio_217 (2992, 23)\nportfolio_218 (2992, 23)\nportfolio_219 (2988, 23)\nportfolio_220 (2986, 23)\nportfolio_221 (2991, 23)\nportfolio_222 (2990, 23)\nportfolio_223 (2993, 23)\nportfolio_224 (2986, 23)\nportfolio_225 (2989, 23)\nportfolio_226 (2992, 23)\nportfolio_227 (2993, 23)\nportfolio_228 (2990, 23)\nportfolio_229 (2989, 23)\nportfolio_230 (2987, 23)\nportfolio_241 (2993, 23)\nportfolio_242 (2994, 23)\nportfolio_243 (2988, 23)\nportfolio_244 (2989, 23)\nportfolio_245 (2991, 23)\nportfolio_246 (2990, 23)\nportfolio_247 (2984, 23)\nportfolio_248 (2988, 23)\nportfolio_249 (2985, 23)\nportfolio_250 (2990, 23)\nportfolio_251 (2992, 23)\nportfolio_252 (2979, 23)\nportfolio_253 (2983, 23)\nportfolio_254 (2986, 23)\nportfolio_255 (2990, 23)\nportfolio_256 (2990, 23)\nportfolio_257 (2991, 23)\nportfolio_258 (2988, 23)\nportfolio_259 (2978, 23)\nportfolio_260 (2993, 23)\nportfolio_261 (2995, 23)\nportfolio_262 (2986, 23)\nportfolio_263 (2990, 23)\nportfolio_264 (2990, 23)\nportfolio_265 (2992, 23)\nportfolio_266 (2988, 23)\nportfolio_267 (2990, 23)\nportfolio_268 (2991, 23)\nportfolio_269 (2991, 23)\nportfolio_270 (2984, 23)\nportfolio_311 (2989, 23)\nportfolio_312 (2985, 23)\nportfolio_313 (2992, 23)\nportfolio_314 (2987, 23)\nportfolio_315 (2988, 23)\nportfolio_316 (2989, 23)\nportfolio_317 (2988, 23)\nportfolio_318 (2988, 23)\nportfolio_319 (2990, 23)\nportfolio_320 (2987, 23)\nportfolio_331 (2992, 23)\nportfolio_332 (2993, 23)\nportfolio_333 (2990, 23)\nportfolio_334 (2992, 23)\nportfolio_335 (2990, 23)\nportfolio_336 (2990, 23)\nportfolio_337 (2990, 23)\nportfolio_338 (2989, 23)\nportfolio_339 (2990, 23)\nportfolio_340 (2985, 23)\nportfolio_351 (2991, 23)\nportfolio_352 (2981, 23)\nportfolio_353 (2987, 23)\nportfolio_354 (2989, 23)\nportfolio_355 (2996, 23)\nportfolio_356 (2992, 23)\nportfolio_357 (2985, 23)\nportfolio_358 (2990, 23)\nportfolio_359 (2994, 23)\nportfolio_360 (2991, 23)\nportfolio_371 (2992, 23)\nportfolio_372 (2994, 23)\nportfolio_373 (2989, 23)\nportfolio_374 (2992, 23)\nportfolio_375 (2983, 23)\nportfolio_376 (2990, 23)\nportfolio_377 (2988, 23)\nportfolio_378 (2989, 23)\nportfolio_379 (2990, 23)\nportfolio_380 (2991, 23)\nportfolio_391 (2992, 23)\nportfolio_392 (2986, 23)\nportfolio_393 (2987, 23)\nportfolio_394 (2978, 23)\nportfolio_395 (2984, 23)\nportfolio_396 (2985, 23)\nportfolio_397 (2986, 23)\nportfolio_398 (2981, 23)\nportfolio_399 (2986, 23)\nportfolio_400 (2993, 23)\nportfolio_401 (4971, 23)\nportfolio_402 (4969, 23)\nportfolio_403 (4974, 23)\nportfolio_404 (4975, 23)\nportfolio_405 (4968, 23)\nportfolio_406 (4973, 23)\nportfolio_407 (4962, 23)\nportfolio_408 (4966, 23)\nportfolio_409 (4963, 23)\nportfolio_410 (4971, 23)\nportfolio_411 (4970, 23)\nportfolio_412 (4964, 23)\nportfolio_413 (4977, 23)\nportfolio_414 (4974, 23)\nportfolio_415 (4973, 23)\nportfolio_416 (4971, 23)\nportfolio_417 (4974, 23)\nportfolio_418 (4972, 23)\nportfolio_419 (4967, 23)\nportfolio_420 (4963, 23)\nportfolio_421 (4971, 23)\nportfolio_422 (4961, 23)\nportfolio_423 (4971, 23)\nportfolio_424 (4974, 23)\nportfolio_425 (4963, 23)\nportfolio_426 (4968, 23)\nportfolio_427 (4961, 23)\nportfolio_428 (4976, 23)\nportfolio_429 (4970, 23)\nportfolio_430 (4970, 23)\nportfolio_441 (4972, 23)\nportfolio_442 (4965, 23)\nportfolio_443 (4973, 23)\nportfolio_444 (4970, 23)\nportfolio_445 (4978, 23)\nportfolio_446 (4969, 23)\nportfolio_447 (4978, 23)\nportfolio_448 (4980, 23)\nportfolio_449 (4983, 23)\nportfolio_450 (4971, 23)\nportfolio_451 (4972, 23)\nportfolio_452 (4969, 23)\nportfolio_453 (4969, 23)\nportfolio_454 (4976, 23)\nportfolio_455 (4970, 23)\nportfolio_456 (4972, 23)\nportfolio_457 (4976, 23)\nportfolio_458 (4970, 23)\nportfolio_459 (4972, 23)\nportfolio_460 (4975, 23)\nportfolio_461 (4967, 23)\nportfolio_462 (4970, 23)\nportfolio_463 (4975, 23)\nportfolio_464 (4974, 23)\nportfolio_465 (4974, 23)\nportfolio_466 (4970, 23)\nportfolio_467 (4964, 23)\nportfolio_468 (4967, 23)\nportfolio_469 (4972, 23)\nportfolio_470 (4972, 23)\nportfolio_511 (4973, 23)\nportfolio_512 (4968, 23)\nportfolio_513 (4963, 23)\nportfolio_514 (4966, 23)\nportfolio_515 (4970, 23)\nportfolio_516 (4969, 23)\nportfolio_517 (4967, 23)\nportfolio_518 (4980, 23)\nportfolio_519 (4979, 23)\nportfolio_520 (4965, 23)\nportfolio_531 (4967, 23)\nportfolio_532 (4965, 23)\nportfolio_533 (4969, 23)\nportfolio_534 (4972, 23)\nportfolio_535 (4977, 23)\nportfolio_536 (4965, 23)\nportfolio_537 (4976, 23)\nportfolio_538 (4977, 23)\nportfolio_539 (4962, 23)\nportfolio_540 (4968, 23)\nportfolio_551 (4964, 23)\nportfolio_552 (4971, 23)\nportfolio_553 (4965, 23)\nportfolio_554 (4966, 23)\nportfolio_555 (4969, 23)\nportfolio_556 (4970, 23)\nportfolio_557 (4973, 23)\nportfolio_558 (4977, 23)\nportfolio_559 (4980, 23)\nportfolio_560 (4965, 23)\nportfolio_571 (4969, 23)\nportfolio_572 (4957, 23)\nportfolio_573 (4966, 23)\nportfolio_574 (4970, 23)\nportfolio_575 (4957, 23)\nportfolio_576 (4975, 23)\nportfolio_577 (4972, 23)\nportfolio_578 (4972, 23)\nportfolio_579 (4971, 23)\nportfolio_580 (4974, 23)\nportfolio_591 (4957, 23)\nportfolio_592 (4959, 23)\nportfolio_593 (4947, 23)\nportfolio_594 (4958, 23)\nportfolio_595 (4949, 23)\nportfolio_596 (4949, 23)\nportfolio_597 (4953, 23)\nportfolio_598 (4942, 23)\nportfolio_599 (4951, 23)\nportfolio_600 (4945, 23)\n",
          "output_type": "stream"
        }
      ]
    },
    {
      "cell_type": "code",
      "source": [
        "df_test_final = features_to_testing_df(test_portfolios_dict)"
      ],
      "metadata": {
        "execution": {
          "iopub.status.busy": "2023-12-02T04:25:27.349746Z",
          "iopub.execute_input": "2023-12-02T04:25:27.350002Z",
          "iopub.status.idle": "2023-12-02T04:25:27.989608Z",
          "shell.execute_reply.started": "2023-12-02T04:25:27.349960Z",
          "shell.execute_reply": "2023-12-02T04:25:27.988697Z"
        },
        "trusted": true,
        "id": "KL7LrvRWljGH"
      },
      "execution_count": null,
      "outputs": []
    },
    {
      "cell_type": "code",
      "source": [
        "def generate_test_results(regressor, X_test, output_dir):\n",
        "    # for each policy\n",
        "    result_data = collections.OrderedDict()\n",
        "    portfolio_ids_df = X_test.iloc[:, 0:1]\n",
        "    X_test_features = X_test.iloc[:, 1:]\n",
        "\n",
        "    y_pred = regressor.predict(np.nan_to_num(X_test_features.to_numpy()))\n",
        "    loss_ratio = y_pred/X_test['Annual_Premium']\n",
        "    loss_ratio_log = np.log(loss_ratio)\n",
        "    loss_ratio_log_df = loss_ratio_log.to_frame(name='ln_LR')\n",
        "    result_df = portfolio_ids_df.join(loss_ratio_log_df, how='outer')\n",
        "\n",
        "    result_df.to_csv('output.csv', index=False)"
      ],
      "metadata": {
        "execution": {
          "iopub.status.busy": "2023-12-02T04:25:27.990716Z",
          "iopub.execute_input": "2023-12-02T04:25:27.990943Z",
          "iopub.status.idle": "2023-12-02T04:25:27.996014Z",
          "shell.execute_reply.started": "2023-12-02T04:25:27.990922Z",
          "shell.execute_reply": "2023-12-02T04:25:27.995453Z"
        },
        "trusted": true,
        "id": "y_hWtJ7dljGH"
      },
      "execution_count": null,
      "outputs": []
    },
    {
      "cell_type": "code",
      "source": [
        "generate_test_results(knn_regressor, df_test_final, '')"
      ],
      "metadata": {
        "execution": {
          "iopub.status.busy": "2023-12-02T04:25:27.996663Z",
          "iopub.execute_input": "2023-12-02T04:25:27.996875Z",
          "iopub.status.idle": "2023-12-02T04:25:28.015200Z",
          "shell.execute_reply.started": "2023-12-02T04:25:27.996856Z",
          "shell.execute_reply": "2023-12-02T04:25:28.014221Z"
        },
        "trusted": true,
        "id": "yjzt18fLljGH"
      },
      "execution_count": null,
      "outputs": []
    }
  ]
}