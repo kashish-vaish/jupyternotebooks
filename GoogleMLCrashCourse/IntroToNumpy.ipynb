{
  "nbformat": 4,
  "nbformat_minor": 0,
  "metadata": {
    "colab": {
      "provenance": [],
      "authorship_tag": "ABX9TyMey4BCT3MVCBcf5LaI+rkq",
      "include_colab_link": true
    },
    "kernelspec": {
      "name": "python3",
      "display_name": "Python 3"
    },
    "language_info": {
      "name": "python"
    }
  },
  "cells": [
    {
      "cell_type": "markdown",
      "metadata": {
        "id": "view-in-github",
        "colab_type": "text"
      },
      "source": [
        "<a href=\"https://colab.research.google.com/github/kashish-vaish/jupyternotebooks/blob/main/GoogleMLCrashCourse/IntroToNumpy.ipynb\" target=\"_parent\"><img src=\"https://colab.research.google.com/assets/colab-badge.svg\" alt=\"Open In Colab\"/></a>"
      ]
    },
    {
      "cell_type": "code",
      "execution_count": 1,
      "metadata": {
        "id": "3iWYrJfRp4Td"
      },
      "outputs": [],
      "source": [
        "import numpy as np"
      ]
    },
    {
      "cell_type": "code",
      "source": [
        "#Creating 1-D arrays\n",
        "one_dim_arry = np.array([1,2,3,4,5])\n",
        "print(one_dim_arry)"
      ],
      "metadata": {
        "colab": {
          "base_uri": "https://localhost:8080/"
        },
        "id": "qMr1y0W4qeHY",
        "outputId": "c75c8204-02d0-4ec6-8dcf-c853ccb0655f"
      },
      "execution_count": 2,
      "outputs": [
        {
          "output_type": "stream",
          "name": "stdout",
          "text": [
            "[1 2 3 4 5]\n"
          ]
        }
      ]
    },
    {
      "cell_type": "code",
      "source": [
        "#Creating 2-D arrays\n",
        "two_dim_arry = np.array([[1,1],[2,3],[6,9]])\n",
        "print(two_dim_arry)"
      ],
      "metadata": {
        "colab": {
          "base_uri": "https://localhost:8080/"
        },
        "id": "3XgalZqkqn5w",
        "outputId": "0f280532-ffea-4dbe-8823-25702bef1e0c"
      },
      "execution_count": 4,
      "outputs": [
        {
          "output_type": "stream",
          "name": "stdout",
          "text": [
            "[[1 1]\n",
            " [2 3]\n",
            " [6 9]]\n"
          ]
        }
      ]
    },
    {
      "cell_type": "code",
      "source": [
        "#Populating Zero array\n",
        "zero_one_dim_array = np.zeros(5)\n",
        "print(zero_one_dim_array)\n",
        "\n",
        "zero_two_dim_array = np.zeros((5,5))\n",
        "print(zero_two_dim_array)"
      ],
      "metadata": {
        "colab": {
          "base_uri": "https://localhost:8080/"
        },
        "id": "cA51P0DEq7si",
        "outputId": "6a698b44-27c9-4f35-dbc6-9b2a7eabad22"
      },
      "execution_count": 6,
      "outputs": [
        {
          "output_type": "stream",
          "name": "stdout",
          "text": [
            "[0. 0. 0. 0. 0.]\n",
            "[[0. 0. 0. 0. 0.]\n",
            " [0. 0. 0. 0. 0.]\n",
            " [0. 0. 0. 0. 0.]\n",
            " [0. 0. 0. 0. 0.]\n",
            " [0. 0. 0. 0. 0.]]\n"
          ]
        }
      ]
    },
    {
      "cell_type": "code",
      "source": [
        "#Printing ones array\n",
        "ones_one_dim_array = np.ones(5)\n",
        "print(ones_one_dim_array)\n",
        "\n",
        "ones_two_dim_array = np.ones((5,5))\n",
        "print(ones_two_dim_array)"
      ],
      "metadata": {
        "colab": {
          "base_uri": "https://localhost:8080/"
        },
        "id": "n3xHxaBCrLmo",
        "outputId": "38096f00-45f8-43ba-db1a-a14624906416"
      },
      "execution_count": 7,
      "outputs": [
        {
          "output_type": "stream",
          "name": "stdout",
          "text": [
            "[1. 1. 1. 1. 1.]\n",
            "[[1. 1. 1. 1. 1.]\n",
            " [1. 1. 1. 1. 1.]\n",
            " [1. 1. 1. 1. 1.]\n",
            " [1. 1. 1. 1. 1.]\n",
            " [1. 1. 1. 1. 1.]]\n"
          ]
        }
      ]
    },
    {
      "cell_type": "code",
      "source": [
        "#Generate a sequence, it includes lower bound but not upper bound\n",
        "seq_arr = np.arange(5,12)\n",
        "print(seq_arr)"
      ],
      "metadata": {
        "colab": {
          "base_uri": "https://localhost:8080/"
        },
        "id": "C3MlUeumsUUm",
        "outputId": "3d235d6b-2b5d-4909-f644-b96cf2484560"
      },
      "execution_count": 11,
      "outputs": [
        {
          "output_type": "stream",
          "name": "stdout",
          "text": [
            "[ 5  6  7  8  9 10 11]\n"
          ]
        }
      ]
    }
  ]
}