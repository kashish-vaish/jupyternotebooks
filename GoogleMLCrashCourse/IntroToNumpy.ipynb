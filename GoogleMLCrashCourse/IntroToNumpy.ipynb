{
  "nbformat": 4,
  "nbformat_minor": 0,
  "metadata": {
    "colab": {
      "provenance": [],
      "authorship_tag": "ABX9TyNAgx7dOthLme/aCHDPcACu",
      "include_colab_link": true
    },
    "kernelspec": {
      "name": "python3",
      "display_name": "Python 3"
    },
    "language_info": {
      "name": "python"
    }
  },
  "cells": [
    {
      "cell_type": "markdown",
      "metadata": {
        "id": "view-in-github",
        "colab_type": "text"
      },
      "source": [
        "<a href=\"https://colab.research.google.com/github/kashish-vaish/jupyternotebooks/blob/main/GoogleMLCrashCourse/IntroToNumpy.ipynb\" target=\"_parent\"><img src=\"https://colab.research.google.com/assets/colab-badge.svg\" alt=\"Open In Colab\"/></a>"
      ]
    },
    {
      "cell_type": "code",
      "execution_count": 1,
      "metadata": {
        "id": "3iWYrJfRp4Td"
      },
      "outputs": [],
      "source": [
        "import numpy as np"
      ]
    },
    {
      "cell_type": "code",
      "source": [
        "#Creating 1-D arrays\n",
        "one_dim_arry = np.array([1,2,3,4,5])\n",
        "print(one_dim_arry)"
      ],
      "metadata": {
        "colab": {
          "base_uri": "https://localhost:8080/"
        },
        "id": "qMr1y0W4qeHY",
        "outputId": "c75c8204-02d0-4ec6-8dcf-c853ccb0655f"
      },
      "execution_count": 2,
      "outputs": [
        {
          "output_type": "stream",
          "name": "stdout",
          "text": [
            "[1 2 3 4 5]\n"
          ]
        }
      ]
    },
    {
      "cell_type": "code",
      "source": [
        "#Creating 2-D arrays\n",
        "two_dim_arry = np.array([[1,1],[2,3],[6,9]])\n",
        "print(two_dim_arry)"
      ],
      "metadata": {
        "colab": {
          "base_uri": "https://localhost:8080/"
        },
        "id": "3XgalZqkqn5w",
        "outputId": "0f280532-ffea-4dbe-8823-25702bef1e0c"
      },
      "execution_count": 4,
      "outputs": [
        {
          "output_type": "stream",
          "name": "stdout",
          "text": [
            "[[1 1]\n",
            " [2 3]\n",
            " [6 9]]\n"
          ]
        }
      ]
    },
    {
      "cell_type": "code",
      "source": [
        "#Populating Zero array\n",
        "zero_one_dim_array = np.zeros(5)\n",
        "print(zero_one_dim_array)\n",
        "\n",
        "zero_two_dim_array = np.zeros((5,5))\n",
        "print(zero_two_dim_array)"
      ],
      "metadata": {
        "colab": {
          "base_uri": "https://localhost:8080/"
        },
        "id": "cA51P0DEq7si",
        "outputId": "6a698b44-27c9-4f35-dbc6-9b2a7eabad22"
      },
      "execution_count": 6,
      "outputs": [
        {
          "output_type": "stream",
          "name": "stdout",
          "text": [
            "[0. 0. 0. 0. 0.]\n",
            "[[0. 0. 0. 0. 0.]\n",
            " [0. 0. 0. 0. 0.]\n",
            " [0. 0. 0. 0. 0.]\n",
            " [0. 0. 0. 0. 0.]\n",
            " [0. 0. 0. 0. 0.]]\n"
          ]
        }
      ]
    },
    {
      "cell_type": "code",
      "source": [
        "#Printing ones array\n",
        "ones_one_dim_array = np.ones(5)\n",
        "print(ones_one_dim_array)\n",
        "\n",
        "ones_two_dim_array = np.ones((5,5))\n",
        "print(ones_two_dim_array)"
      ],
      "metadata": {
        "colab": {
          "base_uri": "https://localhost:8080/"
        },
        "id": "n3xHxaBCrLmo",
        "outputId": "38096f00-45f8-43ba-db1a-a14624906416"
      },
      "execution_count": 7,
      "outputs": [
        {
          "output_type": "stream",
          "name": "stdout",
          "text": [
            "[1. 1. 1. 1. 1.]\n",
            "[[1. 1. 1. 1. 1.]\n",
            " [1. 1. 1. 1. 1.]\n",
            " [1. 1. 1. 1. 1.]\n",
            " [1. 1. 1. 1. 1.]\n",
            " [1. 1. 1. 1. 1.]]\n"
          ]
        }
      ]
    },
    {
      "cell_type": "code",
      "source": [
        "#Generate a sequence, it includes lower bound but not upper bound\n",
        "seq_arr = np.arange(5,12)\n",
        "print(seq_arr)"
      ],
      "metadata": {
        "colab": {
          "base_uri": "https://localhost:8080/"
        },
        "id": "C3MlUeumsUUm",
        "outputId": "3d235d6b-2b5d-4909-f644-b96cf2484560"
      },
      "execution_count": 11,
      "outputs": [
        {
          "output_type": "stream",
          "name": "stdout",
          "text": [
            "[ 5  6  7  8  9 10 11]\n"
          ]
        }
      ]
    },
    {
      "cell_type": "code",
      "source": [
        "#1-D array containing Random integers between 50 and 100\n",
        "rand_arry = np.random.randint(50,101,size=(6,))\n",
        "print(rand_arry)\n",
        "\n",
        "#2-D array containing Random integers between 50 and 100\n",
        "rand_arry = np.random.randint(50,101,size=(6,2))\n",
        "print(rand_arry)"
      ],
      "metadata": {
        "colab": {
          "base_uri": "https://localhost:8080/"
        },
        "id": "EEUAkRhItWM-",
        "outputId": "10fd010f-26d7-44a8-a6db-413dda28ebe1"
      },
      "execution_count": 17,
      "outputs": [
        {
          "output_type": "stream",
          "name": "stdout",
          "text": [
            "[73 74 71 95 58 80]\n",
            "[[63 91]\n",
            " [70 60]\n",
            " [63 51]\n",
            " [68 77]\n",
            " [69 94]\n",
            " [62 55]]\n"
          ]
        }
      ]
    },
    {
      "cell_type": "code",
      "source": [
        "#1-d array containing random floats between 0 and 1\n",
        "rand_float = np.random.random((6,))\n",
        "print(rand_float)\n",
        "\n",
        "#2-d array containing random floats between 0 and 1\n",
        "rand_float = np.random.random((6,2))\n",
        "print(rand_float)"
      ],
      "metadata": {
        "colab": {
          "base_uri": "https://localhost:8080/"
        },
        "id": "Y22OOm1Uw366",
        "outputId": "ac6cd30e-1511-4d99-e1b8-ca9814fa96fe"
      },
      "execution_count": 19,
      "outputs": [
        {
          "output_type": "stream",
          "name": "stdout",
          "text": [
            "[0.52144377 0.73521008 0.98616988 0.85269871 0.41297831 0.48479223]\n",
            "[[0.41616192 0.63531723]\n",
            " [0.16378777 0.77584662]\n",
            " [0.67001233 0.13865899]\n",
            " [0.46359133 0.85704629]\n",
            " [0.64134857 0.15161576]\n",
            " [0.45077606 0.34688514]]\n"
          ]
        }
      ]
    },
    {
      "cell_type": "code",
      "source": [
        "#Mathematical operations\n",
        "rand_float = np.random.random((6,2))\n",
        "print(rand_float)\n",
        "rand_float = rand_float +2.0\n",
        "print(rand_float)\n",
        "\n",
        "rand_float = np.random.random((6,2))\n",
        "print(rand_float)\n",
        "rand_float = rand_float * 3\n",
        "print(rand_float)"
      ],
      "metadata": {
        "colab": {
          "base_uri": "https://localhost:8080/"
        },
        "id": "EG8A8sKqxTps",
        "outputId": "a8418d13-1aa4-4cf7-91fb-cda7f32adb38"
      },
      "execution_count": 23,
      "outputs": [
        {
          "output_type": "stream",
          "name": "stdout",
          "text": [
            "[[0.17854161 0.28452064]\n",
            " [0.91305831 0.09220308]\n",
            " [0.60744609 0.70314106]\n",
            " [0.26930666 0.53622245]\n",
            " [0.50867326 0.16646264]\n",
            " [0.77884252 0.29602937]]\n",
            "[[2.17854161 2.28452064]\n",
            " [2.91305831 2.09220308]\n",
            " [2.60744609 2.70314106]\n",
            " [2.26930666 2.53622245]\n",
            " [2.50867326 2.16646264]\n",
            " [2.77884252 2.29602937]]\n",
            "[[0.98683063 0.18028531]\n",
            " [0.47237625 0.40080637]\n",
            " [0.93671982 0.27698796]\n",
            " [0.40343387 0.3738858 ]\n",
            " [0.44100968 0.97328597]\n",
            " [0.67495304 0.0688897 ]]\n",
            "[[2.9604919  0.54085592]\n",
            " [1.41712874 1.20241911]\n",
            " [2.81015947 0.83096388]\n",
            " [1.2103016  1.12165739]\n",
            " [1.32302903 2.91985792]\n",
            " [2.02485911 0.20666909]]\n"
          ]
        }
      ]
    },
    {
      "cell_type": "markdown",
      "source": [
        "Assign a sequence of integers from 6 to 20 (inclusive) to a NumPy array named feature.\n",
        "Assign 15 values to a NumPy array named label such that:\n",
        "label = (3)(feature) + 4"
      ],
      "metadata": {
        "id": "cAg3dO4syPFC"
      }
    },
    {
      "cell_type": "code",
      "source": [
        "#Create a Linear Dataset\n",
        "\n",
        "#creating a feature array\n",
        "\n",
        "features = np.arange(6,21)\n",
        "print(features)\n",
        "label = ( features *3 )+4\n",
        "print(label)"
      ],
      "metadata": {
        "colab": {
          "base_uri": "https://localhost:8080/"
        },
        "id": "yX_zA00DxmI8",
        "outputId": "f183273e-138f-4b25-a27e-d0bfe071f39e"
      },
      "execution_count": 25,
      "outputs": [
        {
          "output_type": "stream",
          "name": "stdout",
          "text": [
            "[ 6  7  8  9 10 11 12 13 14 15 16 17 18 19 20]\n",
            "[22 25 28 31 34 37 40 43 46 49 52 55 58 61 64]\n"
          ]
        }
      ]
    },
    {
      "cell_type": "code",
      "source": [
        "#Adding noise\n",
        "noise = np.random.random(label.size)\n",
        "noise = (noise*4)-2\n",
        "print(noise)\n",
        "print(label)\n",
        "label =label +noise\n",
        "print(label)"
      ],
      "metadata": {
        "colab": {
          "base_uri": "https://localhost:8080/"
        },
        "id": "76vMSctfyg88",
        "outputId": "33ce4bd1-20bb-4089-8e26-32294bbddb3e"
      },
      "execution_count": 30,
      "outputs": [
        {
          "output_type": "stream",
          "name": "stdout",
          "text": [
            "[-1.62177809 -0.19605117  1.8316259   1.1725559  -0.69086798  0.56170119\n",
            "  0.31431571  0.42315818 -1.09149688 -0.20712457  1.35163489 -0.36865789\n",
            " -0.97566749  0.54887706  1.26351741]\n",
            "[22 25 28 31 34 37 40 43 46 49 52 55 58 61 64]\n",
            "[20.37822191 24.80394883 29.8316259  32.1725559  33.30913202 37.56170119\n",
            " 40.31431571 43.42315818 44.90850312 48.79287543 53.35163489 54.63134211\n",
            " 57.02433251 61.54887706 65.26351741]\n"
          ]
        }
      ]
    }
  ]
}